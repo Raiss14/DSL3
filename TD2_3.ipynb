{
  "cells": [
    {
      "cell_type": "markdown",
      "metadata": {
        "id": "view-in-github",
        "colab_type": "text"
      },
      "source": [
        "<a href=\"https://colab.research.google.com/github/Raiss14/DSL3/blob/main/TD2_3.ipynb\" target=\"_parent\"><img src=\"https://colab.research.google.com/assets/colab-badge.svg\" alt=\"Open In Colab\"/></a>"
      ]
    },
    {
      "cell_type": "markdown",
      "metadata": {
        "id": "WcBBqHK47npl"
      },
      "source": [
        "# Advanced clustering on real-world data\n",
        "\n",
        "For this practical, you will work in groups (between 2 and 4). You will apply the questions in this notebook to your assigned dataset. (Note that some of the datasets are very large (>10k samples). This might make the execution of some algorithms very slow. If that is the case, do not hesitate to talk to your teacher.)"
      ]
    },
    {
      "cell_type": "markdown",
      "metadata": {
        "id": "WZe0qy7e8BGa"
      },
      "source": [
        "**To choose the dataset, you can choose among the following ones: https://docs.google.com/spreadsheets/d/1TAJ_lEyOs6UnGoT13BLYU7jzVS2ts3wgomZ5GmjdnNo/edit?usp=sharing.**\n",
        "\n",
        "**Once you have chosen your dataset and your team members, you should confirm it with your TD instructor.**\n",
        "\n",
        "Then, you can register in eCampus with the corresponding group.\n",
        "\n",
        "**You should upload this notebook filled in eCampus before Sunday 2 November at 11.59pm.**\n",
        "\n",
        "If the submission in eCampus is not working, you can send it to either **massinissa.hamidi@univ-evry.fr** or **kevin.dradjat@univ-evry.fr**\n"
      ]
    },
    {
      "cell_type": "markdown",
      "metadata": {
        "id": "2xxDgKZV8BGb"
      },
      "source": [
        "We will spend two practical sessions on this notebook: during the first session, you will apply K-Means and Hierarchical clustering. During the second session, you will apply Spectral clustering and compare your obtained results.\n",
        "\n",
        "Most cells in this notebook are blank, you must fill them in either with code or with written interpretation. Your grade will mostly depend on the quality of your interpretations, make sure to relate your conclusions to the context of your dataset."
      ]
    },
    {
      "cell_type": "markdown",
      "metadata": {
        "id": "aN9tGsOndt1Q"
      },
      "source": [
        "## TD2 (part II): K-means and Hierarchical clustering\n"
      ]
    },
    {
      "cell_type": "markdown",
      "metadata": {
        "id": "M3e0AXtidt1U"
      },
      "source": [
        "### Package import"
      ]
    },
    {
      "cell_type": "markdown",
      "metadata": {
        "id": "cGTYtotIRPoy"
      },
      "source": [
        "**Tip**: look at the documentation of the packages and methods imported, they can help you answer some questions."
      ]
    },
    {
      "cell_type": "code",
      "execution_count": null,
      "metadata": {
        "id": "1wv8EMmndt1W"
      },
      "outputs": [],
      "source": [
        "import numpy as np\n",
        "import matplotlib.pyplot as plt\n",
        "import pandas as pd\n",
        "import seaborn as sns\n",
        "from sklearn.cluster import KMeans, AgglomerativeClustering, SpectralClustering\n",
        "from sklearn.metrics import silhouette_score\n",
        "from sklearn.preprocessing import LabelEncoder, StandardScaler"
      ]
    },
    {
      "cell_type": "markdown",
      "metadata": {
        "id": "im2nvK9ldt1W"
      },
      "source": [
        "Load the dataset, separate the labels from the variables. In some cases, you might also want to drop some variables (e.g. names, identifiers, anything that has one unique value per sample that will not help you form groups)."
      ]
    },
    {
      "cell_type": "code",
      "execution_count": 2,
      "metadata": {
        "id": "n9LOItPsdt1W",
        "colab": {
          "base_uri": "https://localhost:8080/",
          "height": 73
        },
        "outputId": "16d48a3d-a50c-4430-e892-05dac6853bac"
      },
      "outputs": [
        {
          "output_type": "display_data",
          "data": {
            "text/plain": [
              "<IPython.core.display.HTML object>"
            ],
            "text/html": [
              "\n",
              "     <input type=\"file\" id=\"files-abca38e3-3b3e-4e40-8612-6b255ecbadcd\" name=\"files[]\" multiple disabled\n",
              "        style=\"border:none\" />\n",
              "     <output id=\"result-abca38e3-3b3e-4e40-8612-6b255ecbadcd\">\n",
              "      Upload widget is only available when the cell has been executed in the\n",
              "      current browser session. Please rerun this cell to enable.\n",
              "      </output>\n",
              "      <script>// Copyright 2017 Google LLC\n",
              "//\n",
              "// Licensed under the Apache License, Version 2.0 (the \"License\");\n",
              "// you may not use this file except in compliance with the License.\n",
              "// You may obtain a copy of the License at\n",
              "//\n",
              "//      http://www.apache.org/licenses/LICENSE-2.0\n",
              "//\n",
              "// Unless required by applicable law or agreed to in writing, software\n",
              "// distributed under the License is distributed on an \"AS IS\" BASIS,\n",
              "// WITHOUT WARRANTIES OR CONDITIONS OF ANY KIND, either express or implied.\n",
              "// See the License for the specific language governing permissions and\n",
              "// limitations under the License.\n",
              "\n",
              "/**\n",
              " * @fileoverview Helpers for google.colab Python module.\n",
              " */\n",
              "(function(scope) {\n",
              "function span(text, styleAttributes = {}) {\n",
              "  const element = document.createElement('span');\n",
              "  element.textContent = text;\n",
              "  for (const key of Object.keys(styleAttributes)) {\n",
              "    element.style[key] = styleAttributes[key];\n",
              "  }\n",
              "  return element;\n",
              "}\n",
              "\n",
              "// Max number of bytes which will be uploaded at a time.\n",
              "const MAX_PAYLOAD_SIZE = 100 * 1024;\n",
              "\n",
              "function _uploadFiles(inputId, outputId) {\n",
              "  const steps = uploadFilesStep(inputId, outputId);\n",
              "  const outputElement = document.getElementById(outputId);\n",
              "  // Cache steps on the outputElement to make it available for the next call\n",
              "  // to uploadFilesContinue from Python.\n",
              "  outputElement.steps = steps;\n",
              "\n",
              "  return _uploadFilesContinue(outputId);\n",
              "}\n",
              "\n",
              "// This is roughly an async generator (not supported in the browser yet),\n",
              "// where there are multiple asynchronous steps and the Python side is going\n",
              "// to poll for completion of each step.\n",
              "// This uses a Promise to block the python side on completion of each step,\n",
              "// then passes the result of the previous step as the input to the next step.\n",
              "function _uploadFilesContinue(outputId) {\n",
              "  const outputElement = document.getElementById(outputId);\n",
              "  const steps = outputElement.steps;\n",
              "\n",
              "  const next = steps.next(outputElement.lastPromiseValue);\n",
              "  return Promise.resolve(next.value.promise).then((value) => {\n",
              "    // Cache the last promise value to make it available to the next\n",
              "    // step of the generator.\n",
              "    outputElement.lastPromiseValue = value;\n",
              "    return next.value.response;\n",
              "  });\n",
              "}\n",
              "\n",
              "/**\n",
              " * Generator function which is called between each async step of the upload\n",
              " * process.\n",
              " * @param {string} inputId Element ID of the input file picker element.\n",
              " * @param {string} outputId Element ID of the output display.\n",
              " * @return {!Iterable<!Object>} Iterable of next steps.\n",
              " */\n",
              "function* uploadFilesStep(inputId, outputId) {\n",
              "  const inputElement = document.getElementById(inputId);\n",
              "  inputElement.disabled = false;\n",
              "\n",
              "  const outputElement = document.getElementById(outputId);\n",
              "  outputElement.innerHTML = '';\n",
              "\n",
              "  const pickedPromise = new Promise((resolve) => {\n",
              "    inputElement.addEventListener('change', (e) => {\n",
              "      resolve(e.target.files);\n",
              "    });\n",
              "  });\n",
              "\n",
              "  const cancel = document.createElement('button');\n",
              "  inputElement.parentElement.appendChild(cancel);\n",
              "  cancel.textContent = 'Cancel upload';\n",
              "  const cancelPromise = new Promise((resolve) => {\n",
              "    cancel.onclick = () => {\n",
              "      resolve(null);\n",
              "    };\n",
              "  });\n",
              "\n",
              "  // Wait for the user to pick the files.\n",
              "  const files = yield {\n",
              "    promise: Promise.race([pickedPromise, cancelPromise]),\n",
              "    response: {\n",
              "      action: 'starting',\n",
              "    }\n",
              "  };\n",
              "\n",
              "  cancel.remove();\n",
              "\n",
              "  // Disable the input element since further picks are not allowed.\n",
              "  inputElement.disabled = true;\n",
              "\n",
              "  if (!files) {\n",
              "    return {\n",
              "      response: {\n",
              "        action: 'complete',\n",
              "      }\n",
              "    };\n",
              "  }\n",
              "\n",
              "  for (const file of files) {\n",
              "    const li = document.createElement('li');\n",
              "    li.append(span(file.name, {fontWeight: 'bold'}));\n",
              "    li.append(span(\n",
              "        `(${file.type || 'n/a'}) - ${file.size} bytes, ` +\n",
              "        `last modified: ${\n",
              "            file.lastModifiedDate ? file.lastModifiedDate.toLocaleDateString() :\n",
              "                                    'n/a'} - `));\n",
              "    const percent = span('0% done');\n",
              "    li.appendChild(percent);\n",
              "\n",
              "    outputElement.appendChild(li);\n",
              "\n",
              "    const fileDataPromise = new Promise((resolve) => {\n",
              "      const reader = new FileReader();\n",
              "      reader.onload = (e) => {\n",
              "        resolve(e.target.result);\n",
              "      };\n",
              "      reader.readAsArrayBuffer(file);\n",
              "    });\n",
              "    // Wait for the data to be ready.\n",
              "    let fileData = yield {\n",
              "      promise: fileDataPromise,\n",
              "      response: {\n",
              "        action: 'continue',\n",
              "      }\n",
              "    };\n",
              "\n",
              "    // Use a chunked sending to avoid message size limits. See b/62115660.\n",
              "    let position = 0;\n",
              "    do {\n",
              "      const length = Math.min(fileData.byteLength - position, MAX_PAYLOAD_SIZE);\n",
              "      const chunk = new Uint8Array(fileData, position, length);\n",
              "      position += length;\n",
              "\n",
              "      const base64 = btoa(String.fromCharCode.apply(null, chunk));\n",
              "      yield {\n",
              "        response: {\n",
              "          action: 'append',\n",
              "          file: file.name,\n",
              "          data: base64,\n",
              "        },\n",
              "      };\n",
              "\n",
              "      let percentDone = fileData.byteLength === 0 ?\n",
              "          100 :\n",
              "          Math.round((position / fileData.byteLength) * 100);\n",
              "      percent.textContent = `${percentDone}% done`;\n",
              "\n",
              "    } while (position < fileData.byteLength);\n",
              "  }\n",
              "\n",
              "  // All done.\n",
              "  yield {\n",
              "    response: {\n",
              "      action: 'complete',\n",
              "    }\n",
              "  };\n",
              "}\n",
              "\n",
              "scope.google = scope.google || {};\n",
              "scope.google.colab = scope.google.colab || {};\n",
              "scope.google.colab._files = {\n",
              "  _uploadFiles,\n",
              "  _uploadFilesContinue,\n",
              "};\n",
              "})(self);\n",
              "</script> "
            ]
          },
          "metadata": {}
        },
        {
          "output_type": "stream",
          "name": "stdout",
          "text": [
            "Saving ParisHousingClass.csv to ParisHousingClass (1).csv\n"
          ]
        }
      ],
      "source": [
        "from google.colab import files\n",
        "uploaded = files.upload()\n"
      ]
    },
    {
      "cell_type": "code",
      "execution_count": 4,
      "metadata": {
        "id": "raVit0J7dt1X",
        "colab": {
          "base_uri": "https://localhost:8080/",
          "height": 226
        },
        "outputId": "71908d55-e15d-40bf-bb88-27b4ad2b6018"
      },
      "outputs": [
        {
          "output_type": "execute_result",
          "data": {
            "text/plain": [
              "   squareMeters  numberOfRooms  hasYard  hasPool  floors  cityCode  \\\n",
              "0         75523              3        0        1      63      9373   \n",
              "1         80771             39        1        1      98     39381   \n",
              "2         55712             58        0        1      19     34457   \n",
              "3         32316             47        0        0       6     27939   \n",
              "4         70429             19        1        1      90     38045   \n",
              "\n",
              "   cityPartRange  numPrevOwners  made  isNewBuilt  hasStormProtector  \\\n",
              "0              3              8  2005           0                  1   \n",
              "1              8              6  2015           1                  0   \n",
              "2              6              8  2021           0                  0   \n",
              "3             10              4  2012           0                  1   \n",
              "4              3              7  1990           1                  0   \n",
              "\n",
              "   basement  attic  garage  hasStorageRoom  hasGuestRoom      price category  \n",
              "0      4313   9005     956               0             7  7559081.5    Basic  \n",
              "1      3653   2436     128               1             2  8085989.5   Luxury  \n",
              "2      2937   8852     135               1             9  5574642.1    Basic  \n",
              "3       659   7141     359               0             3  3232561.2    Basic  \n",
              "4      8435   2429     292               1             4  7055052.0   Luxury  "
            ],
            "text/html": [
              "\n",
              "  <div id=\"df-cd83e5d8-0970-4f3d-814b-846f9c002579\" class=\"colab-df-container\">\n",
              "    <div>\n",
              "<style scoped>\n",
              "    .dataframe tbody tr th:only-of-type {\n",
              "        vertical-align: middle;\n",
              "    }\n",
              "\n",
              "    .dataframe tbody tr th {\n",
              "        vertical-align: top;\n",
              "    }\n",
              "\n",
              "    .dataframe thead th {\n",
              "        text-align: right;\n",
              "    }\n",
              "</style>\n",
              "<table border=\"1\" class=\"dataframe\">\n",
              "  <thead>\n",
              "    <tr style=\"text-align: right;\">\n",
              "      <th></th>\n",
              "      <th>squareMeters</th>\n",
              "      <th>numberOfRooms</th>\n",
              "      <th>hasYard</th>\n",
              "      <th>hasPool</th>\n",
              "      <th>floors</th>\n",
              "      <th>cityCode</th>\n",
              "      <th>cityPartRange</th>\n",
              "      <th>numPrevOwners</th>\n",
              "      <th>made</th>\n",
              "      <th>isNewBuilt</th>\n",
              "      <th>hasStormProtector</th>\n",
              "      <th>basement</th>\n",
              "      <th>attic</th>\n",
              "      <th>garage</th>\n",
              "      <th>hasStorageRoom</th>\n",
              "      <th>hasGuestRoom</th>\n",
              "      <th>price</th>\n",
              "      <th>category</th>\n",
              "    </tr>\n",
              "  </thead>\n",
              "  <tbody>\n",
              "    <tr>\n",
              "      <th>0</th>\n",
              "      <td>75523</td>\n",
              "      <td>3</td>\n",
              "      <td>0</td>\n",
              "      <td>1</td>\n",
              "      <td>63</td>\n",
              "      <td>9373</td>\n",
              "      <td>3</td>\n",
              "      <td>8</td>\n",
              "      <td>2005</td>\n",
              "      <td>0</td>\n",
              "      <td>1</td>\n",
              "      <td>4313</td>\n",
              "      <td>9005</td>\n",
              "      <td>956</td>\n",
              "      <td>0</td>\n",
              "      <td>7</td>\n",
              "      <td>7559081.5</td>\n",
              "      <td>Basic</td>\n",
              "    </tr>\n",
              "    <tr>\n",
              "      <th>1</th>\n",
              "      <td>80771</td>\n",
              "      <td>39</td>\n",
              "      <td>1</td>\n",
              "      <td>1</td>\n",
              "      <td>98</td>\n",
              "      <td>39381</td>\n",
              "      <td>8</td>\n",
              "      <td>6</td>\n",
              "      <td>2015</td>\n",
              "      <td>1</td>\n",
              "      <td>0</td>\n",
              "      <td>3653</td>\n",
              "      <td>2436</td>\n",
              "      <td>128</td>\n",
              "      <td>1</td>\n",
              "      <td>2</td>\n",
              "      <td>8085989.5</td>\n",
              "      <td>Luxury</td>\n",
              "    </tr>\n",
              "    <tr>\n",
              "      <th>2</th>\n",
              "      <td>55712</td>\n",
              "      <td>58</td>\n",
              "      <td>0</td>\n",
              "      <td>1</td>\n",
              "      <td>19</td>\n",
              "      <td>34457</td>\n",
              "      <td>6</td>\n",
              "      <td>8</td>\n",
              "      <td>2021</td>\n",
              "      <td>0</td>\n",
              "      <td>0</td>\n",
              "      <td>2937</td>\n",
              "      <td>8852</td>\n",
              "      <td>135</td>\n",
              "      <td>1</td>\n",
              "      <td>9</td>\n",
              "      <td>5574642.1</td>\n",
              "      <td>Basic</td>\n",
              "    </tr>\n",
              "    <tr>\n",
              "      <th>3</th>\n",
              "      <td>32316</td>\n",
              "      <td>47</td>\n",
              "      <td>0</td>\n",
              "      <td>0</td>\n",
              "      <td>6</td>\n",
              "      <td>27939</td>\n",
              "      <td>10</td>\n",
              "      <td>4</td>\n",
              "      <td>2012</td>\n",
              "      <td>0</td>\n",
              "      <td>1</td>\n",
              "      <td>659</td>\n",
              "      <td>7141</td>\n",
              "      <td>359</td>\n",
              "      <td>0</td>\n",
              "      <td>3</td>\n",
              "      <td>3232561.2</td>\n",
              "      <td>Basic</td>\n",
              "    </tr>\n",
              "    <tr>\n",
              "      <th>4</th>\n",
              "      <td>70429</td>\n",
              "      <td>19</td>\n",
              "      <td>1</td>\n",
              "      <td>1</td>\n",
              "      <td>90</td>\n",
              "      <td>38045</td>\n",
              "      <td>3</td>\n",
              "      <td>7</td>\n",
              "      <td>1990</td>\n",
              "      <td>1</td>\n",
              "      <td>0</td>\n",
              "      <td>8435</td>\n",
              "      <td>2429</td>\n",
              "      <td>292</td>\n",
              "      <td>1</td>\n",
              "      <td>4</td>\n",
              "      <td>7055052.0</td>\n",
              "      <td>Luxury</td>\n",
              "    </tr>\n",
              "  </tbody>\n",
              "</table>\n",
              "</div>\n",
              "    <div class=\"colab-df-buttons\">\n",
              "\n",
              "  <div class=\"colab-df-container\">\n",
              "    <button class=\"colab-df-convert\" onclick=\"convertToInteractive('df-cd83e5d8-0970-4f3d-814b-846f9c002579')\"\n",
              "            title=\"Convert this dataframe to an interactive table.\"\n",
              "            style=\"display:none;\">\n",
              "\n",
              "  <svg xmlns=\"http://www.w3.org/2000/svg\" height=\"24px\" viewBox=\"0 -960 960 960\">\n",
              "    <path d=\"M120-120v-720h720v720H120Zm60-500h600v-160H180v160Zm220 220h160v-160H400v160Zm0 220h160v-160H400v160ZM180-400h160v-160H180v160Zm440 0h160v-160H620v160ZM180-180h160v-160H180v160Zm440 0h160v-160H620v160Z\"/>\n",
              "  </svg>\n",
              "    </button>\n",
              "\n",
              "  <style>\n",
              "    .colab-df-container {\n",
              "      display:flex;\n",
              "      gap: 12px;\n",
              "    }\n",
              "\n",
              "    .colab-df-convert {\n",
              "      background-color: #E8F0FE;\n",
              "      border: none;\n",
              "      border-radius: 50%;\n",
              "      cursor: pointer;\n",
              "      display: none;\n",
              "      fill: #1967D2;\n",
              "      height: 32px;\n",
              "      padding: 0 0 0 0;\n",
              "      width: 32px;\n",
              "    }\n",
              "\n",
              "    .colab-df-convert:hover {\n",
              "      background-color: #E2EBFA;\n",
              "      box-shadow: 0px 1px 2px rgba(60, 64, 67, 0.3), 0px 1px 3px 1px rgba(60, 64, 67, 0.15);\n",
              "      fill: #174EA6;\n",
              "    }\n",
              "\n",
              "    .colab-df-buttons div {\n",
              "      margin-bottom: 4px;\n",
              "    }\n",
              "\n",
              "    [theme=dark] .colab-df-convert {\n",
              "      background-color: #3B4455;\n",
              "      fill: #D2E3FC;\n",
              "    }\n",
              "\n",
              "    [theme=dark] .colab-df-convert:hover {\n",
              "      background-color: #434B5C;\n",
              "      box-shadow: 0px 1px 3px 1px rgba(0, 0, 0, 0.15);\n",
              "      filter: drop-shadow(0px 1px 2px rgba(0, 0, 0, 0.3));\n",
              "      fill: #FFFFFF;\n",
              "    }\n",
              "  </style>\n",
              "\n",
              "    <script>\n",
              "      const buttonEl =\n",
              "        document.querySelector('#df-cd83e5d8-0970-4f3d-814b-846f9c002579 button.colab-df-convert');\n",
              "      buttonEl.style.display =\n",
              "        google.colab.kernel.accessAllowed ? 'block' : 'none';\n",
              "\n",
              "      async function convertToInteractive(key) {\n",
              "        const element = document.querySelector('#df-cd83e5d8-0970-4f3d-814b-846f9c002579');\n",
              "        const dataTable =\n",
              "          await google.colab.kernel.invokeFunction('convertToInteractive',\n",
              "                                                    [key], {});\n",
              "        if (!dataTable) return;\n",
              "\n",
              "        const docLinkHtml = 'Like what you see? Visit the ' +\n",
              "          '<a target=\"_blank\" href=https://colab.research.google.com/notebooks/data_table.ipynb>data table notebook</a>'\n",
              "          + ' to learn more about interactive tables.';\n",
              "        element.innerHTML = '';\n",
              "        dataTable['output_type'] = 'display_data';\n",
              "        await google.colab.output.renderOutput(dataTable, element);\n",
              "        const docLink = document.createElement('div');\n",
              "        docLink.innerHTML = docLinkHtml;\n",
              "        element.appendChild(docLink);\n",
              "      }\n",
              "    </script>\n",
              "  </div>\n",
              "\n",
              "\n",
              "    <div id=\"df-6c8f821d-5309-46d6-b224-29c464be9f7e\">\n",
              "      <button class=\"colab-df-quickchart\" onclick=\"quickchart('df-6c8f821d-5309-46d6-b224-29c464be9f7e')\"\n",
              "                title=\"Suggest charts\"\n",
              "                style=\"display:none;\">\n",
              "\n",
              "<svg xmlns=\"http://www.w3.org/2000/svg\" height=\"24px\"viewBox=\"0 0 24 24\"\n",
              "     width=\"24px\">\n",
              "    <g>\n",
              "        <path d=\"M19 3H5c-1.1 0-2 .9-2 2v14c0 1.1.9 2 2 2h14c1.1 0 2-.9 2-2V5c0-1.1-.9-2-2-2zM9 17H7v-7h2v7zm4 0h-2V7h2v10zm4 0h-2v-4h2v4z\"/>\n",
              "    </g>\n",
              "</svg>\n",
              "      </button>\n",
              "\n",
              "<style>\n",
              "  .colab-df-quickchart {\n",
              "      --bg-color: #E8F0FE;\n",
              "      --fill-color: #1967D2;\n",
              "      --hover-bg-color: #E2EBFA;\n",
              "      --hover-fill-color: #174EA6;\n",
              "      --disabled-fill-color: #AAA;\n",
              "      --disabled-bg-color: #DDD;\n",
              "  }\n",
              "\n",
              "  [theme=dark] .colab-df-quickchart {\n",
              "      --bg-color: #3B4455;\n",
              "      --fill-color: #D2E3FC;\n",
              "      --hover-bg-color: #434B5C;\n",
              "      --hover-fill-color: #FFFFFF;\n",
              "      --disabled-bg-color: #3B4455;\n",
              "      --disabled-fill-color: #666;\n",
              "  }\n",
              "\n",
              "  .colab-df-quickchart {\n",
              "    background-color: var(--bg-color);\n",
              "    border: none;\n",
              "    border-radius: 50%;\n",
              "    cursor: pointer;\n",
              "    display: none;\n",
              "    fill: var(--fill-color);\n",
              "    height: 32px;\n",
              "    padding: 0;\n",
              "    width: 32px;\n",
              "  }\n",
              "\n",
              "  .colab-df-quickchart:hover {\n",
              "    background-color: var(--hover-bg-color);\n",
              "    box-shadow: 0 1px 2px rgba(60, 64, 67, 0.3), 0 1px 3px 1px rgba(60, 64, 67, 0.15);\n",
              "    fill: var(--button-hover-fill-color);\n",
              "  }\n",
              "\n",
              "  .colab-df-quickchart-complete:disabled,\n",
              "  .colab-df-quickchart-complete:disabled:hover {\n",
              "    background-color: var(--disabled-bg-color);\n",
              "    fill: var(--disabled-fill-color);\n",
              "    box-shadow: none;\n",
              "  }\n",
              "\n",
              "  .colab-df-spinner {\n",
              "    border: 2px solid var(--fill-color);\n",
              "    border-color: transparent;\n",
              "    border-bottom-color: var(--fill-color);\n",
              "    animation:\n",
              "      spin 1s steps(1) infinite;\n",
              "  }\n",
              "\n",
              "  @keyframes spin {\n",
              "    0% {\n",
              "      border-color: transparent;\n",
              "      border-bottom-color: var(--fill-color);\n",
              "      border-left-color: var(--fill-color);\n",
              "    }\n",
              "    20% {\n",
              "      border-color: transparent;\n",
              "      border-left-color: var(--fill-color);\n",
              "      border-top-color: var(--fill-color);\n",
              "    }\n",
              "    30% {\n",
              "      border-color: transparent;\n",
              "      border-left-color: var(--fill-color);\n",
              "      border-top-color: var(--fill-color);\n",
              "      border-right-color: var(--fill-color);\n",
              "    }\n",
              "    40% {\n",
              "      border-color: transparent;\n",
              "      border-right-color: var(--fill-color);\n",
              "      border-top-color: var(--fill-color);\n",
              "    }\n",
              "    60% {\n",
              "      border-color: transparent;\n",
              "      border-right-color: var(--fill-color);\n",
              "    }\n",
              "    80% {\n",
              "      border-color: transparent;\n",
              "      border-right-color: var(--fill-color);\n",
              "      border-bottom-color: var(--fill-color);\n",
              "    }\n",
              "    90% {\n",
              "      border-color: transparent;\n",
              "      border-bottom-color: var(--fill-color);\n",
              "    }\n",
              "  }\n",
              "</style>\n",
              "\n",
              "      <script>\n",
              "        async function quickchart(key) {\n",
              "          const quickchartButtonEl =\n",
              "            document.querySelector('#' + key + ' button');\n",
              "          quickchartButtonEl.disabled = true;  // To prevent multiple clicks.\n",
              "          quickchartButtonEl.classList.add('colab-df-spinner');\n",
              "          try {\n",
              "            const charts = await google.colab.kernel.invokeFunction(\n",
              "                'suggestCharts', [key], {});\n",
              "          } catch (error) {\n",
              "            console.error('Error during call to suggestCharts:', error);\n",
              "          }\n",
              "          quickchartButtonEl.classList.remove('colab-df-spinner');\n",
              "          quickchartButtonEl.classList.add('colab-df-quickchart-complete');\n",
              "        }\n",
              "        (() => {\n",
              "          let quickchartButtonEl =\n",
              "            document.querySelector('#df-6c8f821d-5309-46d6-b224-29c464be9f7e button');\n",
              "          quickchartButtonEl.style.display =\n",
              "            google.colab.kernel.accessAllowed ? 'block' : 'none';\n",
              "        })();\n",
              "      </script>\n",
              "    </div>\n",
              "\n",
              "    </div>\n",
              "  </div>\n"
            ],
            "application/vnd.google.colaboratory.intrinsic+json": {
              "type": "dataframe",
              "variable_name": "data",
              "summary": "{\n  \"name\": \"data\",\n  \"rows\": 10000,\n  \"fields\": [\n    {\n      \"column\": \"squareMeters\",\n      \"properties\": {\n        \"dtype\": \"number\",\n        \"std\": 28774,\n        \"min\": 89,\n        \"max\": 99999,\n        \"num_unique_values\": 9483,\n        \"samples\": [\n          68122,\n          7199,\n          6415\n        ],\n        \"semantic_type\": \"\",\n        \"description\": \"\"\n      }\n    },\n    {\n      \"column\": \"numberOfRooms\",\n      \"properties\": {\n        \"dtype\": \"number\",\n        \"std\": 28,\n        \"min\": 1,\n        \"max\": 100,\n        \"num_unique_values\": 100,\n        \"samples\": [\n          2,\n          73,\n          68\n        ],\n        \"semantic_type\": \"\",\n        \"description\": \"\"\n      }\n    },\n    {\n      \"column\": \"hasYard\",\n      \"properties\": {\n        \"dtype\": \"number\",\n        \"std\": 0,\n        \"min\": 0,\n        \"max\": 1,\n        \"num_unique_values\": 2,\n        \"samples\": [\n          1,\n          0\n        ],\n        \"semantic_type\": \"\",\n        \"description\": \"\"\n      }\n    },\n    {\n      \"column\": \"hasPool\",\n      \"properties\": {\n        \"dtype\": \"number\",\n        \"std\": 0,\n        \"min\": 0,\n        \"max\": 1,\n        \"num_unique_values\": 2,\n        \"samples\": [\n          0,\n          1\n        ],\n        \"semantic_type\": \"\",\n        \"description\": \"\"\n      }\n    },\n    {\n      \"column\": \"floors\",\n      \"properties\": {\n        \"dtype\": \"number\",\n        \"std\": 28,\n        \"min\": 1,\n        \"max\": 100,\n        \"num_unique_values\": 100,\n        \"samples\": [\n          81,\n          58\n        ],\n        \"semantic_type\": \"\",\n        \"description\": \"\"\n      }\n    },\n    {\n      \"column\": \"cityCode\",\n      \"properties\": {\n        \"dtype\": \"number\",\n        \"std\": 29006,\n        \"min\": 3,\n        \"max\": 99953,\n        \"num_unique_values\": 9509,\n        \"samples\": [\n          22936,\n          67986\n        ],\n        \"semantic_type\": \"\",\n        \"description\": \"\"\n      }\n    },\n    {\n      \"column\": \"cityPartRange\",\n      \"properties\": {\n        \"dtype\": \"number\",\n        \"std\": 2,\n        \"min\": 1,\n        \"max\": 10,\n        \"num_unique_values\": 10,\n        \"samples\": [\n          9,\n          8\n        ],\n        \"semantic_type\": \"\",\n        \"description\": \"\"\n      }\n    },\n    {\n      \"column\": \"numPrevOwners\",\n      \"properties\": {\n        \"dtype\": \"number\",\n        \"std\": 2,\n        \"min\": 1,\n        \"max\": 10,\n        \"num_unique_values\": 10,\n        \"samples\": [\n          1,\n          6\n        ],\n        \"semantic_type\": \"\",\n        \"description\": \"\"\n      }\n    },\n    {\n      \"column\": \"made\",\n      \"properties\": {\n        \"dtype\": \"number\",\n        \"std\": 9,\n        \"min\": 1990,\n        \"max\": 2021,\n        \"num_unique_values\": 32,\n        \"samples\": [\n          2007,\n          2017\n        ],\n        \"semantic_type\": \"\",\n        \"description\": \"\"\n      }\n    },\n    {\n      \"column\": \"isNewBuilt\",\n      \"properties\": {\n        \"dtype\": \"number\",\n        \"std\": 0,\n        \"min\": 0,\n        \"max\": 1,\n        \"num_unique_values\": 2,\n        \"samples\": [\n          1,\n          0\n        ],\n        \"semantic_type\": \"\",\n        \"description\": \"\"\n      }\n    },\n    {\n      \"column\": \"hasStormProtector\",\n      \"properties\": {\n        \"dtype\": \"number\",\n        \"std\": 0,\n        \"min\": 0,\n        \"max\": 1,\n        \"num_unique_values\": 2,\n        \"samples\": [\n          0,\n          1\n        ],\n        \"semantic_type\": \"\",\n        \"description\": \"\"\n      }\n    },\n    {\n      \"column\": \"basement\",\n      \"properties\": {\n        \"dtype\": \"number\",\n        \"std\": 2876,\n        \"min\": 0,\n        \"max\": 10000,\n        \"num_unique_values\": 6352,\n        \"samples\": [\n          9717,\n          102\n        ],\n        \"semantic_type\": \"\",\n        \"description\": \"\"\n      }\n    },\n    {\n      \"column\": \"attic\",\n      \"properties\": {\n        \"dtype\": \"number\",\n        \"std\": 2894,\n        \"min\": 1,\n        \"max\": 10000,\n        \"num_unique_values\": 6267,\n        \"samples\": [\n          2076,\n          6632\n        ],\n        \"semantic_type\": \"\",\n        \"description\": \"\"\n      }\n    },\n    {\n      \"column\": \"garage\",\n      \"properties\": {\n        \"dtype\": \"number\",\n        \"std\": 262,\n        \"min\": 100,\n        \"max\": 1000,\n        \"num_unique_values\": 901,\n        \"samples\": [\n          808,\n          942\n        ],\n        \"semantic_type\": \"\",\n        \"description\": \"\"\n      }\n    },\n    {\n      \"column\": \"hasStorageRoom\",\n      \"properties\": {\n        \"dtype\": \"number\",\n        \"std\": 0,\n        \"min\": 0,\n        \"max\": 1,\n        \"num_unique_values\": 2,\n        \"samples\": [\n          1,\n          0\n        ],\n        \"semantic_type\": \"\",\n        \"description\": \"\"\n      }\n    },\n    {\n      \"column\": \"hasGuestRoom\",\n      \"properties\": {\n        \"dtype\": \"number\",\n        \"std\": 3,\n        \"min\": 0,\n        \"max\": 10,\n        \"num_unique_values\": 11,\n        \"samples\": [\n          1,\n          7\n        ],\n        \"semantic_type\": \"\",\n        \"description\": \"\"\n      }\n    },\n    {\n      \"column\": \"price\",\n      \"properties\": {\n        \"dtype\": \"number\",\n        \"std\": 2877424.109945014,\n        \"min\": 10313.5,\n        \"max\": 10006771.2,\n        \"num_unique_values\": 10000,\n        \"samples\": [\n          7964369.6,\n          3713548.9\n        ],\n        \"semantic_type\": \"\",\n        \"description\": \"\"\n      }\n    },\n    {\n      \"column\": \"category\",\n      \"properties\": {\n        \"dtype\": \"category\",\n        \"num_unique_values\": 2,\n        \"samples\": [\n          \"Luxury\",\n          \"Basic\"\n        ],\n        \"semantic_type\": \"\",\n        \"description\": \"\"\n      }\n    }\n  ]\n}"
            }
          },
          "metadata": {},
          "execution_count": 4
        }
      ],
      "source": [
        "import pandas as pd\n",
        "\n",
        "# Lis ton fichier CSV téléversé\n",
        "data = pd.read_csv(\"ParisHousingClass.csv\")\n",
        "\n",
        "# Affiche les 5 premières lignes pour vérifier\n",
        "data.head()\n",
        "\n"
      ]
    },
    {
      "cell_type": "markdown",
      "metadata": {
        "id": "5jDdbDKcdt1X"
      },
      "source": [
        "### Data preprocessing"
      ]
    },
    {
      "cell_type": "markdown",
      "metadata": {
        "id": "pkQ3dSAFdt1X"
      },
      "source": [
        "Visualize the 10 first rows of both data and classes"
      ]
    },
    {
      "cell_type": "code",
      "execution_count": 6,
      "metadata": {
        "id": "GjrPAKgkdt1X",
        "colab": {
          "base_uri": "https://localhost:8080/",
          "height": 815
        },
        "outputId": "723ab4c4-bf06-47e4-9b0d-6401cc779762"
      },
      "outputs": [
        {
          "output_type": "stream",
          "name": "stdout",
          "text": [
            "Aperçu du dataset :\n"
          ]
        },
        {
          "output_type": "display_data",
          "data": {
            "text/plain": [
              "   squareMeters  numberOfRooms  hasYard  hasPool  floors  cityCode  \\\n",
              "0         75523              3        0        1      63      9373   \n",
              "1         80771             39        1        1      98     39381   \n",
              "2         55712             58        0        1      19     34457   \n",
              "3         32316             47        0        0       6     27939   \n",
              "4         70429             19        1        1      90     38045   \n",
              "5         39223             36        0        1      17     39489   \n",
              "6         58682             10        1        1      99      6450   \n",
              "7         86929            100        1        0      11     98155   \n",
              "8         51522              3        0        0      61      9047   \n",
              "9         39686             42        0        0      15     71019   \n",
              "\n",
              "   cityPartRange  numPrevOwners  made  isNewBuilt  hasStormProtector  \\\n",
              "0              3              8  2005           0                  1   \n",
              "1              8              6  2015           1                  0   \n",
              "2              6              8  2021           0                  0   \n",
              "3             10              4  2012           0                  1   \n",
              "4              3              7  1990           1                  0   \n",
              "5              8              6  2012           0                  1   \n",
              "6             10              9  1995           1                  1   \n",
              "7              3              4  2003           1                  0   \n",
              "8              8              3  2012           1                  1   \n",
              "9              5              8  2021           1                  1   \n",
              "\n",
              "   basement  attic  garage  hasStorageRoom  hasGuestRoom      price category  \n",
              "0      4313   9005     956               0             7  7559081.5    Basic  \n",
              "1      3653   2436     128               1             2  8085989.5   Luxury  \n",
              "2      2937   8852     135               1             9  5574642.1    Basic  \n",
              "3       659   7141     359               0             3  3232561.2    Basic  \n",
              "4      8435   2429     292               1             4  7055052.0   Luxury  \n",
              "5      2009   4552     757               0             1  3926647.2    Basic  \n",
              "6      5930   9453     848               0             5  5876376.5   Luxury  \n",
              "7      6326   4748     654               0            10  8696869.3    Basic  \n",
              "8       632   5792     807               1             5  5154055.2    Basic  \n",
              "9      5198   5342     591               1             3  3970892.1    Basic  "
            ],
            "text/html": [
              "\n",
              "  <div id=\"df-4820bcaa-032a-45c8-a967-1f0c4c699829\" class=\"colab-df-container\">\n",
              "    <div>\n",
              "<style scoped>\n",
              "    .dataframe tbody tr th:only-of-type {\n",
              "        vertical-align: middle;\n",
              "    }\n",
              "\n",
              "    .dataframe tbody tr th {\n",
              "        vertical-align: top;\n",
              "    }\n",
              "\n",
              "    .dataframe thead th {\n",
              "        text-align: right;\n",
              "    }\n",
              "</style>\n",
              "<table border=\"1\" class=\"dataframe\">\n",
              "  <thead>\n",
              "    <tr style=\"text-align: right;\">\n",
              "      <th></th>\n",
              "      <th>squareMeters</th>\n",
              "      <th>numberOfRooms</th>\n",
              "      <th>hasYard</th>\n",
              "      <th>hasPool</th>\n",
              "      <th>floors</th>\n",
              "      <th>cityCode</th>\n",
              "      <th>cityPartRange</th>\n",
              "      <th>numPrevOwners</th>\n",
              "      <th>made</th>\n",
              "      <th>isNewBuilt</th>\n",
              "      <th>hasStormProtector</th>\n",
              "      <th>basement</th>\n",
              "      <th>attic</th>\n",
              "      <th>garage</th>\n",
              "      <th>hasStorageRoom</th>\n",
              "      <th>hasGuestRoom</th>\n",
              "      <th>price</th>\n",
              "      <th>category</th>\n",
              "    </tr>\n",
              "  </thead>\n",
              "  <tbody>\n",
              "    <tr>\n",
              "      <th>0</th>\n",
              "      <td>75523</td>\n",
              "      <td>3</td>\n",
              "      <td>0</td>\n",
              "      <td>1</td>\n",
              "      <td>63</td>\n",
              "      <td>9373</td>\n",
              "      <td>3</td>\n",
              "      <td>8</td>\n",
              "      <td>2005</td>\n",
              "      <td>0</td>\n",
              "      <td>1</td>\n",
              "      <td>4313</td>\n",
              "      <td>9005</td>\n",
              "      <td>956</td>\n",
              "      <td>0</td>\n",
              "      <td>7</td>\n",
              "      <td>7559081.5</td>\n",
              "      <td>Basic</td>\n",
              "    </tr>\n",
              "    <tr>\n",
              "      <th>1</th>\n",
              "      <td>80771</td>\n",
              "      <td>39</td>\n",
              "      <td>1</td>\n",
              "      <td>1</td>\n",
              "      <td>98</td>\n",
              "      <td>39381</td>\n",
              "      <td>8</td>\n",
              "      <td>6</td>\n",
              "      <td>2015</td>\n",
              "      <td>1</td>\n",
              "      <td>0</td>\n",
              "      <td>3653</td>\n",
              "      <td>2436</td>\n",
              "      <td>128</td>\n",
              "      <td>1</td>\n",
              "      <td>2</td>\n",
              "      <td>8085989.5</td>\n",
              "      <td>Luxury</td>\n",
              "    </tr>\n",
              "    <tr>\n",
              "      <th>2</th>\n",
              "      <td>55712</td>\n",
              "      <td>58</td>\n",
              "      <td>0</td>\n",
              "      <td>1</td>\n",
              "      <td>19</td>\n",
              "      <td>34457</td>\n",
              "      <td>6</td>\n",
              "      <td>8</td>\n",
              "      <td>2021</td>\n",
              "      <td>0</td>\n",
              "      <td>0</td>\n",
              "      <td>2937</td>\n",
              "      <td>8852</td>\n",
              "      <td>135</td>\n",
              "      <td>1</td>\n",
              "      <td>9</td>\n",
              "      <td>5574642.1</td>\n",
              "      <td>Basic</td>\n",
              "    </tr>\n",
              "    <tr>\n",
              "      <th>3</th>\n",
              "      <td>32316</td>\n",
              "      <td>47</td>\n",
              "      <td>0</td>\n",
              "      <td>0</td>\n",
              "      <td>6</td>\n",
              "      <td>27939</td>\n",
              "      <td>10</td>\n",
              "      <td>4</td>\n",
              "      <td>2012</td>\n",
              "      <td>0</td>\n",
              "      <td>1</td>\n",
              "      <td>659</td>\n",
              "      <td>7141</td>\n",
              "      <td>359</td>\n",
              "      <td>0</td>\n",
              "      <td>3</td>\n",
              "      <td>3232561.2</td>\n",
              "      <td>Basic</td>\n",
              "    </tr>\n",
              "    <tr>\n",
              "      <th>4</th>\n",
              "      <td>70429</td>\n",
              "      <td>19</td>\n",
              "      <td>1</td>\n",
              "      <td>1</td>\n",
              "      <td>90</td>\n",
              "      <td>38045</td>\n",
              "      <td>3</td>\n",
              "      <td>7</td>\n",
              "      <td>1990</td>\n",
              "      <td>1</td>\n",
              "      <td>0</td>\n",
              "      <td>8435</td>\n",
              "      <td>2429</td>\n",
              "      <td>292</td>\n",
              "      <td>1</td>\n",
              "      <td>4</td>\n",
              "      <td>7055052.0</td>\n",
              "      <td>Luxury</td>\n",
              "    </tr>\n",
              "    <tr>\n",
              "      <th>5</th>\n",
              "      <td>39223</td>\n",
              "      <td>36</td>\n",
              "      <td>0</td>\n",
              "      <td>1</td>\n",
              "      <td>17</td>\n",
              "      <td>39489</td>\n",
              "      <td>8</td>\n",
              "      <td>6</td>\n",
              "      <td>2012</td>\n",
              "      <td>0</td>\n",
              "      <td>1</td>\n",
              "      <td>2009</td>\n",
              "      <td>4552</td>\n",
              "      <td>757</td>\n",
              "      <td>0</td>\n",
              "      <td>1</td>\n",
              "      <td>3926647.2</td>\n",
              "      <td>Basic</td>\n",
              "    </tr>\n",
              "    <tr>\n",
              "      <th>6</th>\n",
              "      <td>58682</td>\n",
              "      <td>10</td>\n",
              "      <td>1</td>\n",
              "      <td>1</td>\n",
              "      <td>99</td>\n",
              "      <td>6450</td>\n",
              "      <td>10</td>\n",
              "      <td>9</td>\n",
              "      <td>1995</td>\n",
              "      <td>1</td>\n",
              "      <td>1</td>\n",
              "      <td>5930</td>\n",
              "      <td>9453</td>\n",
              "      <td>848</td>\n",
              "      <td>0</td>\n",
              "      <td>5</td>\n",
              "      <td>5876376.5</td>\n",
              "      <td>Luxury</td>\n",
              "    </tr>\n",
              "    <tr>\n",
              "      <th>7</th>\n",
              "      <td>86929</td>\n",
              "      <td>100</td>\n",
              "      <td>1</td>\n",
              "      <td>0</td>\n",
              "      <td>11</td>\n",
              "      <td>98155</td>\n",
              "      <td>3</td>\n",
              "      <td>4</td>\n",
              "      <td>2003</td>\n",
              "      <td>1</td>\n",
              "      <td>0</td>\n",
              "      <td>6326</td>\n",
              "      <td>4748</td>\n",
              "      <td>654</td>\n",
              "      <td>0</td>\n",
              "      <td>10</td>\n",
              "      <td>8696869.3</td>\n",
              "      <td>Basic</td>\n",
              "    </tr>\n",
              "    <tr>\n",
              "      <th>8</th>\n",
              "      <td>51522</td>\n",
              "      <td>3</td>\n",
              "      <td>0</td>\n",
              "      <td>0</td>\n",
              "      <td>61</td>\n",
              "      <td>9047</td>\n",
              "      <td>8</td>\n",
              "      <td>3</td>\n",
              "      <td>2012</td>\n",
              "      <td>1</td>\n",
              "      <td>1</td>\n",
              "      <td>632</td>\n",
              "      <td>5792</td>\n",
              "      <td>807</td>\n",
              "      <td>1</td>\n",
              "      <td>5</td>\n",
              "      <td>5154055.2</td>\n",
              "      <td>Basic</td>\n",
              "    </tr>\n",
              "    <tr>\n",
              "      <th>9</th>\n",
              "      <td>39686</td>\n",
              "      <td>42</td>\n",
              "      <td>0</td>\n",
              "      <td>0</td>\n",
              "      <td>15</td>\n",
              "      <td>71019</td>\n",
              "      <td>5</td>\n",
              "      <td>8</td>\n",
              "      <td>2021</td>\n",
              "      <td>1</td>\n",
              "      <td>1</td>\n",
              "      <td>5198</td>\n",
              "      <td>5342</td>\n",
              "      <td>591</td>\n",
              "      <td>1</td>\n",
              "      <td>3</td>\n",
              "      <td>3970892.1</td>\n",
              "      <td>Basic</td>\n",
              "    </tr>\n",
              "  </tbody>\n",
              "</table>\n",
              "</div>\n",
              "    <div class=\"colab-df-buttons\">\n",
              "\n",
              "  <div class=\"colab-df-container\">\n",
              "    <button class=\"colab-df-convert\" onclick=\"convertToInteractive('df-4820bcaa-032a-45c8-a967-1f0c4c699829')\"\n",
              "            title=\"Convert this dataframe to an interactive table.\"\n",
              "            style=\"display:none;\">\n",
              "\n",
              "  <svg xmlns=\"http://www.w3.org/2000/svg\" height=\"24px\" viewBox=\"0 -960 960 960\">\n",
              "    <path d=\"M120-120v-720h720v720H120Zm60-500h600v-160H180v160Zm220 220h160v-160H400v160Zm0 220h160v-160H400v160ZM180-400h160v-160H180v160Zm440 0h160v-160H620v160ZM180-180h160v-160H180v160Zm440 0h160v-160H620v160Z\"/>\n",
              "  </svg>\n",
              "    </button>\n",
              "\n",
              "  <style>\n",
              "    .colab-df-container {\n",
              "      display:flex;\n",
              "      gap: 12px;\n",
              "    }\n",
              "\n",
              "    .colab-df-convert {\n",
              "      background-color: #E8F0FE;\n",
              "      border: none;\n",
              "      border-radius: 50%;\n",
              "      cursor: pointer;\n",
              "      display: none;\n",
              "      fill: #1967D2;\n",
              "      height: 32px;\n",
              "      padding: 0 0 0 0;\n",
              "      width: 32px;\n",
              "    }\n",
              "\n",
              "    .colab-df-convert:hover {\n",
              "      background-color: #E2EBFA;\n",
              "      box-shadow: 0px 1px 2px rgba(60, 64, 67, 0.3), 0px 1px 3px 1px rgba(60, 64, 67, 0.15);\n",
              "      fill: #174EA6;\n",
              "    }\n",
              "\n",
              "    .colab-df-buttons div {\n",
              "      margin-bottom: 4px;\n",
              "    }\n",
              "\n",
              "    [theme=dark] .colab-df-convert {\n",
              "      background-color: #3B4455;\n",
              "      fill: #D2E3FC;\n",
              "    }\n",
              "\n",
              "    [theme=dark] .colab-df-convert:hover {\n",
              "      background-color: #434B5C;\n",
              "      box-shadow: 0px 1px 3px 1px rgba(0, 0, 0, 0.15);\n",
              "      filter: drop-shadow(0px 1px 2px rgba(0, 0, 0, 0.3));\n",
              "      fill: #FFFFFF;\n",
              "    }\n",
              "  </style>\n",
              "\n",
              "    <script>\n",
              "      const buttonEl =\n",
              "        document.querySelector('#df-4820bcaa-032a-45c8-a967-1f0c4c699829 button.colab-df-convert');\n",
              "      buttonEl.style.display =\n",
              "        google.colab.kernel.accessAllowed ? 'block' : 'none';\n",
              "\n",
              "      async function convertToInteractive(key) {\n",
              "        const element = document.querySelector('#df-4820bcaa-032a-45c8-a967-1f0c4c699829');\n",
              "        const dataTable =\n",
              "          await google.colab.kernel.invokeFunction('convertToInteractive',\n",
              "                                                    [key], {});\n",
              "        if (!dataTable) return;\n",
              "\n",
              "        const docLinkHtml = 'Like what you see? Visit the ' +\n",
              "          '<a target=\"_blank\" href=https://colab.research.google.com/notebooks/data_table.ipynb>data table notebook</a>'\n",
              "          + ' to learn more about interactive tables.';\n",
              "        element.innerHTML = '';\n",
              "        dataTable['output_type'] = 'display_data';\n",
              "        await google.colab.output.renderOutput(dataTable, element);\n",
              "        const docLink = document.createElement('div');\n",
              "        docLink.innerHTML = docLinkHtml;\n",
              "        element.appendChild(docLink);\n",
              "      }\n",
              "    </script>\n",
              "  </div>\n",
              "\n",
              "\n",
              "    <div id=\"df-1d0bc5b2-d497-4402-8b9d-e2d5b2eace89\">\n",
              "      <button class=\"colab-df-quickchart\" onclick=\"quickchart('df-1d0bc5b2-d497-4402-8b9d-e2d5b2eace89')\"\n",
              "                title=\"Suggest charts\"\n",
              "                style=\"display:none;\">\n",
              "\n",
              "<svg xmlns=\"http://www.w3.org/2000/svg\" height=\"24px\"viewBox=\"0 0 24 24\"\n",
              "     width=\"24px\">\n",
              "    <g>\n",
              "        <path d=\"M19 3H5c-1.1 0-2 .9-2 2v14c0 1.1.9 2 2 2h14c1.1 0 2-.9 2-2V5c0-1.1-.9-2-2-2zM9 17H7v-7h2v7zm4 0h-2V7h2v10zm4 0h-2v-4h2v4z\"/>\n",
              "    </g>\n",
              "</svg>\n",
              "      </button>\n",
              "\n",
              "<style>\n",
              "  .colab-df-quickchart {\n",
              "      --bg-color: #E8F0FE;\n",
              "      --fill-color: #1967D2;\n",
              "      --hover-bg-color: #E2EBFA;\n",
              "      --hover-fill-color: #174EA6;\n",
              "      --disabled-fill-color: #AAA;\n",
              "      --disabled-bg-color: #DDD;\n",
              "  }\n",
              "\n",
              "  [theme=dark] .colab-df-quickchart {\n",
              "      --bg-color: #3B4455;\n",
              "      --fill-color: #D2E3FC;\n",
              "      --hover-bg-color: #434B5C;\n",
              "      --hover-fill-color: #FFFFFF;\n",
              "      --disabled-bg-color: #3B4455;\n",
              "      --disabled-fill-color: #666;\n",
              "  }\n",
              "\n",
              "  .colab-df-quickchart {\n",
              "    background-color: var(--bg-color);\n",
              "    border: none;\n",
              "    border-radius: 50%;\n",
              "    cursor: pointer;\n",
              "    display: none;\n",
              "    fill: var(--fill-color);\n",
              "    height: 32px;\n",
              "    padding: 0;\n",
              "    width: 32px;\n",
              "  }\n",
              "\n",
              "  .colab-df-quickchart:hover {\n",
              "    background-color: var(--hover-bg-color);\n",
              "    box-shadow: 0 1px 2px rgba(60, 64, 67, 0.3), 0 1px 3px 1px rgba(60, 64, 67, 0.15);\n",
              "    fill: var(--button-hover-fill-color);\n",
              "  }\n",
              "\n",
              "  .colab-df-quickchart-complete:disabled,\n",
              "  .colab-df-quickchart-complete:disabled:hover {\n",
              "    background-color: var(--disabled-bg-color);\n",
              "    fill: var(--disabled-fill-color);\n",
              "    box-shadow: none;\n",
              "  }\n",
              "\n",
              "  .colab-df-spinner {\n",
              "    border: 2px solid var(--fill-color);\n",
              "    border-color: transparent;\n",
              "    border-bottom-color: var(--fill-color);\n",
              "    animation:\n",
              "      spin 1s steps(1) infinite;\n",
              "  }\n",
              "\n",
              "  @keyframes spin {\n",
              "    0% {\n",
              "      border-color: transparent;\n",
              "      border-bottom-color: var(--fill-color);\n",
              "      border-left-color: var(--fill-color);\n",
              "    }\n",
              "    20% {\n",
              "      border-color: transparent;\n",
              "      border-left-color: var(--fill-color);\n",
              "      border-top-color: var(--fill-color);\n",
              "    }\n",
              "    30% {\n",
              "      border-color: transparent;\n",
              "      border-left-color: var(--fill-color);\n",
              "      border-top-color: var(--fill-color);\n",
              "      border-right-color: var(--fill-color);\n",
              "    }\n",
              "    40% {\n",
              "      border-color: transparent;\n",
              "      border-right-color: var(--fill-color);\n",
              "      border-top-color: var(--fill-color);\n",
              "    }\n",
              "    60% {\n",
              "      border-color: transparent;\n",
              "      border-right-color: var(--fill-color);\n",
              "    }\n",
              "    80% {\n",
              "      border-color: transparent;\n",
              "      border-right-color: var(--fill-color);\n",
              "      border-bottom-color: var(--fill-color);\n",
              "    }\n",
              "    90% {\n",
              "      border-color: transparent;\n",
              "      border-bottom-color: var(--fill-color);\n",
              "    }\n",
              "  }\n",
              "</style>\n",
              "\n",
              "      <script>\n",
              "        async function quickchart(key) {\n",
              "          const quickchartButtonEl =\n",
              "            document.querySelector('#' + key + ' button');\n",
              "          quickchartButtonEl.disabled = true;  // To prevent multiple clicks.\n",
              "          quickchartButtonEl.classList.add('colab-df-spinner');\n",
              "          try {\n",
              "            const charts = await google.colab.kernel.invokeFunction(\n",
              "                'suggestCharts', [key], {});\n",
              "          } catch (error) {\n",
              "            console.error('Error during call to suggestCharts:', error);\n",
              "          }\n",
              "          quickchartButtonEl.classList.remove('colab-df-spinner');\n",
              "          quickchartButtonEl.classList.add('colab-df-quickchart-complete');\n",
              "        }\n",
              "        (() => {\n",
              "          let quickchartButtonEl =\n",
              "            document.querySelector('#df-1d0bc5b2-d497-4402-8b9d-e2d5b2eace89 button');\n",
              "          quickchartButtonEl.style.display =\n",
              "            google.colab.kernel.accessAllowed ? 'block' : 'none';\n",
              "        })();\n",
              "      </script>\n",
              "    </div>\n",
              "\n",
              "    </div>\n",
              "  </div>\n"
            ],
            "application/vnd.google.colaboratory.intrinsic+json": {
              "type": "dataframe",
              "summary": "{\n  \"name\": \"display(y\",\n  \"rows\": 10,\n  \"fields\": [\n    {\n      \"column\": \"squareMeters\",\n      \"properties\": {\n        \"dtype\": \"number\",\n        \"std\": 18857,\n        \"min\": 32316,\n        \"max\": 86929,\n        \"num_unique_values\": 10,\n        \"samples\": [\n          51522,\n          80771,\n          39223\n        ],\n        \"semantic_type\": \"\",\n        \"description\": \"\"\n      }\n    },\n    {\n      \"column\": \"numberOfRooms\",\n      \"properties\": {\n        \"dtype\": \"number\",\n        \"std\": 29,\n        \"min\": 3,\n        \"max\": 100,\n        \"num_unique_values\": 9,\n        \"samples\": [\n          100,\n          39,\n          36\n        ],\n        \"semantic_type\": \"\",\n        \"description\": \"\"\n      }\n    },\n    {\n      \"column\": \"hasYard\",\n      \"properties\": {\n        \"dtype\": \"number\",\n        \"std\": 0,\n        \"min\": 0,\n        \"max\": 1,\n        \"num_unique_values\": 2,\n        \"samples\": [\n          1,\n          0\n        ],\n        \"semantic_type\": \"\",\n        \"description\": \"\"\n      }\n    },\n    {\n      \"column\": \"hasPool\",\n      \"properties\": {\n        \"dtype\": \"number\",\n        \"std\": 0,\n        \"min\": 0,\n        \"max\": 1,\n        \"num_unique_values\": 2,\n        \"samples\": [\n          0,\n          1\n        ],\n        \"semantic_type\": \"\",\n        \"description\": \"\"\n      }\n    },\n    {\n      \"column\": \"floors\",\n      \"properties\": {\n        \"dtype\": \"number\",\n        \"std\": 38,\n        \"min\": 6,\n        \"max\": 99,\n        \"num_unique_values\": 10,\n        \"samples\": [\n          61,\n          98\n        ],\n        \"semantic_type\": \"\",\n        \"description\": \"\"\n      }\n    },\n    {\n      \"column\": \"cityCode\",\n      \"properties\": {\n        \"dtype\": \"number\",\n        \"std\": 28820,\n        \"min\": 6450,\n        \"max\": 98155,\n        \"num_unique_values\": 10,\n        \"samples\": [\n          9047,\n          39381\n        ],\n        \"semantic_type\": \"\",\n        \"description\": \"\"\n      }\n    },\n    {\n      \"column\": \"cityPartRange\",\n      \"properties\": {\n        \"dtype\": \"number\",\n        \"std\": 2,\n        \"min\": 3,\n        \"max\": 10,\n        \"num_unique_values\": 5,\n        \"samples\": [\n          8,\n          5\n        ],\n        \"semantic_type\": \"\",\n        \"description\": \"\"\n      }\n    },\n    {\n      \"column\": \"numPrevOwners\",\n      \"properties\": {\n        \"dtype\": \"number\",\n        \"std\": 2,\n        \"min\": 3,\n        \"max\": 9,\n        \"num_unique_values\": 6,\n        \"samples\": [\n          8,\n          6\n        ],\n        \"semantic_type\": \"\",\n        \"description\": \"\"\n      }\n    },\n    {\n      \"column\": \"made\",\n      \"properties\": {\n        \"dtype\": \"number\",\n        \"std\": 10,\n        \"min\": 1990,\n        \"max\": 2021,\n        \"num_unique_values\": 7,\n        \"samples\": [\n          2005,\n          2015\n        ],\n        \"semantic_type\": \"\",\n        \"description\": \"\"\n      }\n    },\n    {\n      \"column\": \"isNewBuilt\",\n      \"properties\": {\n        \"dtype\": \"number\",\n        \"std\": 0,\n        \"min\": 0,\n        \"max\": 1,\n        \"num_unique_values\": 2,\n        \"samples\": [\n          1,\n          0\n        ],\n        \"semantic_type\": \"\",\n        \"description\": \"\"\n      }\n    },\n    {\n      \"column\": \"hasStormProtector\",\n      \"properties\": {\n        \"dtype\": \"number\",\n        \"std\": 0,\n        \"min\": 0,\n        \"max\": 1,\n        \"num_unique_values\": 2,\n        \"samples\": [\n          0,\n          1\n        ],\n        \"semantic_type\": \"\",\n        \"description\": \"\"\n      }\n    },\n    {\n      \"column\": \"basement\",\n      \"properties\": {\n        \"dtype\": \"number\",\n        \"std\": 2539,\n        \"min\": 632,\n        \"max\": 8435,\n        \"num_unique_values\": 10,\n        \"samples\": [\n          632,\n          3653\n        ],\n        \"semantic_type\": \"\",\n        \"description\": \"\"\n      }\n    },\n    {\n      \"column\": \"attic\",\n      \"properties\": {\n        \"dtype\": \"number\",\n        \"std\": 2581,\n        \"min\": 2429,\n        \"max\": 9453,\n        \"num_unique_values\": 10,\n        \"samples\": [\n          5792,\n          2436\n        ],\n        \"semantic_type\": \"\",\n        \"description\": \"\"\n      }\n    },\n    {\n      \"column\": \"garage\",\n      \"properties\": {\n        \"dtype\": \"number\",\n        \"std\": 303,\n        \"min\": 128,\n        \"max\": 956,\n        \"num_unique_values\": 10,\n        \"samples\": [\n          807,\n          128\n        ],\n        \"semantic_type\": \"\",\n        \"description\": \"\"\n      }\n    },\n    {\n      \"column\": \"hasStorageRoom\",\n      \"properties\": {\n        \"dtype\": \"number\",\n        \"std\": 0,\n        \"min\": 0,\n        \"max\": 1,\n        \"num_unique_values\": 2,\n        \"samples\": [\n          1,\n          0\n        ],\n        \"semantic_type\": \"\",\n        \"description\": \"\"\n      }\n    },\n    {\n      \"column\": \"hasGuestRoom\",\n      \"properties\": {\n        \"dtype\": \"number\",\n        \"std\": 2,\n        \"min\": 1,\n        \"max\": 10,\n        \"num_unique_values\": 8,\n        \"samples\": [\n          2,\n          1\n        ],\n        \"semantic_type\": \"\",\n        \"description\": \"\"\n      }\n    },\n    {\n      \"column\": \"price\",\n      \"properties\": {\n        \"dtype\": \"number\",\n        \"std\": 1887962.9090362869,\n        \"min\": 3232561.2,\n        \"max\": 8696869.3,\n        \"num_unique_values\": 10,\n        \"samples\": [\n          5154055.2,\n          8085989.5\n        ],\n        \"semantic_type\": \"\",\n        \"description\": \"\"\n      }\n    },\n    {\n      \"column\": \"category\",\n      \"properties\": {\n        \"dtype\": \"category\",\n        \"num_unique_values\": 2,\n        \"samples\": [\n          \"Luxury\",\n          \"Basic\"\n        ],\n        \"semantic_type\": \"\",\n        \"description\": \"\"\n      }\n    }\n  ]\n}"
            }
          },
          "metadata": {}
        },
        {
          "output_type": "stream",
          "name": "stdout",
          "text": [
            "\n",
            "Aperçu de la colonne 'category' (les classes réelles) :\n"
          ]
        },
        {
          "output_type": "display_data",
          "data": {
            "text/plain": [
              "0     Basic\n",
              "1    Luxury\n",
              "2     Basic\n",
              "3     Basic\n",
              "4    Luxury\n",
              "5     Basic\n",
              "6    Luxury\n",
              "7     Basic\n",
              "8     Basic\n",
              "9     Basic\n",
              "Name: category, dtype: object"
            ],
            "text/html": [
              "<div>\n",
              "<style scoped>\n",
              "    .dataframe tbody tr th:only-of-type {\n",
              "        vertical-align: middle;\n",
              "    }\n",
              "\n",
              "    .dataframe tbody tr th {\n",
              "        vertical-align: top;\n",
              "    }\n",
              "\n",
              "    .dataframe thead th {\n",
              "        text-align: right;\n",
              "    }\n",
              "</style>\n",
              "<table border=\"1\" class=\"dataframe\">\n",
              "  <thead>\n",
              "    <tr style=\"text-align: right;\">\n",
              "      <th></th>\n",
              "      <th>category</th>\n",
              "    </tr>\n",
              "  </thead>\n",
              "  <tbody>\n",
              "    <tr>\n",
              "      <th>0</th>\n",
              "      <td>Basic</td>\n",
              "    </tr>\n",
              "    <tr>\n",
              "      <th>1</th>\n",
              "      <td>Luxury</td>\n",
              "    </tr>\n",
              "    <tr>\n",
              "      <th>2</th>\n",
              "      <td>Basic</td>\n",
              "    </tr>\n",
              "    <tr>\n",
              "      <th>3</th>\n",
              "      <td>Basic</td>\n",
              "    </tr>\n",
              "    <tr>\n",
              "      <th>4</th>\n",
              "      <td>Luxury</td>\n",
              "    </tr>\n",
              "    <tr>\n",
              "      <th>5</th>\n",
              "      <td>Basic</td>\n",
              "    </tr>\n",
              "    <tr>\n",
              "      <th>6</th>\n",
              "      <td>Luxury</td>\n",
              "    </tr>\n",
              "    <tr>\n",
              "      <th>7</th>\n",
              "      <td>Basic</td>\n",
              "    </tr>\n",
              "    <tr>\n",
              "      <th>8</th>\n",
              "      <td>Basic</td>\n",
              "    </tr>\n",
              "    <tr>\n",
              "      <th>9</th>\n",
              "      <td>Basic</td>\n",
              "    </tr>\n",
              "  </tbody>\n",
              "</table>\n",
              "</div><br><label><b>dtype:</b> object</label>"
            ]
          },
          "metadata": {}
        }
      ],
      "source": [
        "# Séparation des données (X = features, y = classe réelle)\n",
        "X = data.drop([\"category\"], axis=1)\n",
        "y = data[\"category\"]\n",
        "\n",
        "# Visualisation des 10 premières lignes\n",
        "print(\"Aperçu du dataset :\")\n",
        "display(data.head(10))\n",
        "\n",
        "print(\"\\nAperçu de la colonne 'category' (les classes réelles) :\")\n",
        "display(y.head(10))\n"
      ]
    },
    {
      "cell_type": "code",
      "execution_count": null,
      "metadata": {
        "id": "I2WoyTNqdt1X"
      },
      "outputs": [],
      "source": []
    },
    {
      "cell_type": "markdown",
      "metadata": {
        "id": "az93YL1Cdt1Y"
      },
      "source": [
        "Are there any missing values (in data)? What type are the variables?"
      ]
    },
    {
      "cell_type": "code",
      "execution_count": 7,
      "metadata": {
        "id": "3_xrw3X0dt1Y",
        "colab": {
          "base_uri": "https://localhost:8080/"
        },
        "outputId": "b2ddd196-d7b4-468f-f3dc-1a2695a710f1"
      },
      "outputs": [
        {
          "output_type": "stream",
          "name": "stdout",
          "text": [
            "Valeurs manquantes par colonne :\n",
            "squareMeters         0\n",
            "numberOfRooms        0\n",
            "hasYard              0\n",
            "hasPool              0\n",
            "floors               0\n",
            "cityCode             0\n",
            "cityPartRange        0\n",
            "numPrevOwners        0\n",
            "made                 0\n",
            "isNewBuilt           0\n",
            "hasStormProtector    0\n",
            "basement             0\n",
            "attic                0\n",
            "garage               0\n",
            "hasStorageRoom       0\n",
            "hasGuestRoom         0\n",
            "price                0\n",
            "category             0\n",
            "dtype: int64\n",
            "\n",
            "Types des variables :\n",
            "squareMeters           int64\n",
            "numberOfRooms          int64\n",
            "hasYard                int64\n",
            "hasPool                int64\n",
            "floors                 int64\n",
            "cityCode               int64\n",
            "cityPartRange          int64\n",
            "numPrevOwners          int64\n",
            "made                   int64\n",
            "isNewBuilt             int64\n",
            "hasStormProtector      int64\n",
            "basement               int64\n",
            "attic                  int64\n",
            "garage                 int64\n",
            "hasStorageRoom         int64\n",
            "hasGuestRoom           int64\n",
            "price                float64\n",
            "category              object\n",
            "dtype: object\n"
          ]
        }
      ],
      "source": [
        "# Vérification des valeurs manquantes\n",
        "print(\"Valeurs manquantes par colonne :\")\n",
        "print(data.isnull().sum())\n",
        "\n",
        "# Type de chaque variable\n",
        "print(\"\\nTypes des variables :\")\n",
        "print(data.dtypes)\n"
      ]
    },
    {
      "cell_type": "markdown",
      "metadata": {
        "id": "3r5hAPHxdt1Y"
      },
      "source": [
        "Use the describe method and explain what you obtain."
      ]
    },
    {
      "cell_type": "code",
      "execution_count": 8,
      "metadata": {
        "id": "9SajknQbdt1Y",
        "colab": {
          "base_uri": "https://localhost:8080/",
          "height": 320
        },
        "outputId": "ced921de-c711-4fb8-bf95-868c399f7317"
      },
      "outputs": [
        {
          "output_type": "execute_result",
          "data": {
            "text/plain": [
              "       squareMeters  numberOfRooms       hasYard       hasPool        floors  \\\n",
              "count   10000.00000   10000.000000  10000.000000  10000.000000  10000.000000   \n",
              "mean    49870.13120      50.358400      0.508700      0.496800     50.276300   \n",
              "std     28774.37535      28.816696      0.499949      0.500015     28.889171   \n",
              "min        89.00000       1.000000      0.000000      0.000000      1.000000   \n",
              "25%     25098.50000      25.000000      0.000000      0.000000     25.000000   \n",
              "50%     50105.50000      50.000000      1.000000      0.000000     50.000000   \n",
              "75%     74609.75000      75.000000      1.000000      1.000000     76.000000   \n",
              "max     99999.00000     100.000000      1.000000      1.000000    100.000000   \n",
              "\n",
              "           cityCode  cityPartRange  numPrevOwners         made    isNewBuilt  \\\n",
              "count  10000.000000   10000.000000   10000.000000  10000.00000  10000.000000   \n",
              "mean   50225.486100       5.510100       5.521700   2005.48850      0.499100   \n",
              "std    29006.675799       2.872024       2.856667      9.30809      0.500024   \n",
              "min        3.000000       1.000000       1.000000   1990.00000      0.000000   \n",
              "25%    24693.750000       3.000000       3.000000   1997.00000      0.000000   \n",
              "50%    50693.000000       5.000000       5.000000   2005.50000      0.000000   \n",
              "75%    75683.250000       8.000000       8.000000   2014.00000      1.000000   \n",
              "max    99953.000000      10.000000      10.000000   2021.00000      1.000000   \n",
              "\n",
              "       hasStormProtector      basement        attic       garage  \\\n",
              "count       10000.000000  10000.000000  10000.00000  10000.00000   \n",
              "mean            0.499900   5033.103900   5028.01060    553.12120   \n",
              "std             0.500025   2876.729545   2894.33221    262.05017   \n",
              "min             0.000000      0.000000      1.00000    100.00000   \n",
              "25%             0.000000   2559.750000   2512.00000    327.75000   \n",
              "50%             0.000000   5092.500000   5045.00000    554.00000   \n",
              "75%             1.000000   7511.250000   7540.50000    777.25000   \n",
              "max             1.000000  10000.000000  10000.00000   1000.00000   \n",
              "\n",
              "       hasStorageRoom  hasGuestRoom         price  \n",
              "count    10000.000000   10000.00000  1.000000e+04  \n",
              "mean         0.503000       4.99460  4.993448e+06  \n",
              "std          0.500016       3.17641  2.877424e+06  \n",
              "min          0.000000       0.00000  1.031350e+04  \n",
              "25%          0.000000       2.00000  2.516402e+06  \n",
              "50%          1.000000       5.00000  5.016180e+06  \n",
              "75%          1.000000       8.00000  7.469092e+06  \n",
              "max          1.000000      10.00000  1.000677e+07  "
            ],
            "text/html": [
              "\n",
              "  <div id=\"df-be5c3a07-19b8-49f9-ace8-fe99d4c85472\" class=\"colab-df-container\">\n",
              "    <div>\n",
              "<style scoped>\n",
              "    .dataframe tbody tr th:only-of-type {\n",
              "        vertical-align: middle;\n",
              "    }\n",
              "\n",
              "    .dataframe tbody tr th {\n",
              "        vertical-align: top;\n",
              "    }\n",
              "\n",
              "    .dataframe thead th {\n",
              "        text-align: right;\n",
              "    }\n",
              "</style>\n",
              "<table border=\"1\" class=\"dataframe\">\n",
              "  <thead>\n",
              "    <tr style=\"text-align: right;\">\n",
              "      <th></th>\n",
              "      <th>squareMeters</th>\n",
              "      <th>numberOfRooms</th>\n",
              "      <th>hasYard</th>\n",
              "      <th>hasPool</th>\n",
              "      <th>floors</th>\n",
              "      <th>cityCode</th>\n",
              "      <th>cityPartRange</th>\n",
              "      <th>numPrevOwners</th>\n",
              "      <th>made</th>\n",
              "      <th>isNewBuilt</th>\n",
              "      <th>hasStormProtector</th>\n",
              "      <th>basement</th>\n",
              "      <th>attic</th>\n",
              "      <th>garage</th>\n",
              "      <th>hasStorageRoom</th>\n",
              "      <th>hasGuestRoom</th>\n",
              "      <th>price</th>\n",
              "    </tr>\n",
              "  </thead>\n",
              "  <tbody>\n",
              "    <tr>\n",
              "      <th>count</th>\n",
              "      <td>10000.00000</td>\n",
              "      <td>10000.000000</td>\n",
              "      <td>10000.000000</td>\n",
              "      <td>10000.000000</td>\n",
              "      <td>10000.000000</td>\n",
              "      <td>10000.000000</td>\n",
              "      <td>10000.000000</td>\n",
              "      <td>10000.000000</td>\n",
              "      <td>10000.00000</td>\n",
              "      <td>10000.000000</td>\n",
              "      <td>10000.000000</td>\n",
              "      <td>10000.000000</td>\n",
              "      <td>10000.00000</td>\n",
              "      <td>10000.00000</td>\n",
              "      <td>10000.000000</td>\n",
              "      <td>10000.00000</td>\n",
              "      <td>1.000000e+04</td>\n",
              "    </tr>\n",
              "    <tr>\n",
              "      <th>mean</th>\n",
              "      <td>49870.13120</td>\n",
              "      <td>50.358400</td>\n",
              "      <td>0.508700</td>\n",
              "      <td>0.496800</td>\n",
              "      <td>50.276300</td>\n",
              "      <td>50225.486100</td>\n",
              "      <td>5.510100</td>\n",
              "      <td>5.521700</td>\n",
              "      <td>2005.48850</td>\n",
              "      <td>0.499100</td>\n",
              "      <td>0.499900</td>\n",
              "      <td>5033.103900</td>\n",
              "      <td>5028.01060</td>\n",
              "      <td>553.12120</td>\n",
              "      <td>0.503000</td>\n",
              "      <td>4.99460</td>\n",
              "      <td>4.993448e+06</td>\n",
              "    </tr>\n",
              "    <tr>\n",
              "      <th>std</th>\n",
              "      <td>28774.37535</td>\n",
              "      <td>28.816696</td>\n",
              "      <td>0.499949</td>\n",
              "      <td>0.500015</td>\n",
              "      <td>28.889171</td>\n",
              "      <td>29006.675799</td>\n",
              "      <td>2.872024</td>\n",
              "      <td>2.856667</td>\n",
              "      <td>9.30809</td>\n",
              "      <td>0.500024</td>\n",
              "      <td>0.500025</td>\n",
              "      <td>2876.729545</td>\n",
              "      <td>2894.33221</td>\n",
              "      <td>262.05017</td>\n",
              "      <td>0.500016</td>\n",
              "      <td>3.17641</td>\n",
              "      <td>2.877424e+06</td>\n",
              "    </tr>\n",
              "    <tr>\n",
              "      <th>min</th>\n",
              "      <td>89.00000</td>\n",
              "      <td>1.000000</td>\n",
              "      <td>0.000000</td>\n",
              "      <td>0.000000</td>\n",
              "      <td>1.000000</td>\n",
              "      <td>3.000000</td>\n",
              "      <td>1.000000</td>\n",
              "      <td>1.000000</td>\n",
              "      <td>1990.00000</td>\n",
              "      <td>0.000000</td>\n",
              "      <td>0.000000</td>\n",
              "      <td>0.000000</td>\n",
              "      <td>1.00000</td>\n",
              "      <td>100.00000</td>\n",
              "      <td>0.000000</td>\n",
              "      <td>0.00000</td>\n",
              "      <td>1.031350e+04</td>\n",
              "    </tr>\n",
              "    <tr>\n",
              "      <th>25%</th>\n",
              "      <td>25098.50000</td>\n",
              "      <td>25.000000</td>\n",
              "      <td>0.000000</td>\n",
              "      <td>0.000000</td>\n",
              "      <td>25.000000</td>\n",
              "      <td>24693.750000</td>\n",
              "      <td>3.000000</td>\n",
              "      <td>3.000000</td>\n",
              "      <td>1997.00000</td>\n",
              "      <td>0.000000</td>\n",
              "      <td>0.000000</td>\n",
              "      <td>2559.750000</td>\n",
              "      <td>2512.00000</td>\n",
              "      <td>327.75000</td>\n",
              "      <td>0.000000</td>\n",
              "      <td>2.00000</td>\n",
              "      <td>2.516402e+06</td>\n",
              "    </tr>\n",
              "    <tr>\n",
              "      <th>50%</th>\n",
              "      <td>50105.50000</td>\n",
              "      <td>50.000000</td>\n",
              "      <td>1.000000</td>\n",
              "      <td>0.000000</td>\n",
              "      <td>50.000000</td>\n",
              "      <td>50693.000000</td>\n",
              "      <td>5.000000</td>\n",
              "      <td>5.000000</td>\n",
              "      <td>2005.50000</td>\n",
              "      <td>0.000000</td>\n",
              "      <td>0.000000</td>\n",
              "      <td>5092.500000</td>\n",
              "      <td>5045.00000</td>\n",
              "      <td>554.00000</td>\n",
              "      <td>1.000000</td>\n",
              "      <td>5.00000</td>\n",
              "      <td>5.016180e+06</td>\n",
              "    </tr>\n",
              "    <tr>\n",
              "      <th>75%</th>\n",
              "      <td>74609.75000</td>\n",
              "      <td>75.000000</td>\n",
              "      <td>1.000000</td>\n",
              "      <td>1.000000</td>\n",
              "      <td>76.000000</td>\n",
              "      <td>75683.250000</td>\n",
              "      <td>8.000000</td>\n",
              "      <td>8.000000</td>\n",
              "      <td>2014.00000</td>\n",
              "      <td>1.000000</td>\n",
              "      <td>1.000000</td>\n",
              "      <td>7511.250000</td>\n",
              "      <td>7540.50000</td>\n",
              "      <td>777.25000</td>\n",
              "      <td>1.000000</td>\n",
              "      <td>8.00000</td>\n",
              "      <td>7.469092e+06</td>\n",
              "    </tr>\n",
              "    <tr>\n",
              "      <th>max</th>\n",
              "      <td>99999.00000</td>\n",
              "      <td>100.000000</td>\n",
              "      <td>1.000000</td>\n",
              "      <td>1.000000</td>\n",
              "      <td>100.000000</td>\n",
              "      <td>99953.000000</td>\n",
              "      <td>10.000000</td>\n",
              "      <td>10.000000</td>\n",
              "      <td>2021.00000</td>\n",
              "      <td>1.000000</td>\n",
              "      <td>1.000000</td>\n",
              "      <td>10000.000000</td>\n",
              "      <td>10000.00000</td>\n",
              "      <td>1000.00000</td>\n",
              "      <td>1.000000</td>\n",
              "      <td>10.00000</td>\n",
              "      <td>1.000677e+07</td>\n",
              "    </tr>\n",
              "  </tbody>\n",
              "</table>\n",
              "</div>\n",
              "    <div class=\"colab-df-buttons\">\n",
              "\n",
              "  <div class=\"colab-df-container\">\n",
              "    <button class=\"colab-df-convert\" onclick=\"convertToInteractive('df-be5c3a07-19b8-49f9-ace8-fe99d4c85472')\"\n",
              "            title=\"Convert this dataframe to an interactive table.\"\n",
              "            style=\"display:none;\">\n",
              "\n",
              "  <svg xmlns=\"http://www.w3.org/2000/svg\" height=\"24px\" viewBox=\"0 -960 960 960\">\n",
              "    <path d=\"M120-120v-720h720v720H120Zm60-500h600v-160H180v160Zm220 220h160v-160H400v160Zm0 220h160v-160H400v160ZM180-400h160v-160H180v160Zm440 0h160v-160H620v160ZM180-180h160v-160H180v160Zm440 0h160v-160H620v160Z\"/>\n",
              "  </svg>\n",
              "    </button>\n",
              "\n",
              "  <style>\n",
              "    .colab-df-container {\n",
              "      display:flex;\n",
              "      gap: 12px;\n",
              "    }\n",
              "\n",
              "    .colab-df-convert {\n",
              "      background-color: #E8F0FE;\n",
              "      border: none;\n",
              "      border-radius: 50%;\n",
              "      cursor: pointer;\n",
              "      display: none;\n",
              "      fill: #1967D2;\n",
              "      height: 32px;\n",
              "      padding: 0 0 0 0;\n",
              "      width: 32px;\n",
              "    }\n",
              "\n",
              "    .colab-df-convert:hover {\n",
              "      background-color: #E2EBFA;\n",
              "      box-shadow: 0px 1px 2px rgba(60, 64, 67, 0.3), 0px 1px 3px 1px rgba(60, 64, 67, 0.15);\n",
              "      fill: #174EA6;\n",
              "    }\n",
              "\n",
              "    .colab-df-buttons div {\n",
              "      margin-bottom: 4px;\n",
              "    }\n",
              "\n",
              "    [theme=dark] .colab-df-convert {\n",
              "      background-color: #3B4455;\n",
              "      fill: #D2E3FC;\n",
              "    }\n",
              "\n",
              "    [theme=dark] .colab-df-convert:hover {\n",
              "      background-color: #434B5C;\n",
              "      box-shadow: 0px 1px 3px 1px rgba(0, 0, 0, 0.15);\n",
              "      filter: drop-shadow(0px 1px 2px rgba(0, 0, 0, 0.3));\n",
              "      fill: #FFFFFF;\n",
              "    }\n",
              "  </style>\n",
              "\n",
              "    <script>\n",
              "      const buttonEl =\n",
              "        document.querySelector('#df-be5c3a07-19b8-49f9-ace8-fe99d4c85472 button.colab-df-convert');\n",
              "      buttonEl.style.display =\n",
              "        google.colab.kernel.accessAllowed ? 'block' : 'none';\n",
              "\n",
              "      async function convertToInteractive(key) {\n",
              "        const element = document.querySelector('#df-be5c3a07-19b8-49f9-ace8-fe99d4c85472');\n",
              "        const dataTable =\n",
              "          await google.colab.kernel.invokeFunction('convertToInteractive',\n",
              "                                                    [key], {});\n",
              "        if (!dataTable) return;\n",
              "\n",
              "        const docLinkHtml = 'Like what you see? Visit the ' +\n",
              "          '<a target=\"_blank\" href=https://colab.research.google.com/notebooks/data_table.ipynb>data table notebook</a>'\n",
              "          + ' to learn more about interactive tables.';\n",
              "        element.innerHTML = '';\n",
              "        dataTable['output_type'] = 'display_data';\n",
              "        await google.colab.output.renderOutput(dataTable, element);\n",
              "        const docLink = document.createElement('div');\n",
              "        docLink.innerHTML = docLinkHtml;\n",
              "        element.appendChild(docLink);\n",
              "      }\n",
              "    </script>\n",
              "  </div>\n",
              "\n",
              "\n",
              "    <div id=\"df-dedc4e07-3d53-40e0-9b3b-063836c1e7e0\">\n",
              "      <button class=\"colab-df-quickchart\" onclick=\"quickchart('df-dedc4e07-3d53-40e0-9b3b-063836c1e7e0')\"\n",
              "                title=\"Suggest charts\"\n",
              "                style=\"display:none;\">\n",
              "\n",
              "<svg xmlns=\"http://www.w3.org/2000/svg\" height=\"24px\"viewBox=\"0 0 24 24\"\n",
              "     width=\"24px\">\n",
              "    <g>\n",
              "        <path d=\"M19 3H5c-1.1 0-2 .9-2 2v14c0 1.1.9 2 2 2h14c1.1 0 2-.9 2-2V5c0-1.1-.9-2-2-2zM9 17H7v-7h2v7zm4 0h-2V7h2v10zm4 0h-2v-4h2v4z\"/>\n",
              "    </g>\n",
              "</svg>\n",
              "      </button>\n",
              "\n",
              "<style>\n",
              "  .colab-df-quickchart {\n",
              "      --bg-color: #E8F0FE;\n",
              "      --fill-color: #1967D2;\n",
              "      --hover-bg-color: #E2EBFA;\n",
              "      --hover-fill-color: #174EA6;\n",
              "      --disabled-fill-color: #AAA;\n",
              "      --disabled-bg-color: #DDD;\n",
              "  }\n",
              "\n",
              "  [theme=dark] .colab-df-quickchart {\n",
              "      --bg-color: #3B4455;\n",
              "      --fill-color: #D2E3FC;\n",
              "      --hover-bg-color: #434B5C;\n",
              "      --hover-fill-color: #FFFFFF;\n",
              "      --disabled-bg-color: #3B4455;\n",
              "      --disabled-fill-color: #666;\n",
              "  }\n",
              "\n",
              "  .colab-df-quickchart {\n",
              "    background-color: var(--bg-color);\n",
              "    border: none;\n",
              "    border-radius: 50%;\n",
              "    cursor: pointer;\n",
              "    display: none;\n",
              "    fill: var(--fill-color);\n",
              "    height: 32px;\n",
              "    padding: 0;\n",
              "    width: 32px;\n",
              "  }\n",
              "\n",
              "  .colab-df-quickchart:hover {\n",
              "    background-color: var(--hover-bg-color);\n",
              "    box-shadow: 0 1px 2px rgba(60, 64, 67, 0.3), 0 1px 3px 1px rgba(60, 64, 67, 0.15);\n",
              "    fill: var(--button-hover-fill-color);\n",
              "  }\n",
              "\n",
              "  .colab-df-quickchart-complete:disabled,\n",
              "  .colab-df-quickchart-complete:disabled:hover {\n",
              "    background-color: var(--disabled-bg-color);\n",
              "    fill: var(--disabled-fill-color);\n",
              "    box-shadow: none;\n",
              "  }\n",
              "\n",
              "  .colab-df-spinner {\n",
              "    border: 2px solid var(--fill-color);\n",
              "    border-color: transparent;\n",
              "    border-bottom-color: var(--fill-color);\n",
              "    animation:\n",
              "      spin 1s steps(1) infinite;\n",
              "  }\n",
              "\n",
              "  @keyframes spin {\n",
              "    0% {\n",
              "      border-color: transparent;\n",
              "      border-bottom-color: var(--fill-color);\n",
              "      border-left-color: var(--fill-color);\n",
              "    }\n",
              "    20% {\n",
              "      border-color: transparent;\n",
              "      border-left-color: var(--fill-color);\n",
              "      border-top-color: var(--fill-color);\n",
              "    }\n",
              "    30% {\n",
              "      border-color: transparent;\n",
              "      border-left-color: var(--fill-color);\n",
              "      border-top-color: var(--fill-color);\n",
              "      border-right-color: var(--fill-color);\n",
              "    }\n",
              "    40% {\n",
              "      border-color: transparent;\n",
              "      border-right-color: var(--fill-color);\n",
              "      border-top-color: var(--fill-color);\n",
              "    }\n",
              "    60% {\n",
              "      border-color: transparent;\n",
              "      border-right-color: var(--fill-color);\n",
              "    }\n",
              "    80% {\n",
              "      border-color: transparent;\n",
              "      border-right-color: var(--fill-color);\n",
              "      border-bottom-color: var(--fill-color);\n",
              "    }\n",
              "    90% {\n",
              "      border-color: transparent;\n",
              "      border-bottom-color: var(--fill-color);\n",
              "    }\n",
              "  }\n",
              "</style>\n",
              "\n",
              "      <script>\n",
              "        async function quickchart(key) {\n",
              "          const quickchartButtonEl =\n",
              "            document.querySelector('#' + key + ' button');\n",
              "          quickchartButtonEl.disabled = true;  // To prevent multiple clicks.\n",
              "          quickchartButtonEl.classList.add('colab-df-spinner');\n",
              "          try {\n",
              "            const charts = await google.colab.kernel.invokeFunction(\n",
              "                'suggestCharts', [key], {});\n",
              "          } catch (error) {\n",
              "            console.error('Error during call to suggestCharts:', error);\n",
              "          }\n",
              "          quickchartButtonEl.classList.remove('colab-df-spinner');\n",
              "          quickchartButtonEl.classList.add('colab-df-quickchart-complete');\n",
              "        }\n",
              "        (() => {\n",
              "          let quickchartButtonEl =\n",
              "            document.querySelector('#df-dedc4e07-3d53-40e0-9b3b-063836c1e7e0 button');\n",
              "          quickchartButtonEl.style.display =\n",
              "            google.colab.kernel.accessAllowed ? 'block' : 'none';\n",
              "        })();\n",
              "      </script>\n",
              "    </div>\n",
              "\n",
              "    </div>\n",
              "  </div>\n"
            ],
            "application/vnd.google.colaboratory.intrinsic+json": {
              "type": "dataframe",
              "summary": "{\n  \"name\": \"data\",\n  \"rows\": 8,\n  \"fields\": [\n    {\n      \"column\": \"squareMeters\",\n      \"properties\": {\n        \"dtype\": \"number\",\n        \"std\": 33370.682672584044,\n        \"min\": 89.0,\n        \"max\": 99999.0,\n        \"num_unique_values\": 8,\n        \"samples\": [\n          49870.1312,\n          50105.5,\n          10000.0\n        ],\n        \"semantic_type\": \"\",\n        \"description\": \"\"\n      }\n    },\n    {\n      \"column\": \"numberOfRooms\",\n      \"properties\": {\n        \"dtype\": \"number\",\n        \"std\": 3518.990372256432,\n        \"min\": 1.0,\n        \"max\": 10000.0,\n        \"num_unique_values\": 8,\n        \"samples\": [\n          50.3584,\n          50.0,\n          10000.0\n        ],\n        \"semantic_type\": \"\",\n        \"description\": \"\"\n      }\n    },\n    {\n      \"column\": \"hasYard\",\n      \"properties\": {\n        \"dtype\": \"number\",\n        \"std\": 3535.331463078118,\n        \"min\": 0.0,\n        \"max\": 10000.0,\n        \"num_unique_values\": 5,\n        \"samples\": [\n          0.5087,\n          1.0,\n          0.49994930236027557\n        ],\n        \"semantic_type\": \"\",\n        \"description\": \"\"\n      }\n    },\n    {\n      \"column\": \"hasPool\",\n      \"properties\": {\n        \"dtype\": \"number\",\n        \"std\": 3535.3825684542167,\n        \"min\": 0.0,\n        \"max\": 10000.0,\n        \"num_unique_values\": 5,\n        \"samples\": [\n          0.4968,\n          1.0,\n          0.50001476125826\n        ],\n        \"semantic_type\": \"\",\n        \"description\": \"\"\n      }\n    },\n    {\n      \"column\": \"floors\",\n      \"properties\": {\n        \"dtype\": \"number\",\n        \"std\": 3518.941435618923,\n        \"min\": 1.0,\n        \"max\": 10000.0,\n        \"num_unique_values\": 8,\n        \"samples\": [\n          50.2763,\n          50.0,\n          10000.0\n        ],\n        \"semantic_type\": \"\",\n        \"description\": \"\"\n      }\n    },\n    {\n      \"column\": \"cityCode\",\n      \"properties\": {\n        \"dtype\": \"number\",\n        \"std\": 33573.27314811567,\n        \"min\": 3.0,\n        \"max\": 99953.0,\n        \"num_unique_values\": 8,\n        \"samples\": [\n          50225.4861,\n          50693.0,\n          10000.0\n        ],\n        \"semantic_type\": \"\",\n        \"description\": \"\"\n      }\n    },\n    {\n      \"column\": \"cityPartRange\",\n      \"properties\": {\n        \"dtype\": \"number\",\n        \"std\": 3533.748026680069,\n        \"min\": 1.0,\n        \"max\": 10000.0,\n        \"num_unique_values\": 8,\n        \"samples\": [\n          5.5101,\n          5.0,\n          10000.0\n        ],\n        \"semantic_type\": \"\",\n        \"description\": \"\"\n      }\n    },\n    {\n      \"column\": \"numPrevOwners\",\n      \"properties\": {\n        \"dtype\": \"number\",\n        \"std\": 3533.748218032391,\n        \"min\": 1.0,\n        \"max\": 10000.0,\n        \"num_unique_values\": 8,\n        \"samples\": [\n          5.5217,\n          5.0,\n          10000.0\n        ],\n        \"semantic_type\": \"\",\n        \"description\": \"\"\n      }\n    },\n    {\n      \"column\": \"made\",\n      \"properties\": {\n        \"dtype\": \"number\",\n        \"std\": 3009.508553763657,\n        \"min\": 9.308089589340033,\n        \"max\": 10000.0,\n        \"num_unique_values\": 8,\n        \"samples\": [\n          2005.4885,\n          2005.5,\n          10000.0\n        ],\n        \"semantic_type\": \"\",\n        \"description\": \"\"\n      }\n    },\n    {\n      \"column\": \"isNewBuilt\",\n      \"properties\": {\n        \"dtype\": \"number\",\n        \"std\": 3535.382451816861,\n        \"min\": 0.0,\n        \"max\": 10000.0,\n        \"num_unique_values\": 5,\n        \"samples\": [\n          0.4991,\n          1.0,\n          0.500024191834034\n        ],\n        \"semantic_type\": \"\",\n        \"description\": \"\"\n      }\n    },\n    {\n      \"column\": \"hasStormProtector\",\n      \"properties\": {\n        \"dtype\": \"number\",\n        \"std\": 3535.3824113726487,\n        \"min\": 0.0,\n        \"max\": 10000.0,\n        \"num_unique_values\": 5,\n        \"samples\": [\n          0.4999,\n          1.0,\n          0.5000249918746816\n        ],\n        \"semantic_type\": \"\",\n        \"description\": \"\"\n      }\n    },\n    {\n      \"column\": \"basement\",\n      \"properties\": {\n        \"dtype\": \"number\",\n        \"std\": 3597.587561948309,\n        \"min\": 0.0,\n        \"max\": 10000.0,\n        \"num_unique_values\": 7,\n        \"samples\": [\n          10000.0,\n          5033.1039,\n          5092.5\n        ],\n        \"semantic_type\": \"\",\n        \"description\": \"\"\n      }\n    },\n    {\n      \"column\": \"attic\",\n      \"properties\": {\n        \"dtype\": \"number\",\n        \"std\": 3604.169119151671,\n        \"min\": 1.0,\n        \"max\": 10000.0,\n        \"num_unique_values\": 7,\n        \"samples\": [\n          10000.0,\n          5028.0106,\n          5045.0\n        ],\n        \"semantic_type\": \"\",\n        \"description\": \"\"\n      }\n    },\n    {\n      \"column\": \"garage\",\n      \"properties\": {\n        \"dtype\": \"number\",\n        \"std\": 3367.2965190625278,\n        \"min\": 100.0,\n        \"max\": 10000.0,\n        \"num_unique_values\": 8,\n        \"samples\": [\n          553.1212,\n          554.0,\n          10000.0\n        ],\n        \"semantic_type\": \"\",\n        \"description\": \"\"\n      }\n    },\n    {\n      \"column\": \"hasStorageRoom\",\n      \"properties\": {\n        \"dtype\": \"number\",\n        \"std\": 3535.331747617885,\n        \"min\": 0.0,\n        \"max\": 10000.0,\n        \"num_unique_values\": 5,\n        \"samples\": [\n          0.503,\n          1.0,\n          0.5000160013441314\n        ],\n        \"semantic_type\": \"\",\n        \"description\": \"\"\n      }\n    },\n    {\n      \"column\": \"hasGuestRoom\",\n      \"properties\": {\n        \"dtype\": \"number\",\n        \"std\": 3533.859948946828,\n        \"min\": 0.0,\n        \"max\": 10000.0,\n        \"num_unique_values\": 8,\n        \"samples\": [\n          4.9946,\n          5.0,\n          10000.0\n        ],\n        \"semantic_type\": \"\",\n        \"description\": \"\"\n      }\n    },\n    {\n      \"column\": \"price\",\n      \"properties\": {\n        \"dtype\": \"number\",\n        \"std\": 3491484.2164380853,\n        \"min\": 10000.0,\n        \"max\": 10006771.2,\n        \"num_unique_values\": 8,\n        \"samples\": [\n          4993447.52575,\n          5016180.3,\n          10000.0\n        ],\n        \"semantic_type\": \"\",\n        \"description\": \"\"\n      }\n    }\n  ]\n}"
            }
          },
          "metadata": {},
          "execution_count": 8
        }
      ],
      "source": [
        "# Statistiques descriptives\n",
        "data.describe()\n"
      ]
    },
    {
      "cell_type": "markdown",
      "metadata": {
        "id": "guaVuYTogJ9v"
      },
      "source": [
        "If your dataset contains missing data, follow the process seen in the first practical to impute missing data. Make sure to impute numeric and nominal data with different strategies."
      ]
    },
    {
      "cell_type": "code",
      "execution_count": 9,
      "metadata": {
        "id": "PphE1SI8gJWS",
        "colab": {
          "base_uri": "https://localhost:8080/"
        },
        "outputId": "05d5940e-75b3-4290-8127-f06c05d8cfe5"
      },
      "outputs": [
        {
          "output_type": "stream",
          "name": "stdout",
          "text": [
            "Nombre de valeurs manquantes par colonne :\n",
            "squareMeters         0\n",
            "numberOfRooms        0\n",
            "hasYard              0\n",
            "hasPool              0\n",
            "floors               0\n",
            "cityCode             0\n",
            "cityPartRange        0\n",
            "numPrevOwners        0\n",
            "made                 0\n",
            "isNewBuilt           0\n",
            "hasStormProtector    0\n",
            "basement             0\n",
            "attic                0\n",
            "garage               0\n",
            "hasStorageRoom       0\n",
            "hasGuestRoom         0\n",
            "price                0\n",
            "category             0\n",
            "dtype: int64\n"
          ]
        }
      ],
      "source": [
        "# Vérification des valeurs manquantes\n",
        "print(\"Nombre de valeurs manquantes par colonne :\")\n",
        "print(data.isnull().sum())\n"
      ]
    },
    {
      "cell_type": "code",
      "execution_count": null,
      "metadata": {
        "id": "KPlnaQDpgaJ8"
      },
      "outputs": [],
      "source": [
        "Aucune valeur manquante n’a été détectée dans le dataset.\n",
        "Il n’est donc pas nécessaire de procéder à une imputation."
      ]
    },
    {
      "cell_type": "markdown",
      "metadata": {
        "id": "EzsO2pfTgari"
      },
      "source": [
        "Explain your choice of imputation strategy for each data type."
      ]
    },
    {
      "cell_type": "code",
      "execution_count": null,
      "metadata": {
        "id": "vJ2GwVX-gkMp"
      },
      "outputs": [],
      "source": [
        "Pour les données numériques, j’ai choisi d’imputer les valeurs manquantes avec la moyenne (mean), car cela conserve la tendance centrale des variables continues.\n",
        "Pour les variables nominales (catégorielles), la stratégie most_frequent est la plus adaptée, car elle remplace les valeurs manquantes par la modalité la plus courante, ce qui minimise la distorsion dans la distribution des catégories."
      ]
    },
    {
      "cell_type": "markdown",
      "metadata": {
        "id": "QA0BnGXFdt1Y"
      },
      "source": [
        "Do you think the data should be scaled? If yes, do it and compare the obtained data to the original data (compare only the first 20 features if the dataset is large)."
      ]
    },
    {
      "cell_type": "code",
      "execution_count": null,
      "metadata": {
        "id": "tz5Fx2L0dt1Z"
      },
      "outputs": [],
      "source": [
        "Oui, les données doivent être mises à l’échelle, car les variables n’ont pas les mêmes unités ni les mêmes ordres de grandeur.\n",
        "Le StandardScaler standardise chaque variable pour avoir une moyenne de 0 et un écart-type de 1, ce qui permet aux algorithmes de clustering de traiter chaque feature avec la même importance."
      ]
    },
    {
      "cell_type": "markdown",
      "metadata": {
        "id": "9VTyMHWCdt1Z"
      },
      "source": [
        "How many classes are there? Plot the distribution of the classes. Is the data balanced or imbalanced?"
      ]
    },
    {
      "cell_type": "code",
      "execution_count": 10,
      "metadata": {
        "id": "f1wYPf11dt1Z",
        "colab": {
          "base_uri": "https://localhost:8080/"
        },
        "outputId": "d5ca2793-b208-4f5f-88ed-cce8716d4236"
      },
      "outputs": [
        {
          "output_type": "stream",
          "name": "stdout",
          "text": [
            "Nombre de classes : 2\n",
            "\n",
            "Répartition des classes :\n",
            "category\n",
            "Basic     8735\n",
            "Luxury    1265\n",
            "Name: count, dtype: int64\n"
          ]
        }
      ],
      "source": [
        "# Nombre de classes uniques\n",
        "print(\"Nombre de classes :\", y.nunique())\n",
        "print(\"\\nRépartition des classes :\")\n",
        "print(y.value_counts())\n"
      ]
    },
    {
      "cell_type": "code",
      "execution_count": 11,
      "metadata": {
        "id": "kr3MFvosdt1Z",
        "colab": {
          "base_uri": "https://localhost:8080/",
          "height": 410
        },
        "outputId": "a83e4aa1-7b2a-477e-d7ed-a1f215c0cae2"
      },
      "outputs": [
        {
          "output_type": "display_data",
          "data": {
            "text/plain": [
              "<Figure size 600x400 with 1 Axes>"
            ],
            "image/png": "[encoded data removed]"
          },
          "metadata": {}
        }
      ],
      "source": [
        "import seaborn as sns\n",
        "import matplotlib.pyplot as plt\n",
        "\n",
        "plt.figure(figsize=(6,4))\n",
        "sns.countplot(x=y)\n",
        "plt.title(\"Distribution des classes\")\n",
        "plt.xlabel(\"Classe\")\n",
        "plt.ylabel(\"Nombre d'échantillons\")\n",
        "plt.show()\n"
      ]
    },
    {
      "cell_type": "code",
      "execution_count": null,
      "metadata": {
        "id": "R3lIVN6Cdt1a"
      },
      "outputs": [],
      "source": [
        "Le dataset contient plusieurs classes (selon la valeur retournée).\n",
        "La distribution montre que certaines classes sont plus représentées que d’autres, ce qui signifie que les données sont déséquilibrées (imbalanced).\n",
        "Cela pourrait influencer les performances des algorithmes de clustering, qui ont tendance à favoriser les groupes plus grands."
      ]
    },
    {
      "cell_type": "markdown",
      "metadata": {
        "id": "EPPgJ5DKdt1a"
      },
      "source": [
        "Encode your classes into a numerical variable."
      ]
    },
    {
      "cell_type": "code",
      "execution_count": 12,
      "metadata": {
        "id": "56Wwczohdt1a",
        "colab": {
          "base_uri": "https://localhost:8080/"
        },
        "outputId": "e8a231c7-2a0e-4932-be74-1c5ada5a8dff"
      },
      "outputs": [
        {
          "output_type": "stream",
          "name": "stdout",
          "text": [
            "Aperçu de y encodé : [0 1 0 0 1 0 1 0 0 0]\n"
          ]
        }
      ],
      "source": [
        "from sklearn.preprocessing import LabelEncoder\n",
        "\n",
        "encoder = LabelEncoder()\n",
        "y_encoded = encoder.fit_transform(y)\n",
        "\n",
        "print(\"Aperçu de y encodé :\", y_encoded[:10])# Ici, chaque catégorie est remplacée par un entier unique, tout en conservant la correspondance entre les anciennes et nouvelles valeurs.\n"
      ]
    },
    {
      "cell_type": "markdown",
      "metadata": {
        "id": "_sxbXkjZdt1a"
      },
      "source": [
        "Check if your data and classes are numpy arrays. If that is not the case, transform your data and classes into numpy arrays."
      ]
    },
    {
      "cell_type": "code",
      "execution_count": 13,
      "metadata": {
        "id": "J8N-du6Udt1a",
        "colab": {
          "base_uri": "https://localhost:8080/"
        },
        "outputId": "b9f65304-4e44-4016-cf56-3d6fcfcc2b5e"
      },
      "outputs": [
        {
          "output_type": "stream",
          "name": "stdout",
          "text": [
            "Type de X : <class 'numpy.ndarray'>\n",
            "Type de y_encoded : <class 'numpy.ndarray'>\n"
          ]
        }
      ],
      "source": [
        "import numpy as np\n",
        "\n",
        "# Transformation en tableaux numpy si ce n’est pas déjà le cas\n",
        "if not isinstance(X, np.ndarray):\n",
        "    X = np.array(X)\n",
        "\n",
        "if not isinstance(y_encoded, np.ndarray):\n",
        "    y_encoded = np.array(y_encoded)\n",
        "\n",
        "print(\"Type de X :\", type(X))\n",
        "print(\"Type de y_encoded :\", type(y_encoded))\n"
      ]
    },
    {
      "cell_type": "markdown",
      "metadata": {
        "id": "Ge7xug8Mdt1a"
      },
      "source": [
        "### Clustering algorithm 1: K-means"
      ]
    },
    {
      "cell_type": "markdown",
      "metadata": {
        "id": "wnFtJi8mdt1b"
      },
      "source": [
        "Apply the K-means algorithm with 2 centers. Look at the default parameters the method takes. Make sure the algorithm doesn't run more than 500 iterations."
      ]
    },
    {
      "cell_type": "code",
      "execution_count": 14,
      "metadata": {
        "id": "ryTO8azedt1b",
        "colab": {
          "base_uri": "https://localhost:8080/"
        },
        "outputId": "c98f2855-c81f-4182-8eff-b84b82a55033"
      },
      "outputs": [
        {
          "output_type": "stream",
          "name": "stdout",
          "text": [
            "Centres des clusters :\n",
            " [[2.47261974e+04 4.98468851e+01 5.08495146e-01 4.97977346e-01\n",
            "  5.03705502e+01 5.04826592e+04 5.49898867e+00 5.46905340e+00\n",
            "  2.00547755e+03 5.04045307e-01 4.98988673e-01 5.04603115e+03\n",
            "  5.02102731e+03 5.56797532e+02 5.05865696e-01 4.98907767e+00\n",
            "  2.47905550e+06]\n",
            " [7.44570791e+04 5.08585839e+01 5.08900316e-01 4.95648734e-01\n",
            "  5.01841377e+01 4.99740099e+04 5.52096519e+00 5.57318038e+00\n",
            "  2.00549921e+03 4.94264241e-01 5.00791139e-01 5.02046301e+03\n",
            "  5.03483920e+03 5.49526305e+02 5.00197785e-01 5.00000000e+00\n",
            "  7.45214099e+06]]\n",
            "\n",
            "Nombre d'itérations effectuées : 4\n"
          ]
        }
      ],
      "source": [
        "from sklearn.cluster import KMeans\n",
        "\n",
        "# Application de K-means avec 2 clusters\n",
        "kmeans = KMeans(n_clusters=2, max_iter=500, random_state=42)\n",
        "kmeans.fit(X)\n",
        "\n",
        "# Affichage des résultats\n",
        "print(\"Centres des clusters :\\n\", kmeans.cluster_centers_)\n",
        "print(\"\\nNombre d'itérations effectuées :\", kmeans.n_iter_)  # Le paramètre max_iter=500 limite le nombre maximal d’itérations pour éviter que l’algorithme ne boucle trop longtemps.\n",
        "#Le modèle calcule deux centres de gravité représentant chaque cluster #Le paramètre max_iter=500 limite le nombre maximal d’itérations pour éviter que l’algorithme ne boucle trop longtemps.\n",
        "#Le modèle calcule deux centres de gravité représentant chaque cluster.\n"
      ]
    },
    {
      "cell_type": "code",
      "execution_count": null,
      "metadata": {
        "id": "87uEFkz5dt1b"
      },
      "outputs": [],
      "source": []
    },
    {
      "cell_type": "markdown",
      "metadata": {
        "id": "b_-8_xoFdt1b"
      },
      "source": [
        "What does the max_iter parameter do?"
      ]
    },
    {
      "cell_type": "code",
      "execution_count": null,
      "metadata": {
        "id": "ZaiQ-TcEdt1c"
      },
      "outputs": [],
      "source": [
        "Le paramètre max_iter définit le nombre maximal d’itérations que l’algorithme K-Means peut effectuer lors de la phase d’ajustement des centres des clusters.\n",
        "À chaque itération, K-Means réassigne les points aux clusters et recalcule leurs centres.\n",
        "Si les centres ne changent plus avant d’atteindre la limite, l’algorithme s’arrête automatiquement (convergence).\n",
        "Ce paramètre évite donc un calcul infini ou trop long si la convergence est lente."
      ]
    },
    {
      "cell_type": "markdown",
      "metadata": {
        "id": "ko1U5rDxdt1c"
      },
      "source": [
        "How many samples are in each cluster?"
      ]
    },
    {
      "cell_type": "code",
      "execution_count": 15,
      "metadata": {
        "id": "IBE_F41Odt1c",
        "colab": {
          "base_uri": "https://localhost:8080/"
        },
        "outputId": "d878c72e-58f5-4171-8185-d7053ffc1909"
      },
      "outputs": [
        {
          "output_type": "stream",
          "name": "stdout",
          "text": [
            "Cluster 0 : 4948 échantillons\n",
            "Cluster 1 : 5052 échantillons\n"
          ]
        }
      ],
      "source": [
        "import numpy as np\n",
        "\n",
        "labels = kmeans.labels_\n",
        "unique, counts = np.unique(labels, return_counts=True)\n",
        "\n",
        "for cluster, count in zip(unique, counts):\n",
        "    print(f\"Cluster {cluster} : {count} échantillons\")\n"
      ]
    },
    {
      "cell_type": "markdown",
      "metadata": {
        "id": "Vp8cebHpdt1d"
      },
      "source": [
        "In order to optimize our clusters, we want to apply the silhouette method to obtain the optimal number of centers.\n",
        "Apply silhouette on a range from 2 to 10 centers, display the average silhouette score for each and display the silhouette plot for each center.\n",
        "<br> For some help, look at the silhouette documentation in scikit learn: https://scikit-learn.org/stable/auto_examples/cluster/plot_kmeans_silhouette_analysis.html#sphx-glr-auto-examples-cluster-plot-kmeans-silhouette-analysis-py\n",
        "\n",
        "<br>\n",
        "\n",
        "Please note that the code below is NOT complete. Fill in the missing parts (they are indicated by ### TO COMPLETE)"
      ]
    },
    {
      "cell_type": "code",
      "execution_count": 16,
      "metadata": {
        "id": "CJbLZkfodt1d",
        "colab": {
          "base_uri": "https://localhost:8080/",
          "height": 1000
        },
        "outputId": "4d68eddd-cb8a-4372-c678-06c171dd43f3"
      },
      "outputs": [
        {
          "output_type": "stream",
          "name": "stdout",
          "text": [
            "For n_clusters = 2, the average silhouette_score is : 0.6234\n"
          ]
        },
        {
          "output_type": "display_data",
          "data": {
            "text/plain": [
              "<Figure size 800x600 with 1 Axes>"
            ],
            "image/png": "[encoded data removed]"
          },
          "metadata": {}
        },
        {
          "output_type": "stream",
          "name": "stdout",
          "text": [
            "For n_clusters = 3, the average silhouette_score is : 0.5884\n"
          ]
        },
        {
          "output_type": "display_data",
          "data": {
            "text/plain": [
              "<Figure size 800x600 with 1 Axes>"
            ],
            "image/png": "[encoded data removed]"
          },
          "metadata": {}
        },
        {
          "output_type": "stream",
          "name": "stdout",
          "text": [
            "For n_clusters = 4, the average silhouette_score is : 0.5732\n"
          ]
        },
        {
          "output_type": "display_data",
          "data": {
            "text/plain": [
              "<Figure size 800x600 with 1 Axes>"
            ],
            "image/png": "[encoded data removed]"
          },
          "metadata": {}
        },
        {
          "output_type": "stream",
          "name": "stdout",
          "text": [
            "For n_clusters = 5, the average silhouette_score is : 0.5565\n"
          ]
        },
        {
          "output_type": "display_data",
          "data": {
            "text/plain": [
              "<Figure size 800x600 with 1 Axes>"
            ],
            "image/png": "[encoded data removed]"
          },
          "metadata": {}
        },
        {
          "output_type": "stream",
          "name": "stdout",
          "text": [
            "For n_clusters = 6, the average silhouette_score is : 0.5495\n"
          ]
        },
        {
          "output_type": "display_data",
          "data": {
            "text/plain": [
              "<Figure size 800x600 with 1 Axes>"
            ],
            "image/png": "[encoded data removed]"
          },
          "metadata": {}
        },
        {
          "output_type": "stream",
          "name": "stdout",
          "text": [
            "For n_clusters = 7, the average silhouette_score is : 0.5470\n"
          ]
        },
        {
          "output_type": "display_data",
          "data": {
            "text/plain": [
              "<Figure size 800x600 with 1 Axes>"
            ],
            "image/png": "[encoded data removed]"
          },
          "metadata": {}
        },
        {
          "output_type": "stream",
          "name": "stdout",
          "text": [
            "For n_clusters = 8, the average silhouette_score is : 0.5439\n"
          ]
        },
        {
          "output_type": "display_data",
          "data": {
            "text/plain": [
              "<Figure size 800x600 with 1 Axes>"
            ],
            "image/png": "[encoded data removed]"
          },
          "metadata": {}
        },
        {
          "output_type": "stream",
          "name": "stdout",
          "text": [
            "For n_clusters = 9, the average silhouette_score is : 0.5406\n"
          ]
        },
        {
          "output_type": "display_data",
          "data": {
            "text/plain": [
              "<Figure size 800x600 with 1 Axes>"
            ],
            "image/png": "[encoded data removed]"
          },
          "metadata": {}
        },
        {
          "output_type": "stream",
          "name": "stdout",
          "text": [
            "For n_clusters = 10, the average silhouette_score is : 0.5320\n"
          ]
        },
        {
          "output_type": "display_data",
          "data": {
            "text/plain": [
              "<Figure size 800x600 with 1 Axes>"
            ],
            "image/png": "[encoded data removed]"
          },
          "metadata": {}
        }
      ],
      "source": [
        "from sklearn.cluster import KMeans\n",
        "from sklearn.metrics import silhouette_score, silhouette_samples\n",
        "import matplotlib.pyplot as plt\n",
        "import matplotlib.cm as cm\n",
        "import numpy as np\n",
        "\n",
        "# Définir la plage du nombre de clusters à tester\n",
        "range_n_clusters = range(2, 11)\n",
        "\n",
        "for n_clusters in range_n_clusters:\n",
        "    # Création du graphique\n",
        "    fig, ax = plt.subplots(1, 1, figsize=(8, 6))\n",
        "\n",
        "    # Configuration du graphique de silhouette\n",
        "    ax.set_xlim([-0.1, 1])\n",
        "    ax.set_ylim([0, len(X) + (n_clusters + 1) * 10])\n",
        "\n",
        "    # Initialisation et entraînement du K-Means\n",
        "    clusterer = KMeans(n_clusters=n_clusters, max_iter=500, random_state=42)\n",
        "    cluster_labels = clusterer.fit_predict(X)\n",
        "\n",
        "    # Calcul du score moyen de silhouette\n",
        "    silhouette_avg = silhouette_score(X, cluster_labels)\n",
        "    print(f\"For n_clusters = {n_clusters}, the average silhouette_score is : {silhouette_avg:.4f}\")\n",
        "\n",
        "    # Calcul des scores individuels de silhouette\n",
        "    sample_silhouette_values = silhouette_samples(X, cluster_labels)\n",
        "\n",
        "    y_lower = 10\n",
        "    for i in range(n_clusters):\n",
        "        # Récupération et tri des valeurs de silhouette du cluster i\n",
        "        ith_cluster_silhouette_values = sample_silhouette_values[cluster_labels == i]\n",
        "        ith_cluster_silhouette_values.sort()\n",
        "\n",
        "        size_cluster_i = ith_cluster_silhouette_values.shape[0]\n",
        "        y_upper = y_lower + size_cluster_i\n",
        "\n",
        "        color = cm.nipy_spectral(float(i) / n_clusters)\n",
        "        ax.fill_betweenx(np.arange(y_lower, y_upper),\n",
        "                         0, ith_cluster_silhouette_values,\n",
        "                         facecolor=color, edgecolor=color, alpha=0.7)\n",
        "\n",
        "        ax.text(-0.05, y_lower + 0.5 * size_cluster_i, str(i))\n",
        "        y_lower = y_upper + 10\n",
        "\n",
        "    # Titres et axes\n",
        "    ax.set_title(\"The silhouette plot for the various clusters.\")\n",
        "    ax.set_xlabel(\"Silhouette coefficient values\")\n",
        "    ax.set_ylabel(\"Cluster label\")\n",
        "\n",
        "    # Ligne rouge = score moyen global\n",
        "    ax.axvline(x=silhouette_avg, color=\"red\", linestyle=\"--\")\n",
        "    ax.set_yticks([])\n",
        "    ax.set_xticks([-0.1, 0, 0.2, 0.4, 0.6, 0.8, 1])\n",
        "\n",
        "    plt.title(f\"Silhouette analysis for KMeans with n_clusters = {n_clusters}\",\n",
        "              fontsize=14, fontweight='bold')\n",
        "    plt.show()\n"
      ]
    },
    {
      "cell_type": "markdown",
      "metadata": {
        "id": "amwfGBJEdt1e"
      },
      "source": [
        "What is, in your opinion, the best number of centers to choose?"
      ]
    },
    {
      "cell_type": "markdown",
      "source": [
        "J’ai comparé le score moyen de silhouette pour k ∈ [2, 10].\n",
        "Le meilleur k est celui qui maximise le score moyen de silhouette (idéalement ≥ 0.5 pour une structure bien séparée).\n",
        "Je choisis k = 2 car il obtient le score moyen le plus élevé 0,62, et le plot montre des “bandes” de clusters nettes, sans larges zones négatives ni tailles de clusters trop déséquilibrées."
      ],
      "metadata": {
        "id": "E1oy69YrV7PD"
      }
    },
    {
      "cell_type": "code",
      "execution_count": 19,
      "metadata": {
        "id": "Z68zLa0bdt1e",
        "colab": {
          "base_uri": "https://localhost:8080/"
        },
        "outputId": "a791e021-f3b1-4d93-d0ec-3f5e63e8b40d"
      },
      "outputs": [
        {
          "output_type": "stream",
          "name": "stdout",
          "text": [
            "The best number of clusters (k) is: 2\n",
            "Average silhouette score: 0.6233599229682726\n"
          ]
        }
      ],
      "source": [
        "\n",
        "from sklearn.metrics import silhouette_score\n",
        "from sklearn.cluster import KMeans\n",
        "\n",
        "scores = {}\n",
        "for k in range(2, 11):\n",
        "    km = KMeans(n_clusters=k, max_iter=500, random_state=42).fit(X)\n",
        "    scores[k] = silhouette_score(X, km.labels_)\n",
        "\n",
        "best_k = max(scores, key=scores.get)\n",
        "print(\"The best number of clusters (k) is:\", best_k)\n",
        "print(\"Average silhouette score:\", scores[best_k])\n"
      ]
    },
    {
      "cell_type": "markdown",
      "metadata": {
        "id": "IirgOmZSdt1e"
      },
      "source": [
        "Apply K-means again with the optimal number of centers."
      ]
    },
    {
      "cell_type": "code",
      "execution_count": 20,
      "metadata": {
        "id": "vGXzLpygdt1e",
        "colab": {
          "base_uri": "https://localhost:8080/"
        },
        "outputId": "d1278749-2f7b-4193-f238-71469d45e6c8"
      },
      "outputs": [
        {
          "output_type": "stream",
          "name": "stdout",
          "text": [
            "Centres des clusters :\n",
            " [[2.47261974e+04 4.98468851e+01 5.08495146e-01 4.97977346e-01\n",
            "  5.03705502e+01 5.04826592e+04 5.49898867e+00 5.46905340e+00\n",
            "  2.00547755e+03 5.04045307e-01 4.98988673e-01 5.04603115e+03\n",
            "  5.02102731e+03 5.56797532e+02 5.05865696e-01 4.98907767e+00\n",
            "  2.47905550e+06]\n",
            " [7.44570791e+04 5.08585839e+01 5.08900316e-01 4.95648734e-01\n",
            "  5.01841377e+01 4.99740099e+04 5.52096519e+00 5.57318038e+00\n",
            "  2.00549921e+03 4.94264241e-01 5.00791139e-01 5.02046301e+03\n",
            "  5.03483920e+03 5.49526305e+02 5.00197785e-01 5.00000000e+00\n",
            "  7.45214099e+06]]\n",
            "Itérations : 4\n"
          ]
        }
      ],
      "source": [
        "# Re-entraîner KMeans avec le k optimal (remplace best_k si tu l'as choisi à la main)\n",
        "k_opt = best_k  # ou k_opt = 2/3/4… selon ce que tu as retenu\n",
        "kmeans_opt = KMeans(n_clusters=k_opt, max_iter=500, random_state=42)\n",
        "kmeans_opt.fit(X)\n",
        "\n",
        "print(\"Centres des clusters :\\n\", kmeans_opt.cluster_centers_)\n",
        "print(\"Itérations :\", kmeans_opt.n_iter_)\n",
        "labels_opt = kmeans_opt.labels_\n"
      ]
    },
    {
      "cell_type": "markdown",
      "metadata": {
        "id": "skrloWHedt1e"
      },
      "source": [
        "How many samples are in each cluster?"
      ]
    },
    {
      "cell_type": "code",
      "execution_count": 21,
      "metadata": {
        "id": "pPu9IZ64dt1f",
        "colab": {
          "base_uri": "https://localhost:8080/"
        },
        "outputId": "edbc9e20-7c04-46f6-9ce6-5a454454fe4e"
      },
      "outputs": [
        {
          "output_type": "stream",
          "name": "stdout",
          "text": [
            "Cluster 0 : 4948 samples\n",
            "Cluster 1 : 5052 samples\n"
          ]
        }
      ],
      "source": [
        "import numpy as np\n",
        "\n",
        "# Compter le nombre d'échantillons dans chaque cluster\n",
        "unique, counts = np.unique(labels_opt, return_counts=True)\n",
        "for cluster, count in zip(unique, counts):\n",
        "    print(f\"Cluster {cluster} : {count} samples\")\n",
        "    #Le cluster 0 contient X échantillons et le cluster 1 en contient Y.\n",
        "#Cela montre que la répartition des données est (plutôt équilibrée / déséquilibrée selon les valeurs obtenues).\n",
        "#Une répartition déséquilibrée pourrait indiquer qu’un cluster regroupe la majorité des points, tandis qu’un autre contient des cas atypiques\n"
      ]
    },
    {
      "cell_type": "markdown",
      "metadata": {
        "id": "NiHJK5jTdt1f"
      },
      "source": [
        "Since, the true class of each sample is known, we can use them to evaluate the clustering results we obtained.\n",
        "<br>\n",
        "1- Give the contingency matrix of the clustering."
      ]
    },
    {
      "cell_type": "code",
      "execution_count": 22,
      "metadata": {
        "id": "tionJSeKdt1f",
        "colab": {
          "base_uri": "https://localhost:8080/",
          "height": 125
        },
        "outputId": "9cebb379-07d1-41d0-cd8e-e0672bb84739"
      },
      "outputs": [
        {
          "output_type": "execute_result",
          "data": {
            "text/plain": [
              "      0     1\n",
              "0  4313  4422\n",
              "1   635   630"
            ],
            "text/html": [
              "\n",
              "  <div id=\"df-895c4109-7971-47b0-a7e5-8683e91e0deb\" class=\"colab-df-container\">\n",
              "    <div>\n",
              "<style scoped>\n",
              "    .dataframe tbody tr th:only-of-type {\n",
              "        vertical-align: middle;\n",
              "    }\n",
              "\n",
              "    .dataframe tbody tr th {\n",
              "        vertical-align: top;\n",
              "    }\n",
              "\n",
              "    .dataframe thead th {\n",
              "        text-align: right;\n",
              "    }\n",
              "</style>\n",
              "<table border=\"1\" class=\"dataframe\">\n",
              "  <thead>\n",
              "    <tr style=\"text-align: right;\">\n",
              "      <th></th>\n",
              "      <th>0</th>\n",
              "      <th>1</th>\n",
              "    </tr>\n",
              "  </thead>\n",
              "  <tbody>\n",
              "    <tr>\n",
              "      <th>0</th>\n",
              "      <td>4313</td>\n",
              "      <td>4422</td>\n",
              "    </tr>\n",
              "    <tr>\n",
              "      <th>1</th>\n",
              "      <td>635</td>\n",
              "      <td>630</td>\n",
              "    </tr>\n",
              "  </tbody>\n",
              "</table>\n",
              "</div>\n",
              "    <div class=\"colab-df-buttons\">\n",
              "\n",
              "  <div class=\"colab-df-container\">\n",
              "    <button class=\"colab-df-convert\" onclick=\"convertToInteractive('df-895c4109-7971-47b0-a7e5-8683e91e0deb')\"\n",
              "            title=\"Convert this dataframe to an interactive table.\"\n",
              "            style=\"display:none;\">\n",
              "\n",
              "  <svg xmlns=\"http://www.w3.org/2000/svg\" height=\"24px\" viewBox=\"0 -960 960 960\">\n",
              "    <path d=\"M120-120v-720h720v720H120Zm60-500h600v-160H180v160Zm220 220h160v-160H400v160Zm0 220h160v-160H400v160ZM180-400h160v-160H180v160Zm440 0h160v-160H620v160ZM180-180h160v-160H180v160Zm440 0h160v-160H620v160Z\"/>\n",
              "  </svg>\n",
              "    </button>\n",
              "\n",
              "  <style>\n",
              "    .colab-df-container {\n",
              "      display:flex;\n",
              "      gap: 12px;\n",
              "    }\n",
              "\n",
              "    .colab-df-convert {\n",
              "      background-color: #E8F0FE;\n",
              "      border: none;\n",
              "      border-radius: 50%;\n",
              "      cursor: pointer;\n",
              "      display: none;\n",
              "      fill: #1967D2;\n",
              "      height: 32px;\n",
              "      padding: 0 0 0 0;\n",
              "      width: 32px;\n",
              "    }\n",
              "\n",
              "    .colab-df-convert:hover {\n",
              "      background-color: #E2EBFA;\n",
              "      box-shadow: 0px 1px 2px rgba(60, 64, 67, 0.3), 0px 1px 3px 1px rgba(60, 64, 67, 0.15);\n",
              "      fill: #174EA6;\n",
              "    }\n",
              "\n",
              "    .colab-df-buttons div {\n",
              "      margin-bottom: 4px;\n",
              "    }\n",
              "\n",
              "    [theme=dark] .colab-df-convert {\n",
              "      background-color: #3B4455;\n",
              "      fill: #D2E3FC;\n",
              "    }\n",
              "\n",
              "    [theme=dark] .colab-df-convert:hover {\n",
              "      background-color: #434B5C;\n",
              "      box-shadow: 0px 1px 3px 1px rgba(0, 0, 0, 0.15);\n",
              "      filter: drop-shadow(0px 1px 2px rgba(0, 0, 0, 0.3));\n",
              "      fill: #FFFFFF;\n",
              "    }\n",
              "  </style>\n",
              "\n",
              "    <script>\n",
              "      const buttonEl =\n",
              "        document.querySelector('#df-895c4109-7971-47b0-a7e5-8683e91e0deb button.colab-df-convert');\n",
              "      buttonEl.style.display =\n",
              "        google.colab.kernel.accessAllowed ? 'block' : 'none';\n",
              "\n",
              "      async function convertToInteractive(key) {\n",
              "        const element = document.querySelector('#df-895c4109-7971-47b0-a7e5-8683e91e0deb');\n",
              "        const dataTable =\n",
              "          await google.colab.kernel.invokeFunction('convertToInteractive',\n",
              "                                                    [key], {});\n",
              "        if (!dataTable) return;\n",
              "\n",
              "        const docLinkHtml = 'Like what you see? Visit the ' +\n",
              "          '<a target=\"_blank\" href=https://colab.research.google.com/notebooks/data_table.ipynb>data table notebook</a>'\n",
              "          + ' to learn more about interactive tables.';\n",
              "        element.innerHTML = '';\n",
              "        dataTable['output_type'] = 'display_data';\n",
              "        await google.colab.output.renderOutput(dataTable, element);\n",
              "        const docLink = document.createElement('div');\n",
              "        docLink.innerHTML = docLinkHtml;\n",
              "        element.appendChild(docLink);\n",
              "      }\n",
              "    </script>\n",
              "  </div>\n",
              "\n",
              "\n",
              "    <div id=\"df-4f7d61d4-a0f5-449d-9956-654e4a94816b\">\n",
              "      <button class=\"colab-df-quickchart\" onclick=\"quickchart('df-4f7d61d4-a0f5-449d-9956-654e4a94816b')\"\n",
              "                title=\"Suggest charts\"\n",
              "                style=\"display:none;\">\n",
              "\n",
              "<svg xmlns=\"http://www.w3.org/2000/svg\" height=\"24px\"viewBox=\"0 0 24 24\"\n",
              "     width=\"24px\">\n",
              "    <g>\n",
              "        <path d=\"M19 3H5c-1.1 0-2 .9-2 2v14c0 1.1.9 2 2 2h14c1.1 0 2-.9 2-2V5c0-1.1-.9-2-2-2zM9 17H7v-7h2v7zm4 0h-2V7h2v10zm4 0h-2v-4h2v4z\"/>\n",
              "    </g>\n",
              "</svg>\n",
              "      </button>\n",
              "\n",
              "<style>\n",
              "  .colab-df-quickchart {\n",
              "      --bg-color: #E8F0FE;\n",
              "      --fill-color: #1967D2;\n",
              "      --hover-bg-color: #E2EBFA;\n",
              "      --hover-fill-color: #174EA6;\n",
              "      --disabled-fill-color: #AAA;\n",
              "      --disabled-bg-color: #DDD;\n",
              "  }\n",
              "\n",
              "  [theme=dark] .colab-df-quickchart {\n",
              "      --bg-color: #3B4455;\n",
              "      --fill-color: #D2E3FC;\n",
              "      --hover-bg-color: #434B5C;\n",
              "      --hover-fill-color: #FFFFFF;\n",
              "      --disabled-bg-color: #3B4455;\n",
              "      --disabled-fill-color: #666;\n",
              "  }\n",
              "\n",
              "  .colab-df-quickchart {\n",
              "    background-color: var(--bg-color);\n",
              "    border: none;\n",
              "    border-radius: 50%;\n",
              "    cursor: pointer;\n",
              "    display: none;\n",
              "    fill: var(--fill-color);\n",
              "    height: 32px;\n",
              "    padding: 0;\n",
              "    width: 32px;\n",
              "  }\n",
              "\n",
              "  .colab-df-quickchart:hover {\n",
              "    background-color: var(--hover-bg-color);\n",
              "    box-shadow: 0 1px 2px rgba(60, 64, 67, 0.3), 0 1px 3px 1px rgba(60, 64, 67, 0.15);\n",
              "    fill: var(--button-hover-fill-color);\n",
              "  }\n",
              "\n",
              "  .colab-df-quickchart-complete:disabled,\n",
              "  .colab-df-quickchart-complete:disabled:hover {\n",
              "    background-color: var(--disabled-bg-color);\n",
              "    fill: var(--disabled-fill-color);\n",
              "    box-shadow: none;\n",
              "  }\n",
              "\n",
              "  .colab-df-spinner {\n",
              "    border: 2px solid var(--fill-color);\n",
              "    border-color: transparent;\n",
              "    border-bottom-color: var(--fill-color);\n",
              "    animation:\n",
              "      spin 1s steps(1) infinite;\n",
              "  }\n",
              "\n",
              "  @keyframes spin {\n",
              "    0% {\n",
              "      border-color: transparent;\n",
              "      border-bottom-color: var(--fill-color);\n",
              "      border-left-color: var(--fill-color);\n",
              "    }\n",
              "    20% {\n",
              "      border-color: transparent;\n",
              "      border-left-color: var(--fill-color);\n",
              "      border-top-color: var(--fill-color);\n",
              "    }\n",
              "    30% {\n",
              "      border-color: transparent;\n",
              "      border-left-color: var(--fill-color);\n",
              "      border-top-color: var(--fill-color);\n",
              "      border-right-color: var(--fill-color);\n",
              "    }\n",
              "    40% {\n",
              "      border-color: transparent;\n",
              "      border-right-color: var(--fill-color);\n",
              "      border-top-color: var(--fill-color);\n",
              "    }\n",
              "    60% {\n",
              "      border-color: transparent;\n",
              "      border-right-color: var(--fill-color);\n",
              "    }\n",
              "    80% {\n",
              "      border-color: transparent;\n",
              "      border-right-color: var(--fill-color);\n",
              "      border-bottom-color: var(--fill-color);\n",
              "    }\n",
              "    90% {\n",
              "      border-color: transparent;\n",
              "      border-bottom-color: var(--fill-color);\n",
              "    }\n",
              "  }\n",
              "</style>\n",
              "\n",
              "      <script>\n",
              "        async function quickchart(key) {\n",
              "          const quickchartButtonEl =\n",
              "            document.querySelector('#' + key + ' button');\n",
              "          quickchartButtonEl.disabled = true;  // To prevent multiple clicks.\n",
              "          quickchartButtonEl.classList.add('colab-df-spinner');\n",
              "          try {\n",
              "            const charts = await google.colab.kernel.invokeFunction(\n",
              "                'suggestCharts', [key], {});\n",
              "          } catch (error) {\n",
              "            console.error('Error during call to suggestCharts:', error);\n",
              "          }\n",
              "          quickchartButtonEl.classList.remove('colab-df-spinner');\n",
              "          quickchartButtonEl.classList.add('colab-df-quickchart-complete');\n",
              "        }\n",
              "        (() => {\n",
              "          let quickchartButtonEl =\n",
              "            document.querySelector('#df-4f7d61d4-a0f5-449d-9956-654e4a94816b button');\n",
              "          quickchartButtonEl.style.display =\n",
              "            google.colab.kernel.accessAllowed ? 'block' : 'none';\n",
              "        })();\n",
              "      </script>\n",
              "    </div>\n",
              "\n",
              "  <div id=\"id_ea295546-3bfb-4c0d-a61e-31dde9b9ca25\">\n",
              "    <style>\n",
              "      .colab-df-generate {\n",
              "        background-color: #E8F0FE;\n",
              "        border: none;\n",
              "        border-radius: 50%;\n",
              "        cursor: pointer;\n",
              "        display: none;\n",
              "        fill: #1967D2;\n",
              "        height: 32px;\n",
              "        padding: 0 0 0 0;\n",
              "        width: 32px;\n",
              "      }\n",
              "\n",
              "      .colab-df-generate:hover {\n",
              "        background-color: #E2EBFA;\n",
              "        box-shadow: 0px 1px 2px rgba(60, 64, 67, 0.3), 0px 1px 3px 1px rgba(60, 64, 67, 0.15);\n",
              "        fill: #174EA6;\n",
              "      }\n",
              "\n",
              "      [theme=dark] .colab-df-generate {\n",
              "        background-color: #3B4455;\n",
              "        fill: #D2E3FC;\n",
              "      }\n",
              "\n",
              "      [theme=dark] .colab-df-generate:hover {\n",
              "        background-color: #434B5C;\n",
              "        box-shadow: 0px 1px 3px 1px rgba(0, 0, 0, 0.15);\n",
              "        filter: drop-shadow(0px 1px 2px rgba(0, 0, 0, 0.3));\n",
              "        fill: #FFFFFF;\n",
              "      }\n",
              "    </style>\n",
              "    <button class=\"colab-df-generate\" onclick=\"generateWithVariable('cont_df')\"\n",
              "            title=\"Generate code using this dataframe.\"\n",
              "            style=\"display:none;\">\n",
              "\n",
              "  <svg xmlns=\"http://www.w3.org/2000/svg\" height=\"24px\"viewBox=\"0 0 24 24\"\n",
              "       width=\"24px\">\n",
              "    <path d=\"M7,19H8.4L18.45,9,17,7.55,7,17.6ZM5,21V16.75L18.45,3.32a2,2,0,0,1,2.83,0l1.4,1.43a1.91,1.91,0,0,1,.58,1.4,1.91,1.91,0,0,1-.58,1.4L9.25,21ZM18.45,9,17,7.55Zm-12,3A5.31,5.31,0,0,0,4.9,8.1,5.31,5.31,0,0,0,1,6.5,5.31,5.31,0,0,0,4.9,4.9,5.31,5.31,0,0,0,6.5,1,5.31,5.31,0,0,0,8.1,4.9,5.31,5.31,0,0,0,12,6.5,5.46,5.46,0,0,0,6.5,12Z\"/>\n",
              "  </svg>\n",
              "    </button>\n",
              "    <script>\n",
              "      (() => {\n",
              "      const buttonEl =\n",
              "        document.querySelector('#id_ea295546-3bfb-4c0d-a61e-31dde9b9ca25 button.colab-df-generate');\n",
              "      buttonEl.style.display =\n",
              "        google.colab.kernel.accessAllowed ? 'block' : 'none';\n",
              "\n",
              "      buttonEl.onclick = () => {\n",
              "        google.colab.notebook.generateWithVariable('cont_df');\n",
              "      }\n",
              "      })();\n",
              "    </script>\n",
              "  </div>\n",
              "\n",
              "    </div>\n",
              "  </div>\n"
            ],
            "application/vnd.google.colaboratory.intrinsic+json": {
              "type": "dataframe",
              "variable_name": "cont_df",
              "summary": "{\n  \"name\": \"cont_df\",\n  \"rows\": 2,\n  \"fields\": [\n    {\n      \"column\": 0,\n      \"properties\": {\n        \"dtype\": \"number\",\n        \"std\": 2600,\n        \"min\": 635,\n        \"max\": 4313,\n        \"num_unique_values\": 2,\n        \"samples\": [\n          635,\n          4313\n        ],\n        \"semantic_type\": \"\",\n        \"description\": \"\"\n      }\n    },\n    {\n      \"column\": 1,\n      \"properties\": {\n        \"dtype\": \"number\",\n        \"std\": 2681,\n        \"min\": 630,\n        \"max\": 4422,\n        \"num_unique_values\": 2,\n        \"samples\": [\n          630,\n          4422\n        ],\n        \"semantic_type\": \"\",\n        \"description\": \"\"\n      }\n    }\n  ]\n}"
            }
          },
          "metadata": {},
          "execution_count": 22
        }
      ],
      "source": [
        "from sklearn.metrics.cluster import contingency_matrix\n",
        "import pandas as pd\n",
        "\n",
        "# Matrice de contingence entre les clusters trouvés et les vraies classes\n",
        "cont_matrix = contingency_matrix(y, labels_opt)\n",
        "cont_df = pd.DataFrame(cont_matrix)\n",
        "cont_df\n"
      ]
    },
    {
      "cell_type": "markdown",
      "metadata": {
        "id": "pLPxt1GIdt1f"
      },
      "source": [
        "2- Discuss the obtained matrix"
      ]
    },
    {
      "cell_type": "code",
      "execution_count": null,
      "metadata": {
        "id": "ytYboFPMdt1g"
      },
      "outputs": [],
      "source": [
        "La matrice de contingence montre la correspondance entre les clusters obtenus par K-Means et les classes réelles.\n",
        "Si chaque cluster correspond principalement à une seule classe, cela indique que le clustering a bien séparé les données.\n",
        "Si au contraire plusieurs classes sont mélangées dans un même cluster, le modèle a du mal à distinguer les groupes, ce qui peut être dû à un nombre de clusters mal choisi ou à des variables peu discriminantes"
      ]
    },
    {
      "cell_type": "markdown",
      "metadata": {
        "id": "0JAqYzj2dt1g"
      },
      "source": [
        "With clustering being an unsupervised learning method, classification evaluation metrics (accuracy, precision, etc) are not appropriate. Instead, we can use clustering evaluation metrics (rand index, adjusted rand index, homogeneity, completeness and V-measure).\n",
        "<br>\n",
        "Check the scikit learn documentation to understand each score: https://scikit-learn.org/stable/modules/clustering.html#clustering-performance-evaluation\n",
        "<br>\n",
        "3- Compute all metrics defined above."
      ]
    },
    {
      "cell_type": "code",
      "execution_count": 23,
      "metadata": {
        "id": "N9yoAoU6dt1g",
        "colab": {
          "base_uri": "https://localhost:8080/"
        },
        "outputId": "74394f7b-ffc0-404a-cc8f-1570a9f88ef8"
      },
      "outputs": [
        {
          "output_type": "stream",
          "name": "stdout",
          "text": [
            "Rand Index : 0.5000149814981498\n",
            "Adjusted Rand Index : 2.5409663917133106e-05\n",
            "Homogeneity : 3.9288339788808825e-05\n",
            "Completeness : 2.1522287213344686e-05\n",
            "V-measure : 2.7810104080665927e-05\n"
          ]
        }
      ],
      "source": [
        "from sklearn.metrics import rand_score, adjusted_rand_score\n",
        "from sklearn.metrics import homogeneity_score, completeness_score, v_measure_score\n",
        "\n",
        "# Calcul de toutes les métriques de performance du clustering\n",
        "rand = rand_score(y, labels_opt)\n",
        "adj_rand = adjusted_rand_score(y, labels_opt)\n",
        "homo = homogeneity_score(y, labels_opt)\n",
        "comp = completeness_score(y, labels_opt)\n",
        "v_measure = v_measure_score(y, labels_opt)\n",
        "\n",
        "print(\"Rand Index :\", rand)\n",
        "print(\"Adjusted Rand Index :\", adj_rand)\n",
        "print(\"Homogeneity :\", homo)\n",
        "print(\"Completeness :\", comp)\n",
        "print(\"V-measure :\", v_measure)\n"
      ]
    },
    {
      "cell_type": "code",
      "execution_count": null,
      "metadata": {
        "id": "91HwHL46dt1g"
      },
      "outputs": [],
      "source": [
        "Rand Index indique la proportion d’échantillons correctement regroupés ou séparés.\n",
        "\n",
        "Adjusted Rand Index corrige le Rand Index pour tenir compte du hasard.\n",
        "\n",
        "Homogeneity mesure si chaque cluster ne contient que des points d’une seule classe.\n",
        "\n",
        "Completeness vérifie si tous les points d’une même classe sont regroupés dans un même cluster.\n",
        "\n",
        "V-measure est la moyenne harmonique entre homogeneity et completeness.\n",
        "\n",
        "Des valeurs proches de 1 signifient que le clustering correspond bien aux classes réelles.\n",
        "Si les scores sont faibles (autour de 0.3–0.5), cela suggère que le modèle ne sépare pas clairement les classes, peut-être parce que les caractéristiques ne sont pas assez discriminantes ou que le nombre de clusters est sous-optimal"
      ]
    },
    {
      "cell_type": "code",
      "execution_count": null,
      "metadata": {
        "id": "tNdN-xzRdt1g"
      },
      "outputs": [],
      "source": []
    },
    {
      "cell_type": "code",
      "execution_count": null,
      "metadata": {
        "id": "SHsePLXZdt1g"
      },
      "outputs": [],
      "source": []
    },
    {
      "cell_type": "code",
      "execution_count": null,
      "metadata": {
        "id": "kEACuEprdt1g"
      },
      "outputs": [],
      "source": []
    },
    {
      "cell_type": "markdown",
      "metadata": {
        "id": "5MiEiC3_dt1g"
      },
      "source": [
        "4- Discuss the obtained scores."
      ]
    },
    {
      "cell_type": "code",
      "execution_count": null,
      "metadata": {
        "id": "P9tCoBRDdt1g"
      },
      "outputs": [],
      "source": [
        "Les scores obtenus permettent d’évaluer la cohérence du partitionnement réalisé par K-Means par rapport aux vraies classes.\n",
        "Un Adjusted Rand Index (ARI) et un V-measure élevés indiquent que les clusters correspondent bien aux classes réelles, c’est-à-dire que les points similaires ont été regroupés efficacement.\n",
        "Si les scores se situent autour de 0.5 à 0.7, le clustering est partiellement satisfaisant : il existe une certaine correspondance entre les classes et les clusters, mais aussi un mélange notable.\n",
        "\n",
        "Une homogeneity élevée combinée à une completeness plus faible signifie que chaque cluster contient des points d’une même classe, mais qu’une classe peut être répartie sur plusieurs clusters.\n",
        "Inversement, une homogeneity faible et une completeness élevée indiquent que les classes sont bien regroupées mais les clusters contiennent plusieurs classes.\n",
        "\n",
        "Dans ce cas, si les scores ne sont pas très élevés, cela suggère que K-Means n’est pas parfaitement adapté à cette structure de données — possiblement parce que les frontières entre classes ne sont pas sphériques ou bien séparées, ou encore que le nombre de clusters choisi n’est pas optimal"
      ]
    },
    {
      "cell_type": "markdown",
      "metadata": {
        "id": "XaccLkb2dt1g"
      },
      "source": [
        "### Clustering algorithm 2: Hierarchical clustering"
      ]
    },
    {
      "cell_type": "markdown",
      "metadata": {
        "id": "F8Bo1aEVdt1h"
      },
      "source": [
        "Apply the hierarchical clustering algorithm with 2 centers. Look at the default parameters and make sure the algorithm is based on the single linkage method."
      ]
    },
    {
      "cell_type": "code",
      "execution_count": 24,
      "metadata": {
        "id": "zjFkebb6dt1h",
        "colab": {
          "base_uri": "https://localhost:8080/"
        },
        "outputId": "53dea48f-a9a3-46fd-c734-c4776a6ec5f7"
      },
      "outputs": [
        {
          "output_type": "stream",
          "name": "stdout",
          "text": [
            "Clusters créés : [0 1]\n"
          ]
        }
      ],
      "source": [
        "from sklearn.cluster import AgglomerativeClustering\n",
        "\n",
        "# Application du clustering hiérarchique avec 2 clusters et linkage \"single\"\n",
        "hier_clust = AgglomerativeClustering(n_clusters=2, linkage='single')\n",
        "hier_labels = hier_clust.fit_predict(X)\n",
        "\n",
        "print(\"Clusters créés :\", np.unique(hier_labels))\n"
      ]
    },
    {
      "cell_type": "code",
      "execution_count": null,
      "metadata": {
        "id": "Ly4YgS-Hdt1h"
      },
      "outputs": [],
      "source": []
    },
    {
      "cell_type": "markdown",
      "metadata": {
        "id": "ufqlJ8P-dt1h"
      },
      "source": [
        "How many samples are in each cluster?"
      ]
    },
    {
      "cell_type": "code",
      "execution_count": 25,
      "metadata": {
        "id": "Y8KNOGSodt1h",
        "colab": {
          "base_uri": "https://localhost:8080/"
        },
        "outputId": "23c87ef5-ae0d-437d-dbd0-2f1567cb6993"
      },
      "outputs": [
        {
          "output_type": "stream",
          "name": "stdout",
          "text": [
            "Cluster 0 : 9999 samples\n",
            "Cluster 1 : 1 samples\n"
          ]
        }
      ],
      "source": [
        "unique, counts = np.unique(hier_labels, return_counts=True)\n",
        "for cluster, count in zip(unique, counts):\n",
        "    print(f\"Cluster {cluster} : {count} samples\")\n",
        "    #Le clustering hiérarchique avec la méthode “single linkage” a créé deux groupes de tailles différentes.\n",
        "#Si un cluster est beaucoup plus grand que l’autre, cela peut indiquer que cette méthode est sensible aux valeurs extrêmes ou qu’un groupe de points est plus dense que l’autre\n"
      ]
    },
    {
      "cell_type": "markdown",
      "metadata": {
        "id": "dcLAYRM_dt1h"
      },
      "source": [
        "Apply the hierarchical clustering algorithm again. This time,  change the linkage method to complete linkage."
      ]
    },
    {
      "cell_type": "code",
      "execution_count": 26,
      "metadata": {
        "id": "O83wL-uYdt1h",
        "colab": {
          "base_uri": "https://localhost:8080/"
        },
        "outputId": "5361fd06-17b1-40ca-d730-7ee60627bb6b"
      },
      "outputs": [
        {
          "output_type": "stream",
          "name": "stdout",
          "text": [
            "Clusters créés : [0 1]\n"
          ]
        }
      ],
      "source": [
        "# Clustering hiérarchique avec linkage = 'complete'\n",
        "hier_clust_complete = AgglomerativeClustering(n_clusters=2, linkage='complete')\n",
        "labels_complete = hier_clust_complete.fit_predict(X)\n",
        "\n",
        "print(\"Clusters créés :\", np.unique(labels_complete))\n"
      ]
    },
    {
      "cell_type": "code",
      "execution_count": null,
      "metadata": {
        "id": "haOIRUyZdt1h"
      },
      "outputs": [],
      "source": []
    },
    {
      "cell_type": "markdown",
      "metadata": {
        "id": "YSD0GRBNdt1h"
      },
      "source": [
        "How many samples are in each cluster?"
      ]
    },
    {
      "cell_type": "code",
      "execution_count": 27,
      "metadata": {
        "id": "Xb3-YefZdt1i",
        "colab": {
          "base_uri": "https://localhost:8080/"
        },
        "outputId": "4a317776-8c2b-42a9-8a29-cd9328433cc8"
      },
      "outputs": [
        {
          "output_type": "stream",
          "name": "stdout",
          "text": [
            "Cluster 0 : 5657 samples\n",
            "Cluster 1 : 4343 samples\n"
          ]
        }
      ],
      "source": [
        "unique, counts = np.unique(labels_complete, return_counts=True)\n",
        "for cluster, count in zip(unique, counts):\n",
        "    print(f\"Cluster {cluster} : {count} samples\")\n"
      ]
    },
    {
      "cell_type": "markdown",
      "metadata": {
        "id": "iLt5Qyn1dt1i"
      },
      "source": [
        "Apply the hierarchical clustering algorithm once again. This time, change the linkage method to ward linkage."
      ]
    },
    {
      "cell_type": "code",
      "execution_count": 28,
      "metadata": {
        "id": "6GNFm9L-dt1i",
        "colab": {
          "base_uri": "https://localhost:8080/"
        },
        "outputId": "558a2e54-85bd-4cf7-d8f1-5902e903318e"
      },
      "outputs": [
        {
          "output_type": "stream",
          "name": "stdout",
          "text": [
            "Clusters créés : [0 1]\n"
          ]
        }
      ],
      "source": [
        "# Clustering hiérarchique avec linkage = 'ward'\n",
        "hier_clust_ward = AgglomerativeClustering(n_clusters=2, linkage='ward')\n",
        "labels_ward = hier_clust_ward.fit_predict(X)\n",
        "\n",
        "print(\"Clusters créés :\", np.unique(labels_ward))\n"
      ]
    },
    {
      "cell_type": "markdown",
      "metadata": {
        "id": "XPcekqDKdt1i"
      },
      "source": [
        "How many samples are in each cluster?"
      ]
    },
    {
      "cell_type": "code",
      "execution_count": null,
      "metadata": {
        "id": "K_SUB7_0dt1i"
      },
      "outputs": [],
      "source": [
        "unique, counts = np.unique(labels_ward, return_counts=True)\n",
        "for cluster, count in zip(unique, counts):\n",
        "    print(f\"Cluster {cluster} : {count} samples\")\n"
      ]
    },
    {
      "cell_type": "markdown",
      "metadata": {
        "id": "_6473o0edt1i"
      },
      "source": [
        "Compare the three results. Is the type of linkage method used important? Which one gave you the best result? For the rest of this section, use the best linkage method."
      ]
    },
    {
      "cell_type": "code",
      "execution_count": null,
      "metadata": {
        "id": "gpli7Hw9dt1i"
      },
      "outputs": [],
      "source": [
        "En comparant les résultats, la méthode “ward” est souvent la plus performante pour des données numériques continues, tandis que “single” peut être trop sensible aux outliers et “complete” peut sur-séparer les données"
      ]
    },
    {
      "cell_type": "markdown",
      "metadata": {
        "id": "Ol58-yfHdt1i"
      },
      "source": [
        "In order to optimize our clusters, we want to apply the silhouette method to obtain the optimal number of centers.\n",
        "Apply silhouette on a range from 2 to 10 centers, display the average silhouette score for each and display the silhouette plot for each center.\n",
        "<br> For some help, look at the silhouette documentation in scikit learn: https://scikit-learn.org/stable/auto_examples/cluster/plot_kmeans_silhouette_analysis.html#sphx-glr-auto-examples-cluster-plot-kmeans-silhouette-analysis-py\n",
        "\n",
        "<br>\n",
        "\n",
        "Please note that the code below is NOT complete. Fill in the missing parts (they are indicated by ### TO COMPLETE)"
      ]
    },
    {
      "cell_type": "code",
      "execution_count": null,
      "metadata": {
        "id": "HanoMKnSdt1j"
      },
      "outputs": [],
      "source": [
        "from sklearn.cluster import AgglomerativeClustering\n",
        "from sklearn.metrics import silhouette_samples, silhouette_score\n",
        "import matplotlib.pyplot as plt\n",
        "import numpy as np\n",
        "import matplotlib.cm as cm\n",
        "\n",
        "# Tester plusieurs valeurs de k (nombre de clusters)\n",
        "range_n_clusters = range(2, 11)\n",
        "\n",
        "for n_clusters in range_n_clusters:\n",
        "    fig, ax = plt.subplots(1, 1, figsize=(8, 6))\n",
        "\n",
        "    # Limites du graphique\n",
        "    ax.set_xlim([-0.1, 1])\n",
        "    ax.set_ylim([0, len(X) + (n_clusters + 1) * 10])\n",
        "\n",
        "    # Création du modèle hiérarchique\n",
        "    clusterer = AgglomerativeClustering(n_clusters=n_clusters, linkage='ward')\n",
        "    cluster_labels = clusterer.fit_predict(X)\n",
        "\n",
        "    # Calcul du score de silhouette moyen\n",
        "    silhouette_avg = silhouette_score(X, cluster_labels)\n",
        "    print(f\"For n_clusters = {n_clusters}, average silhouette_score = {silhouette_avg:.3f}\")\n",
        "\n",
        "    # Calcul du score de silhouette pour chaque échantillon\n",
        "    sample_silhouette_values = silhouette_samples(X, cluster_labels)\n",
        "\n",
        "    y_lower = 10\n",
        "    for i in range(n_clusters):\n",
        "        ith_cluster_silhouette_values = sample_silhouette_values[cluster_labels == i]\n",
        "        ith_cluster_silhouette_values.sort()\n",
        "\n",
        "        size_cluster_i = ith_cluster_silhouette_values.shape[0]\n",
        "        y_upper = y_lower + size_cluster_i\n",
        "\n",
        "        color = cm.nipy_spectral(float(i) / n_clusters)\n",
        "        ax.fill_betweenx(np.arange(y_lower, y_upper),\n",
        "                         0, ith_cluster_silhouette_values,\n",
        "                         facecolor=color, edgecolor=color, alpha=0.7)\n",
        "\n",
        "        ax.text(-0.05, y_lower + 0.5 * size_cluster_i, str(i))\n",
        "        y_lower = y_upper + 10\n",
        "\n",
        "    ax.set_title(f\"Silhouette plot for n_clusters = {n_clusters}\")\n",
        "    ax.set_xlabel(\"Silhouette coefficient values\")\n",
        "    ax.set_ylabel(\"Cluster label\")\n",
        "\n",
        "    ax.axvline(x=silhouette_avg, color=\"red\", linestyle=\"--\")\n",
        "    ax.set_yticks([])\n",
        "    ax.set_xticks([-0.1, 0, 0.2, 0.4, 0.6, 0.8, 1])\n",
        "\n",
        "plt.show()\n"
      ]
    },
    {
      "cell_type": "markdown",
      "source": [
        "Cette analyse du coefficient de silhouette permet d’évaluer la qualité du regroupement hiérarchique pour différents nombres de clusters.\n",
        "Le meilleur k correspond à la valeur de n_clusters qui maximise le score moyen de silhouette (plus proche de 1 = meilleure séparation).\n",
        "Si le score chute en augmentant le nombre de clusters, cela indique un surpartitionnement (les groupes deviennent artificiellement petits).\n",
        "\n",
        "Généralement, un score > 0.5 indique une structure de clusters claire, tandis qu’un score < 0.3 suggère un mélange important entre les groupes."
      ],
      "metadata": {
        "id": "fhPJMEYhcXfF"
      }
    },
    {
      "cell_type": "markdown",
      "metadata": {
        "id": "Tp0wH_hVdt1j"
      },
      "source": [
        "What is, in your opinion, the best number of centers to choose?"
      ]
    },
    {
      "cell_type": "code",
      "execution_count": null,
      "metadata": {
        "id": "5j2Gt5endt1j"
      },
      "outputs": [],
      "source": [
        "Cette analyse du coefficient de silhouette permet d’évaluer la qualité du regroupement hiérarchique pour différents nombres de clusters.\n",
        "Le meilleur k correspond à la valeur de n_clusters qui maximise le score moyen de silhouette (plus proche de 1 = meilleure séparation).\n",
        "Si le score chute en augmentant le nombre de clusters, cela indique un surpartitionnement (les groupes deviennent artificiellement petits).\n",
        "\n",
        "Généralement, un score > 0.5 indique une structure de clusters claire, tandis qu’un score < 0.3 suggère un mélange important entre les groupes."
      ]
    },
    {
      "cell_type": "markdown",
      "metadata": {
        "id": "mOs17xDmdt1j"
      },
      "source": [
        "Apply hierarchical clustering again with the optimal number of centers."
      ]
    },
    {
      "cell_type": "code",
      "execution_count": 29,
      "metadata": {
        "id": "pYgGPNQUdt1j",
        "colab": {
          "base_uri": "https://localhost:8080/"
        },
        "outputId": "b786d6d5-7902-44ed-afce-62b12b1dc11d"
      },
      "outputs": [
        {
          "output_type": "stream",
          "name": "stdout",
          "text": [
            "k_opt = 2\n"
          ]
        }
      ],
      "source": [
        "# Ré-entraînement hiérarchique avec le k optimal trouvé ci-dessus\n",
        "k_opt = best_k          # ou remplace par un entier si tu choisis manuellement\n",
        "hc_opt = AgglomerativeClustering(n_clusters=k_opt, linkage='ward')\n",
        "labels_hc = hc_opt.fit_predict(X)\n",
        "\n",
        "print(\"k_opt =\", k_opt)\n",
        "# labels_hc = étiquettes de cluster finales (longueur = nb d'échantillons)\n"
      ]
    },
    {
      "cell_type": "markdown",
      "metadata": {
        "id": "4ARkrgljdt1j"
      },
      "source": [
        "How many samples are in each cluster?"
      ]
    },
    {
      "cell_type": "code",
      "execution_count": 30,
      "metadata": {
        "id": "OdDCA4todt1j",
        "colab": {
          "base_uri": "https://localhost:8080/",
          "height": 146
        },
        "outputId": "52ed51bb-2a16-4e42-9657-f8be00e2d556"
      },
      "outputs": [
        {
          "output_type": "execute_result",
          "data": {
            "text/plain": [
              "cluster_0    5580\n",
              "cluster_1    4420\n",
              "Name: n_samples, dtype: int64"
            ],
            "text/html": [
              "<div>\n",
              "<style scoped>\n",
              "    .dataframe tbody tr th:only-of-type {\n",
              "        vertical-align: middle;\n",
              "    }\n",
              "\n",
              "    .dataframe tbody tr th {\n",
              "        vertical-align: top;\n",
              "    }\n",
              "\n",
              "    .dataframe thead th {\n",
              "        text-align: right;\n",
              "    }\n",
              "</style>\n",
              "<table border=\"1\" class=\"dataframe\">\n",
              "  <thead>\n",
              "    <tr style=\"text-align: right;\">\n",
              "      <th></th>\n",
              "      <th>n_samples</th>\n",
              "    </tr>\n",
              "  </thead>\n",
              "  <tbody>\n",
              "    <tr>\n",
              "      <th>cluster_0</th>\n",
              "      <td>5580</td>\n",
              "    </tr>\n",
              "    <tr>\n",
              "      <th>cluster_1</th>\n",
              "      <td>4420</td>\n",
              "    </tr>\n",
              "  </tbody>\n",
              "</table>\n",
              "</div><br><label><b>dtype:</b> int64</label>"
            ]
          },
          "metadata": {},
          "execution_count": 30
        }
      ],
      "source": [
        "import pandas as pd\n",
        "\n",
        "counts = pd.Series(labels_hc).value_counts().sort_index()\n",
        "counts.index = [f\"cluster_{i}\" for i in counts.index]\n",
        "counts.name = \"n_samples\"\n",
        "counts\n"
      ]
    },
    {
      "cell_type": "markdown",
      "metadata": {
        "id": "tngeGHEtdt1k"
      },
      "source": [
        "Since, the true class of each sample is known, we can use them to evaluate the clustering results we obtained.\n",
        "<br>\n",
        "1- Give the contingency matrix of the clustering."
      ]
    },
    {
      "cell_type": "code",
      "execution_count": null,
      "metadata": {
        "id": "nm0Pa9l_dt1k"
      },
      "outputs": [],
      "source": [
        "La matrice de contingence montre, pour chaque vraie classe (lignes), la répartition des échantillons dans les clusters (colonnes).\n",
        "Une bonne correspondance apparaît quand chaque ligne est fortement concentrée sur une seule colonne (peu de dispersion), ce qui indique que le clustering retrouve bien les classes réelles.\n",
        "Si au contraire une ligne est éparpillée sur plusieurs colonnes, la classe est mal séparée par ce regroupement"
      ]
    },
    {
      "cell_type": "markdown",
      "metadata": {
        "id": "K9eXmNPedt1k"
      },
      "source": [
        "2- Discuss the obtained matrix."
      ]
    },
    {
      "cell_type": "code",
      "execution_count": null,
      "metadata": {
        "id": "UwpYMLlmdt1k"
      },
      "outputs": [],
      "source": [
        "ARI proche de 1 ⇒ forte concordance entre clusters et vraies classes (0 ~ aléatoire).\n",
        " Homogeneity proche de 1 ⇒ chaque cluster contient des éléments d’une seule classe.\n",
        " Completeness proche de 1 ⇒ les éléments d’une même classe sont regroupés dans un même cluster.\n",
        " V-measure est la moyenne harmonique de Homogeneity et Completeness.\n",
        "Des valeurs élevées sur ces métriques indiquent que le clustering hiérarchique capture bien la structure des classes."
      ]
    },
    {
      "cell_type": "markdown",
      "metadata": {
        "id": "QHQPy1yFdt1k"
      },
      "source": [
        "With clustering being an unsupervised learning method, classification evaluation metrics (accuracy, precision, etc) are not appropriate. Instead, we can use clustering evaluation metrics (rand index, adjusted rand index, homogeneity, completeness and V-measure).\n",
        "<br>\n",
        "Check the scikit learn documentation to understand each score: https://scikit-learn.org/stable/modules/clustering.html#clustering-performance-evaluation\n",
        "<br>\n",
        "3- Compute all metrics defined above."
      ]
    },
    {
      "cell_type": "code",
      "execution_count": 31,
      "metadata": {
        "id": "LHdQ54I4dt1k",
        "colab": {
          "base_uri": "https://localhost:8080/"
        },
        "outputId": "289951e0-6b68-4fbc-ffed-2e4894ef9b2a"
      },
      "outputs": [
        {
          "output_type": "stream",
          "name": "stdout",
          "text": [
            "→ Méthode détectée : Hierarchical (ward)\n"
          ]
        }
      ],
      "source": [
        "# On récupère automatiquement les étiquettes produites précédemment\n",
        "labels = None\n",
        "method_name = None\n",
        "\n",
        "if 'labels_hc' in globals():\n",
        "    labels = labels_hc\n",
        "    method_name = \"Hierarchical (ward)\"\n",
        "elif 'labels_km' in globals():\n",
        "    labels = labels_km\n",
        "    method_name = \"KMeans\"\n",
        "elif 'labels' in globals():  # au cas où tu utilises \"labels\" ailleurs\n",
        "    method_name = \"Clustering\"\n",
        "else:\n",
        "    raise ValueError(\"Aucun vecteur d'étiquettes trouvé (labels_hc / labels_km). Exécute le clustering avant.\")\n",
        "\n",
        "print(f\"→ Méthode détectée : {method_name}\")\n"
      ]
    },
    {
      "cell_type": "code",
      "execution_count": 32,
      "metadata": {
        "id": "20C5vz4-dt1k",
        "colab": {
          "base_uri": "https://localhost:8080/"
        },
        "outputId": "e39af3e8-fb9d-4350-c525-c0ea0ed95ad8"
      },
      "outputs": [
        {
          "output_type": "stream",
          "name": "stdout",
          "text": [
            "Hierarchical (ward) — Silhouette moyen : 0.616\n"
          ]
        }
      ],
      "source": [
        "from sklearn.metrics import silhouette_score\n",
        "\n",
        "sil = silhouette_score(X, labels)\n",
        "print(f\"{method_name} — Silhouette moyen : {sil:.3f}\")\n"
      ]
    },
    {
      "cell_type": "code",
      "execution_count": 33,
      "metadata": {
        "id": "aSSYsrbwdt1k",
        "colab": {
          "base_uri": "https://localhost:8080/"
        },
        "outputId": "d177ab7e-1af8-4528-ed4d-d00b19a70105"
      },
      "outputs": [
        {
          "output_type": "stream",
          "name": "stdout",
          "text": [
            "Hierarchical (ward)\n",
            "  Adjusted Rand Index (ARI) : 0.001\n",
            "  Homogeneity               : 0.000\n",
            "  Completeness              : 0.000\n",
            "  V-measure                 : 0.000\n"
          ]
        }
      ],
      "source": [
        "from sklearn.metrics import adjusted_rand_score, homogeneity_score, completeness_score, v_measure_score\n",
        "\n",
        "ari = adjusted_rand_score(y, labels)\n",
        "h   = homogeneity_score(y, labels)\n",
        "c   = completeness_score(y, labels)\n",
        "v   = v_measure_score(y, labels)\n",
        "\n",
        "print(f\"{method_name}\")\n",
        "print(f\"  Adjusted Rand Index (ARI) : {ari:.3f}\")\n",
        "print(f\"  Homogeneity               : {h:.3f}\")\n",
        "print(f\"  Completeness              : {c:.3f}\")\n",
        "print(f\"  V-measure                 : {v:.3f}\")\n"
      ]
    },
    {
      "cell_type": "code",
      "execution_count": 34,
      "metadata": {
        "id": "Dd2pQI5sdt1k",
        "colab": {
          "base_uri": "https://localhost:8080/",
          "height": 125
        },
        "outputId": "f05c7b5f-7804-415c-ac4e-c094fe25cf5c"
      },
      "outputs": [
        {
          "output_type": "execute_result",
          "data": {
            "text/plain": [
              "              cluster_0  cluster_1\n",
              "class_Basic        4895       3840\n",
              "class_Luxury        685        580"
            ],
            "text/html": [
              "\n",
              "  <div id=\"df-ba563033-69cb-42a7-b22a-deeefdb2f92c\" class=\"colab-df-container\">\n",
              "    <div>\n",
              "<style scoped>\n",
              "    .dataframe tbody tr th:only-of-type {\n",
              "        vertical-align: middle;\n",
              "    }\n",
              "\n",
              "    .dataframe tbody tr th {\n",
              "        vertical-align: top;\n",
              "    }\n",
              "\n",
              "    .dataframe thead th {\n",
              "        text-align: right;\n",
              "    }\n",
              "</style>\n",
              "<table border=\"1\" class=\"dataframe\">\n",
              "  <thead>\n",
              "    <tr style=\"text-align: right;\">\n",
              "      <th></th>\n",
              "      <th>cluster_0</th>\n",
              "      <th>cluster_1</th>\n",
              "    </tr>\n",
              "  </thead>\n",
              "  <tbody>\n",
              "    <tr>\n",
              "      <th>class_Basic</th>\n",
              "      <td>4895</td>\n",
              "      <td>3840</td>\n",
              "    </tr>\n",
              "    <tr>\n",
              "      <th>class_Luxury</th>\n",
              "      <td>685</td>\n",
              "      <td>580</td>\n",
              "    </tr>\n",
              "  </tbody>\n",
              "</table>\n",
              "</div>\n",
              "    <div class=\"colab-df-buttons\">\n",
              "\n",
              "  <div class=\"colab-df-container\">\n",
              "    <button class=\"colab-df-convert\" onclick=\"convertToInteractive('df-ba563033-69cb-42a7-b22a-deeefdb2f92c')\"\n",
              "            title=\"Convert this dataframe to an interactive table.\"\n",
              "            style=\"display:none;\">\n",
              "\n",
              "  <svg xmlns=\"http://www.w3.org/2000/svg\" height=\"24px\" viewBox=\"0 -960 960 960\">\n",
              "    <path d=\"M120-120v-720h720v720H120Zm60-500h600v-160H180v160Zm220 220h160v-160H400v160Zm0 220h160v-160H400v160ZM180-400h160v-160H180v160Zm440 0h160v-160H620v160ZM180-180h160v-160H180v160Zm440 0h160v-160H620v160Z\"/>\n",
              "  </svg>\n",
              "    </button>\n",
              "\n",
              "  <style>\n",
              "    .colab-df-container {\n",
              "      display:flex;\n",
              "      gap: 12px;\n",
              "    }\n",
              "\n",
              "    .colab-df-convert {\n",
              "      background-color: #E8F0FE;\n",
              "      border: none;\n",
              "      border-radius: 50%;\n",
              "      cursor: pointer;\n",
              "      display: none;\n",
              "      fill: #1967D2;\n",
              "      height: 32px;\n",
              "      padding: 0 0 0 0;\n",
              "      width: 32px;\n",
              "    }\n",
              "\n",
              "    .colab-df-convert:hover {\n",
              "      background-color: #E2EBFA;\n",
              "      box-shadow: 0px 1px 2px rgba(60, 64, 67, 0.3), 0px 1px 3px 1px rgba(60, 64, 67, 0.15);\n",
              "      fill: #174EA6;\n",
              "    }\n",
              "\n",
              "    .colab-df-buttons div {\n",
              "      margin-bottom: 4px;\n",
              "    }\n",
              "\n",
              "    [theme=dark] .colab-df-convert {\n",
              "      background-color: #3B4455;\n",
              "      fill: #D2E3FC;\n",
              "    }\n",
              "\n",
              "    [theme=dark] .colab-df-convert:hover {\n",
              "      background-color: #434B5C;\n",
              "      box-shadow: 0px 1px 3px 1px rgba(0, 0, 0, 0.15);\n",
              "      filter: drop-shadow(0px 1px 2px rgba(0, 0, 0, 0.3));\n",
              "      fill: #FFFFFF;\n",
              "    }\n",
              "  </style>\n",
              "\n",
              "    <script>\n",
              "      const buttonEl =\n",
              "        document.querySelector('#df-ba563033-69cb-42a7-b22a-deeefdb2f92c button.colab-df-convert');\n",
              "      buttonEl.style.display =\n",
              "        google.colab.kernel.accessAllowed ? 'block' : 'none';\n",
              "\n",
              "      async function convertToInteractive(key) {\n",
              "        const element = document.querySelector('#df-ba563033-69cb-42a7-b22a-deeefdb2f92c');\n",
              "        const dataTable =\n",
              "          await google.colab.kernel.invokeFunction('convertToInteractive',\n",
              "                                                    [key], {});\n",
              "        if (!dataTable) return;\n",
              "\n",
              "        const docLinkHtml = 'Like what you see? Visit the ' +\n",
              "          '<a target=\"_blank\" href=https://colab.research.google.com/notebooks/data_table.ipynb>data table notebook</a>'\n",
              "          + ' to learn more about interactive tables.';\n",
              "        element.innerHTML = '';\n",
              "        dataTable['output_type'] = 'display_data';\n",
              "        await google.colab.output.renderOutput(dataTable, element);\n",
              "        const docLink = document.createElement('div');\n",
              "        docLink.innerHTML = docLinkHtml;\n",
              "        element.appendChild(docLink);\n",
              "      }\n",
              "    </script>\n",
              "  </div>\n",
              "\n",
              "\n",
              "    <div id=\"df-ce4080b0-8c87-41e0-9023-c621128d8256\">\n",
              "      <button class=\"colab-df-quickchart\" onclick=\"quickchart('df-ce4080b0-8c87-41e0-9023-c621128d8256')\"\n",
              "                title=\"Suggest charts\"\n",
              "                style=\"display:none;\">\n",
              "\n",
              "<svg xmlns=\"http://www.w3.org/2000/svg\" height=\"24px\"viewBox=\"0 0 24 24\"\n",
              "     width=\"24px\">\n",
              "    <g>\n",
              "        <path d=\"M19 3H5c-1.1 0-2 .9-2 2v14c0 1.1.9 2 2 2h14c1.1 0 2-.9 2-2V5c0-1.1-.9-2-2-2zM9 17H7v-7h2v7zm4 0h-2V7h2v10zm4 0h-2v-4h2v4z\"/>\n",
              "    </g>\n",
              "</svg>\n",
              "      </button>\n",
              "\n",
              "<style>\n",
              "  .colab-df-quickchart {\n",
              "      --bg-color: #E8F0FE;\n",
              "      --fill-color: #1967D2;\n",
              "      --hover-bg-color: #E2EBFA;\n",
              "      --hover-fill-color: #174EA6;\n",
              "      --disabled-fill-color: #AAA;\n",
              "      --disabled-bg-color: #DDD;\n",
              "  }\n",
              "\n",
              "  [theme=dark] .colab-df-quickchart {\n",
              "      --bg-color: #3B4455;\n",
              "      --fill-color: #D2E3FC;\n",
              "      --hover-bg-color: #434B5C;\n",
              "      --hover-fill-color: #FFFFFF;\n",
              "      --disabled-bg-color: #3B4455;\n",
              "      --disabled-fill-color: #666;\n",
              "  }\n",
              "\n",
              "  .colab-df-quickchart {\n",
              "    background-color: var(--bg-color);\n",
              "    border: none;\n",
              "    border-radius: 50%;\n",
              "    cursor: pointer;\n",
              "    display: none;\n",
              "    fill: var(--fill-color);\n",
              "    height: 32px;\n",
              "    padding: 0;\n",
              "    width: 32px;\n",
              "  }\n",
              "\n",
              "  .colab-df-quickchart:hover {\n",
              "    background-color: var(--hover-bg-color);\n",
              "    box-shadow: 0 1px 2px rgba(60, 64, 67, 0.3), 0 1px 3px 1px rgba(60, 64, 67, 0.15);\n",
              "    fill: var(--button-hover-fill-color);\n",
              "  }\n",
              "\n",
              "  .colab-df-quickchart-complete:disabled,\n",
              "  .colab-df-quickchart-complete:disabled:hover {\n",
              "    background-color: var(--disabled-bg-color);\n",
              "    fill: var(--disabled-fill-color);\n",
              "    box-shadow: none;\n",
              "  }\n",
              "\n",
              "  .colab-df-spinner {\n",
              "    border: 2px solid var(--fill-color);\n",
              "    border-color: transparent;\n",
              "    border-bottom-color: var(--fill-color);\n",
              "    animation:\n",
              "      spin 1s steps(1) infinite;\n",
              "  }\n",
              "\n",
              "  @keyframes spin {\n",
              "    0% {\n",
              "      border-color: transparent;\n",
              "      border-bottom-color: var(--fill-color);\n",
              "      border-left-color: var(--fill-color);\n",
              "    }\n",
              "    20% {\n",
              "      border-color: transparent;\n",
              "      border-left-color: var(--fill-color);\n",
              "      border-top-color: var(--fill-color);\n",
              "    }\n",
              "    30% {\n",
              "      border-color: transparent;\n",
              "      border-left-color: var(--fill-color);\n",
              "      border-top-color: var(--fill-color);\n",
              "      border-right-color: var(--fill-color);\n",
              "    }\n",
              "    40% {\n",
              "      border-color: transparent;\n",
              "      border-right-color: var(--fill-color);\n",
              "      border-top-color: var(--fill-color);\n",
              "    }\n",
              "    60% {\n",
              "      border-color: transparent;\n",
              "      border-right-color: var(--fill-color);\n",
              "    }\n",
              "    80% {\n",
              "      border-color: transparent;\n",
              "      border-right-color: var(--fill-color);\n",
              "      border-bottom-color: var(--fill-color);\n",
              "    }\n",
              "    90% {\n",
              "      border-color: transparent;\n",
              "      border-bottom-color: var(--fill-color);\n",
              "    }\n",
              "  }\n",
              "</style>\n",
              "\n",
              "      <script>\n",
              "        async function quickchart(key) {\n",
              "          const quickchartButtonEl =\n",
              "            document.querySelector('#' + key + ' button');\n",
              "          quickchartButtonEl.disabled = true;  // To prevent multiple clicks.\n",
              "          quickchartButtonEl.classList.add('colab-df-spinner');\n",
              "          try {\n",
              "            const charts = await google.colab.kernel.invokeFunction(\n",
              "                'suggestCharts', [key], {});\n",
              "          } catch (error) {\n",
              "            console.error('Error during call to suggestCharts:', error);\n",
              "          }\n",
              "          quickchartButtonEl.classList.remove('colab-df-spinner');\n",
              "          quickchartButtonEl.classList.add('colab-df-quickchart-complete');\n",
              "        }\n",
              "        (() => {\n",
              "          let quickchartButtonEl =\n",
              "            document.querySelector('#df-ce4080b0-8c87-41e0-9023-c621128d8256 button');\n",
              "          quickchartButtonEl.style.display =\n",
              "            google.colab.kernel.accessAllowed ? 'block' : 'none';\n",
              "        })();\n",
              "      </script>\n",
              "    </div>\n",
              "\n",
              "  <div id=\"id_604591c5-639d-43af-8491-dac19da09dd3\">\n",
              "    <style>\n",
              "      .colab-df-generate {\n",
              "        background-color: #E8F0FE;\n",
              "        border: none;\n",
              "        border-radius: 50%;\n",
              "        cursor: pointer;\n",
              "        display: none;\n",
              "        fill: #1967D2;\n",
              "        height: 32px;\n",
              "        padding: 0 0 0 0;\n",
              "        width: 32px;\n",
              "      }\n",
              "\n",
              "      .colab-df-generate:hover {\n",
              "        background-color: #E2EBFA;\n",
              "        box-shadow: 0px 1px 2px rgba(60, 64, 67, 0.3), 0px 1px 3px 1px rgba(60, 64, 67, 0.15);\n",
              "        fill: #174EA6;\n",
              "      }\n",
              "\n",
              "      [theme=dark] .colab-df-generate {\n",
              "        background-color: #3B4455;\n",
              "        fill: #D2E3FC;\n",
              "      }\n",
              "\n",
              "      [theme=dark] .colab-df-generate:hover {\n",
              "        background-color: #434B5C;\n",
              "        box-shadow: 0px 1px 3px 1px rgba(0, 0, 0, 0.15);\n",
              "        filter: drop-shadow(0px 1px 2px rgba(0, 0, 0, 0.3));\n",
              "        fill: #FFFFFF;\n",
              "      }\n",
              "    </style>\n",
              "    <button class=\"colab-df-generate\" onclick=\"generateWithVariable('cont_table')\"\n",
              "            title=\"Generate code using this dataframe.\"\n",
              "            style=\"display:none;\">\n",
              "\n",
              "  <svg xmlns=\"http://www.w3.org/2000/svg\" height=\"24px\"viewBox=\"0 0 24 24\"\n",
              "       width=\"24px\">\n",
              "    <path d=\"M7,19H8.4L18.45,9,17,7.55,7,17.6ZM5,21V16.75L18.45,3.32a2,2,0,0,1,2.83,0l1.4,1.43a1.91,1.91,0,0,1,.58,1.4,1.91,1.91,0,0,1-.58,1.4L9.25,21ZM18.45,9,17,7.55Zm-12,3A5.31,5.31,0,0,0,4.9,8.1,5.31,5.31,0,0,0,1,6.5,5.31,5.31,0,0,0,4.9,4.9,5.31,5.31,0,0,0,6.5,1,5.31,5.31,0,0,0,8.1,4.9,5.31,5.31,0,0,0,12,6.5,5.46,5.46,0,0,0,6.5,12Z\"/>\n",
              "  </svg>\n",
              "    </button>\n",
              "    <script>\n",
              "      (() => {\n",
              "      const buttonEl =\n",
              "        document.querySelector('#id_604591c5-639d-43af-8491-dac19da09dd3 button.colab-df-generate');\n",
              "      buttonEl.style.display =\n",
              "        google.colab.kernel.accessAllowed ? 'block' : 'none';\n",
              "\n",
              "      buttonEl.onclick = () => {\n",
              "        google.colab.notebook.generateWithVariable('cont_table');\n",
              "      }\n",
              "      })();\n",
              "    </script>\n",
              "  </div>\n",
              "\n",
              "    </div>\n",
              "  </div>\n"
            ],
            "application/vnd.google.colaboratory.intrinsic+json": {
              "type": "dataframe",
              "variable_name": "cont_table",
              "summary": "{\n  \"name\": \"cont_table\",\n  \"rows\": 2,\n  \"fields\": [\n    {\n      \"column\": \"cluster_0\",\n      \"properties\": {\n        \"dtype\": \"number\",\n        \"std\": 2976,\n        \"min\": 685,\n        \"max\": 4895,\n        \"num_unique_values\": 2,\n        \"samples\": [\n          685,\n          4895\n        ],\n        \"semantic_type\": \"\",\n        \"description\": \"\"\n      }\n    },\n    {\n      \"column\": \"cluster_1\",\n      \"properties\": {\n        \"dtype\": \"number\",\n        \"std\": 2305,\n        \"min\": 580,\n        \"max\": 3840,\n        \"num_unique_values\": 2,\n        \"samples\": [\n          580,\n          3840\n        ],\n        \"semantic_type\": \"\",\n        \"description\": \"\"\n      }\n    }\n  ]\n}"
            }
          },
          "metadata": {},
          "execution_count": 34
        }
      ],
      "source": [
        "from sklearn.metrics.cluster import contingency_matrix\n",
        "import pandas as pd\n",
        "import numpy as np\n",
        "\n",
        "C = contingency_matrix(y, labels)\n",
        "cont_table = pd.DataFrame(\n",
        "    C,\n",
        "    index=[f\"class_{i}\" for i in np.unique(y)],\n",
        "    columns=[f\"cluster_{i}\" for i in np.unique(labels)]\n",
        ")\n",
        "cont_table\n"
      ]
    },
    {
      "cell_type": "code",
      "execution_count": 35,
      "metadata": {
        "id": "GiOFk5fqdt1k",
        "colab": {
          "base_uri": "https://localhost:8080/",
          "height": 125
        },
        "outputId": "16b476e3-ae6b-4450-b062-d997ce284776"
      },
      "outputs": [
        {
          "output_type": "execute_result",
          "data": {
            "text/plain": [
              "              cluster_0  cluster_1\n",
              "class_Basic       0.560      0.440\n",
              "class_Luxury      0.542      0.458"
            ],
            "text/html": [
              "\n",
              "  <div id=\"df-7f367080-560c-4693-b44c-e36541474179\" class=\"colab-df-container\">\n",
              "    <div>\n",
              "<style scoped>\n",
              "    .dataframe tbody tr th:only-of-type {\n",
              "        vertical-align: middle;\n",
              "    }\n",
              "\n",
              "    .dataframe tbody tr th {\n",
              "        vertical-align: top;\n",
              "    }\n",
              "\n",
              "    .dataframe thead th {\n",
              "        text-align: right;\n",
              "    }\n",
              "</style>\n",
              "<table border=\"1\" class=\"dataframe\">\n",
              "  <thead>\n",
              "    <tr style=\"text-align: right;\">\n",
              "      <th></th>\n",
              "      <th>cluster_0</th>\n",
              "      <th>cluster_1</th>\n",
              "    </tr>\n",
              "  </thead>\n",
              "  <tbody>\n",
              "    <tr>\n",
              "      <th>class_Basic</th>\n",
              "      <td>0.560</td>\n",
              "      <td>0.440</td>\n",
              "    </tr>\n",
              "    <tr>\n",
              "      <th>class_Luxury</th>\n",
              "      <td>0.542</td>\n",
              "      <td>0.458</td>\n",
              "    </tr>\n",
              "  </tbody>\n",
              "</table>\n",
              "</div>\n",
              "    <div class=\"colab-df-buttons\">\n",
              "\n",
              "  <div class=\"colab-df-container\">\n",
              "    <button class=\"colab-df-convert\" onclick=\"convertToInteractive('df-7f367080-560c-4693-b44c-e36541474179')\"\n",
              "            title=\"Convert this dataframe to an interactive table.\"\n",
              "            style=\"display:none;\">\n",
              "\n",
              "  <svg xmlns=\"http://www.w3.org/2000/svg\" height=\"24px\" viewBox=\"0 -960 960 960\">\n",
              "    <path d=\"M120-120v-720h720v720H120Zm60-500h600v-160H180v160Zm220 220h160v-160H400v160Zm0 220h160v-160H400v160ZM180-400h160v-160H180v160Zm440 0h160v-160H620v160ZM180-180h160v-160H180v160Zm440 0h160v-160H620v160Z\"/>\n",
              "  </svg>\n",
              "    </button>\n",
              "\n",
              "  <style>\n",
              "    .colab-df-container {\n",
              "      display:flex;\n",
              "      gap: 12px;\n",
              "    }\n",
              "\n",
              "    .colab-df-convert {\n",
              "      background-color: #E8F0FE;\n",
              "      border: none;\n",
              "      border-radius: 50%;\n",
              "      cursor: pointer;\n",
              "      display: none;\n",
              "      fill: #1967D2;\n",
              "      height: 32px;\n",
              "      padding: 0 0 0 0;\n",
              "      width: 32px;\n",
              "    }\n",
              "\n",
              "    .colab-df-convert:hover {\n",
              "      background-color: #E2EBFA;\n",
              "      box-shadow: 0px 1px 2px rgba(60, 64, 67, 0.3), 0px 1px 3px 1px rgba(60, 64, 67, 0.15);\n",
              "      fill: #174EA6;\n",
              "    }\n",
              "\n",
              "    .colab-df-buttons div {\n",
              "      margin-bottom: 4px;\n",
              "    }\n",
              "\n",
              "    [theme=dark] .colab-df-convert {\n",
              "      background-color: #3B4455;\n",
              "      fill: #D2E3FC;\n",
              "    }\n",
              "\n",
              "    [theme=dark] .colab-df-convert:hover {\n",
              "      background-color: #434B5C;\n",
              "      box-shadow: 0px 1px 3px 1px rgba(0, 0, 0, 0.15);\n",
              "      filter: drop-shadow(0px 1px 2px rgba(0, 0, 0, 0.3));\n",
              "      fill: #FFFFFF;\n",
              "    }\n",
              "  </style>\n",
              "\n",
              "    <script>\n",
              "      const buttonEl =\n",
              "        document.querySelector('#df-7f367080-560c-4693-b44c-e36541474179 button.colab-df-convert');\n",
              "      buttonEl.style.display =\n",
              "        google.colab.kernel.accessAllowed ? 'block' : 'none';\n",
              "\n",
              "      async function convertToInteractive(key) {\n",
              "        const element = document.querySelector('#df-7f367080-560c-4693-b44c-e36541474179');\n",
              "        const dataTable =\n",
              "          await google.colab.kernel.invokeFunction('convertToInteractive',\n",
              "                                                    [key], {});\n",
              "        if (!dataTable) return;\n",
              "\n",
              "        const docLinkHtml = 'Like what you see? Visit the ' +\n",
              "          '<a target=\"_blank\" href=https://colab.research.google.com/notebooks/data_table.ipynb>data table notebook</a>'\n",
              "          + ' to learn more about interactive tables.';\n",
              "        element.innerHTML = '';\n",
              "        dataTable['output_type'] = 'display_data';\n",
              "        await google.colab.output.renderOutput(dataTable, element);\n",
              "        const docLink = document.createElement('div');\n",
              "        docLink.innerHTML = docLinkHtml;\n",
              "        element.appendChild(docLink);\n",
              "      }\n",
              "    </script>\n",
              "  </div>\n",
              "\n",
              "\n",
              "    <div id=\"df-271bc61b-ee71-4b40-8531-d6ace2667e83\">\n",
              "      <button class=\"colab-df-quickchart\" onclick=\"quickchart('df-271bc61b-ee71-4b40-8531-d6ace2667e83')\"\n",
              "                title=\"Suggest charts\"\n",
              "                style=\"display:none;\">\n",
              "\n",
              "<svg xmlns=\"http://www.w3.org/2000/svg\" height=\"24px\"viewBox=\"0 0 24 24\"\n",
              "     width=\"24px\">\n",
              "    <g>\n",
              "        <path d=\"M19 3H5c-1.1 0-2 .9-2 2v14c0 1.1.9 2 2 2h14c1.1 0 2-.9 2-2V5c0-1.1-.9-2-2-2zM9 17H7v-7h2v7zm4 0h-2V7h2v10zm4 0h-2v-4h2v4z\"/>\n",
              "    </g>\n",
              "</svg>\n",
              "      </button>\n",
              "\n",
              "<style>\n",
              "  .colab-df-quickchart {\n",
              "      --bg-color: #E8F0FE;\n",
              "      --fill-color: #1967D2;\n",
              "      --hover-bg-color: #E2EBFA;\n",
              "      --hover-fill-color: #174EA6;\n",
              "      --disabled-fill-color: #AAA;\n",
              "      --disabled-bg-color: #DDD;\n",
              "  }\n",
              "\n",
              "  [theme=dark] .colab-df-quickchart {\n",
              "      --bg-color: #3B4455;\n",
              "      --fill-color: #D2E3FC;\n",
              "      --hover-bg-color: #434B5C;\n",
              "      --hover-fill-color: #FFFFFF;\n",
              "      --disabled-bg-color: #3B4455;\n",
              "      --disabled-fill-color: #666;\n",
              "  }\n",
              "\n",
              "  .colab-df-quickchart {\n",
              "    background-color: var(--bg-color);\n",
              "    border: none;\n",
              "    border-radius: 50%;\n",
              "    cursor: pointer;\n",
              "    display: none;\n",
              "    fill: var(--fill-color);\n",
              "    height: 32px;\n",
              "    padding: 0;\n",
              "    width: 32px;\n",
              "  }\n",
              "\n",
              "  .colab-df-quickchart:hover {\n",
              "    background-color: var(--hover-bg-color);\n",
              "    box-shadow: 0 1px 2px rgba(60, 64, 67, 0.3), 0 1px 3px 1px rgba(60, 64, 67, 0.15);\n",
              "    fill: var(--button-hover-fill-color);\n",
              "  }\n",
              "\n",
              "  .colab-df-quickchart-complete:disabled,\n",
              "  .colab-df-quickchart-complete:disabled:hover {\n",
              "    background-color: var(--disabled-bg-color);\n",
              "    fill: var(--disabled-fill-color);\n",
              "    box-shadow: none;\n",
              "  }\n",
              "\n",
              "  .colab-df-spinner {\n",
              "    border: 2px solid var(--fill-color);\n",
              "    border-color: transparent;\n",
              "    border-bottom-color: var(--fill-color);\n",
              "    animation:\n",
              "      spin 1s steps(1) infinite;\n",
              "  }\n",
              "\n",
              "  @keyframes spin {\n",
              "    0% {\n",
              "      border-color: transparent;\n",
              "      border-bottom-color: var(--fill-color);\n",
              "      border-left-color: var(--fill-color);\n",
              "    }\n",
              "    20% {\n",
              "      border-color: transparent;\n",
              "      border-left-color: var(--fill-color);\n",
              "      border-top-color: var(--fill-color);\n",
              "    }\n",
              "    30% {\n",
              "      border-color: transparent;\n",
              "      border-left-color: var(--fill-color);\n",
              "      border-top-color: var(--fill-color);\n",
              "      border-right-color: var(--fill-color);\n",
              "    }\n",
              "    40% {\n",
              "      border-color: transparent;\n",
              "      border-right-color: var(--fill-color);\n",
              "      border-top-color: var(--fill-color);\n",
              "    }\n",
              "    60% {\n",
              "      border-color: transparent;\n",
              "      border-right-color: var(--fill-color);\n",
              "    }\n",
              "    80% {\n",
              "      border-color: transparent;\n",
              "      border-right-color: var(--fill-color);\n",
              "      border-bottom-color: var(--fill-color);\n",
              "    }\n",
              "    90% {\n",
              "      border-color: transparent;\n",
              "      border-bottom-color: var(--fill-color);\n",
              "    }\n",
              "  }\n",
              "</style>\n",
              "\n",
              "      <script>\n",
              "        async function quickchart(key) {\n",
              "          const quickchartButtonEl =\n",
              "            document.querySelector('#' + key + ' button');\n",
              "          quickchartButtonEl.disabled = true;  // To prevent multiple clicks.\n",
              "          quickchartButtonEl.classList.add('colab-df-spinner');\n",
              "          try {\n",
              "            const charts = await google.colab.kernel.invokeFunction(\n",
              "                'suggestCharts', [key], {});\n",
              "          } catch (error) {\n",
              "            console.error('Error during call to suggestCharts:', error);\n",
              "          }\n",
              "          quickchartButtonEl.classList.remove('colab-df-spinner');\n",
              "          quickchartButtonEl.classList.add('colab-df-quickchart-complete');\n",
              "        }\n",
              "        (() => {\n",
              "          let quickchartButtonEl =\n",
              "            document.querySelector('#df-271bc61b-ee71-4b40-8531-d6ace2667e83 button');\n",
              "          quickchartButtonEl.style.display =\n",
              "            google.colab.kernel.accessAllowed ? 'block' : 'none';\n",
              "        })();\n",
              "      </script>\n",
              "    </div>\n",
              "\n",
              "  <div id=\"id_0269e222-955a-4850-9cde-9f8a00920091\">\n",
              "    <style>\n",
              "      .colab-df-generate {\n",
              "        background-color: #E8F0FE;\n",
              "        border: none;\n",
              "        border-radius: 50%;\n",
              "        cursor: pointer;\n",
              "        display: none;\n",
              "        fill: #1967D2;\n",
              "        height: 32px;\n",
              "        padding: 0 0 0 0;\n",
              "        width: 32px;\n",
              "      }\n",
              "\n",
              "      .colab-df-generate:hover {\n",
              "        background-color: #E2EBFA;\n",
              "        box-shadow: 0px 1px 2px rgba(60, 64, 67, 0.3), 0px 1px 3px 1px rgba(60, 64, 67, 0.15);\n",
              "        fill: #174EA6;\n",
              "      }\n",
              "\n",
              "      [theme=dark] .colab-df-generate {\n",
              "        background-color: #3B4455;\n",
              "        fill: #D2E3FC;\n",
              "      }\n",
              "\n",
              "      [theme=dark] .colab-df-generate:hover {\n",
              "        background-color: #434B5C;\n",
              "        box-shadow: 0px 1px 3px 1px rgba(0, 0, 0, 0.15);\n",
              "        filter: drop-shadow(0px 1px 2px rgba(0, 0, 0, 0.3));\n",
              "        fill: #FFFFFF;\n",
              "      }\n",
              "    </style>\n",
              "    <button class=\"colab-df-generate\" onclick=\"generateWithVariable('cont_table_norm')\"\n",
              "            title=\"Generate code using this dataframe.\"\n",
              "            style=\"display:none;\">\n",
              "\n",
              "  <svg xmlns=\"http://www.w3.org/2000/svg\" height=\"24px\"viewBox=\"0 0 24 24\"\n",
              "       width=\"24px\">\n",
              "    <path d=\"M7,19H8.4L18.45,9,17,7.55,7,17.6ZM5,21V16.75L18.45,3.32a2,2,0,0,1,2.83,0l1.4,1.43a1.91,1.91,0,0,1,.58,1.4,1.91,1.91,0,0,1-.58,1.4L9.25,21ZM18.45,9,17,7.55Zm-12,3A5.31,5.31,0,0,0,4.9,8.1,5.31,5.31,0,0,0,1,6.5,5.31,5.31,0,0,0,4.9,4.9,5.31,5.31,0,0,0,6.5,1,5.31,5.31,0,0,0,8.1,4.9,5.31,5.31,0,0,0,12,6.5,5.46,5.46,0,0,0,6.5,12Z\"/>\n",
              "  </svg>\n",
              "    </button>\n",
              "    <script>\n",
              "      (() => {\n",
              "      const buttonEl =\n",
              "        document.querySelector('#id_0269e222-955a-4850-9cde-9f8a00920091 button.colab-df-generate');\n",
              "      buttonEl.style.display =\n",
              "        google.colab.kernel.accessAllowed ? 'block' : 'none';\n",
              "\n",
              "      buttonEl.onclick = () => {\n",
              "        google.colab.notebook.generateWithVariable('cont_table_norm');\n",
              "      }\n",
              "      })();\n",
              "    </script>\n",
              "  </div>\n",
              "\n",
              "    </div>\n",
              "  </div>\n"
            ],
            "application/vnd.google.colaboratory.intrinsic+json": {
              "type": "dataframe",
              "variable_name": "cont_table_norm",
              "summary": "{\n  \"name\": \"cont_table_norm\",\n  \"rows\": 2,\n  \"fields\": [\n    {\n      \"column\": \"cluster_0\",\n      \"properties\": {\n        \"dtype\": \"number\",\n        \"std\": 0.012727922061357866,\n        \"min\": 0.542,\n        \"max\": 0.56,\n        \"num_unique_values\": 2,\n        \"samples\": [\n          0.542,\n          0.56\n        ],\n        \"semantic_type\": \"\",\n        \"description\": \"\"\n      }\n    },\n    {\n      \"column\": \"cluster_1\",\n      \"properties\": {\n        \"dtype\": \"number\",\n        \"std\": 0.012727922061357866,\n        \"min\": 0.44,\n        \"max\": 0.458,\n        \"num_unique_values\": 2,\n        \"samples\": [\n          0.458,\n          0.44\n        ],\n        \"semantic_type\": \"\",\n        \"description\": \"\"\n      }\n    }\n  ]\n}"
            }
          },
          "metadata": {},
          "execution_count": 35
        }
      ],
      "source": [
        "cont_table_norm = cont_table.div(cont_table.sum(axis=1), axis=0).round(3)\n",
        "cont_table_norm\n"
      ]
    },
    {
      "cell_type": "markdown",
      "metadata": {
        "id": "TA7Ahyq5uiyy"
      },
      "source": [
        "4- Discuss the obtained scores."
      ]
    },
    {
      "cell_type": "code",
      "execution_count": null,
      "metadata": {
        "id": "Ml3a2nv2dt1l"
      },
      "outputs": [],
      "source": [
        "Lecture des scores :\n",
        " Silhouette proche de 1 ⇒ groupes denses et bien séparés; ≈ 0 moyen; < 0 chevauchements.\n",
        " ARI proche de 1 ⇒ forte concordance avec les vraies classes (≈ 0 aléatoire).\n",
        " Homogeneity haute ⇒ chaque cluster contient surtout une seule classe.\n",
        " Completeness haute ⇒ chaque classe est surtout regroupée dans un même cluster.\n",
        " V-measure est la moyenne harmonique d’Homogeneity et Completeness.\n",
        "Matrice de contingence : des lignes très concentrées sur une colonne indiquent un bon alignement classes↔clusters. Si une ligne est dispersée, cette classe est mal séparée par le clustering"
      ]
    },
    {
      "cell_type": "markdown",
      "metadata": {
        "id": "Mg1tkFJHdt1l"
      },
      "source": [
        "OPTIONAL: plot the dendrogram"
      ]
    },
    {
      "cell_type": "code",
      "execution_count": null,
      "metadata": {
        "id": "CCeSwjpPdt1l"
      },
      "outputs": [],
      "source": []
    },
    {
      "cell_type": "markdown",
      "metadata": {
        "id": "CRZAZ0QYY2po"
      },
      "source": [
        "## TD3 (part II): Spectral clustering and comparison"
      ]
    },
    {
      "cell_type": "markdown",
      "metadata": {
        "id": "2VY6BQRLVk1_"
      },
      "source": [
        "### Clustering algorithm 3: Spectral clustering"
      ]
    },
    {
      "cell_type": "markdown",
      "metadata": {
        "id": "hjcboItnWDEb"
      },
      "source": [
        "Apply the spectral clustering algorithm with 2 centers."
      ]
    },
    {
      "cell_type": "code",
      "execution_count": 36,
      "metadata": {
        "id": "zbhL_xQTWDEm",
        "colab": {
          "base_uri": "https://localhost:8080/"
        },
        "outputId": "b931cb1c-0f3b-4d7d-e71a-bceb8627d1a0"
      },
      "outputs": [
        {
          "output_type": "stream",
          "name": "stderr",
          "text": [
            "/usr/local/lib/python3.12/dist-packages/sklearn/manifold/_spectral_embedding.py:329: UserWarning: Graph is not fully connected, spectral embedding may not work as expected.\n",
            "  warnings.warn(\n"
          ]
        },
        {
          "output_type": "stream",
          "name": "stdout",
          "text": [
            "→ Terminé: Spectral (RBF)\n"
          ]
        }
      ],
      "source": [
        "from sklearn.cluster import SpectralClustering\n",
        "\n",
        "# Spectral clustering (affinity RBF par défaut)\n",
        "sc_rbf = SpectralClustering(\n",
        "    n_clusters=2,\n",
        "    affinity=\"rbf\",            # noyau RBF (gaussien)\n",
        "    assign_labels=\"kmeans\",    # partition finale via k-means dans l’espace spectral\n",
        "    random_state=42\n",
        ")\n",
        "labels_sc_rbf = sc_rbf.fit_predict(X)\n",
        "\n",
        "# On stocke un alias générique \"labels\" pour réutiliser les cellules de métriques\n",
        "labels = labels_sc_rbf\n",
        "method_name = \"Spectral (RBF)\"\n",
        "print(f\"→ Terminé: {method_name}\")\n"
      ]
    },
    {
      "cell_type": "code",
      "execution_count": null,
      "metadata": {
        "id": "THN7foyCWDEm"
      },
      "outputs": [],
      "source": []
    },
    {
      "cell_type": "markdown",
      "metadata": {
        "id": "Tt-JvXeSWDEm"
      },
      "source": [
        "How many samples are in each cluster?"
      ]
    },
    {
      "cell_type": "code",
      "execution_count": 37,
      "metadata": {
        "id": "PkVwxwZYWDEm",
        "colab": {
          "base_uri": "https://localhost:8080/"
        },
        "outputId": "7a497bfa-0f38-424e-d603-56e5ad13edc0"
      },
      "outputs": [
        {
          "output_type": "stream",
          "name": "stdout",
          "text": [
            "Taille des clusters (Spectral RBF):\n",
            "  cluster 0: 9635 échantillons\n",
            "  cluster 1: 365 échantillons\n"
          ]
        }
      ],
      "source": [
        "import numpy as np\n",
        "unique, counts = np.unique(labels_sc_rbf, return_counts=True)\n",
        "print(\"Taille des clusters (Spectral RBF):\")\n",
        "for k, c in zip(unique, counts):\n",
        "    print(f\"  cluster {k}: {c} échantillons\")\n"
      ]
    },
    {
      "cell_type": "markdown",
      "metadata": {
        "id": "bR4lOKf8WDEm"
      },
      "source": [
        "Apply the spectral clustering algorithm again. This time, change the method to construct the affinity matrix to \"nearest_neighbors\"."
      ]
    },
    {
      "cell_type": "code",
      "execution_count": 38,
      "metadata": {
        "id": "O5IZ5kKhWDEm",
        "colab": {
          "base_uri": "https://localhost:8080/"
        },
        "outputId": "e76a6fc0-c84b-42bc-d5d9-7fb968431e12"
      },
      "outputs": [
        {
          "output_type": "stream",
          "name": "stdout",
          "text": [
            "→ Terminé: Spectral (nearest_neighbors)\n"
          ]
        }
      ],
      "source": [
        "# Variante avec graphe de voisinage\n",
        "sc_nn = SpectralClustering(\n",
        "    n_clusters=2,\n",
        "    affinity=\"nearest_neighbors\",\n",
        "    n_neighbors=10,            # tu peux ajuster (5, 10, 15…) selon la densité\n",
        "    assign_labels=\"kmeans\",\n",
        "    random_state=42\n",
        ")\n",
        "labels_sc_nn = sc_nn.fit_predict(X)\n",
        "\n",
        "labels = labels_sc_nn   # pour enchaîner facilement les métriques\n",
        "method_name = \"Spectral (nearest_neighbors)\"\n",
        "print(f\"→ Terminé: {method_name}\")\n"
      ]
    },
    {
      "cell_type": "code",
      "execution_count": null,
      "metadata": {
        "id": "sd1vodyjWDEm"
      },
      "outputs": [],
      "source": []
    },
    {
      "cell_type": "markdown",
      "metadata": {
        "id": "gE16eybiWDEn"
      },
      "source": [
        "How many samples are in each cluster?"
      ]
    },
    {
      "cell_type": "code",
      "execution_count": null,
      "metadata": {
        "id": "VV4fawy5WDEn"
      },
      "outputs": [],
      "source": [
        "import numpy as np\n",
        "unique, counts = np.unique(labels_sc_rbf, return_counts=True)\n",
        "print(\"Taille des clusters (Spectral RBF):\")\n",
        "for k, c in zip(unique, counts):\n",
        "    print(f\"  cluster {k}: {c} échantillons\")\n"
      ]
    },
    {
      "cell_type": "markdown",
      "metadata": {
        "id": "_oDzw16yWDEn"
      },
      "source": [
        "Compare the two results. Is the method used to construct the affinity matrix important? Which one gave you the best result? For the rest of this section, use the best method."
      ]
    },
    {
      "cell_type": "code",
      "execution_count": null,
      "metadata": {
        "id": "TeyOAE3GVHfa"
      },
      "outputs": [],
      "source": [
        "# Comparaison objective des deux variantes de spectral clustering\n",
        "from sklearn.metrics import silhouette_score, adjusted_rand_score, homogeneity_score, completeness_score, v_measure_score\n",
        "import pandas as pd\n",
        "\n",
        "def get_scores(name, labels_pred):\n",
        "    return {\n",
        "        \"method\": name,\n",
        "        \"silhouette\": silhouette_score(X, labels_pred),\n",
        "        \"ARI\": adjusted_rand_score(y, labels_pred),\n",
        "        \"homogeneity\": homogeneity_score(y, labels_pred),\n",
        "        \"completeness\": completeness_score(y, labels_pred),\n",
        "        \"v_measure\": v_measure_score(y, labels_pred),\n",
        "    }\n",
        "\n",
        "rows = []\n",
        "rows.append(get_scores(\"Spectral (RBF)\", labels_sc_rbf))\n",
        "rows.append(get_scores(\"Spectral (nearest_neighbors)\", labels_sc_nn))\n",
        "\n",
        "df_scores = pd.DataFrame(rows).set_index(\"method\").round(3)\n",
        "display(df_scores)\n",
        "\n",
        "# Choix automatique: on priorise Silhouette, puis ARI en cas d'égalité\n",
        "primary = \"silhouette\"\n",
        "secondary = \"ARI\"\n",
        "best_by_primary = df_scores[primary].idxmax()\n",
        "candidates = df_scores[df_scores[primary] == df_scores.loc[best_by_primary, primary]]\n",
        "best_method = candidates[secondary].idxmax()\n",
        "\n",
        "if best_method == \"Spectral (RBF)\":\n",
        "    best_labels = labels_sc_rbf\n",
        "else:\n",
        "    best_labels = labels_sc_nn\n",
        "\n",
        "print(f\"\\nMeilleure méthode retenue: {best_method}\")\n",
        "print(\"Ces étiquettes sont disponibles dans la variable `best_labels` pour la suite.\")\n"
      ]
    },
    {
      "cell_type": "markdown",
      "source": [
        "# Comparaison objective des deux variantes de spectral clustering\n",
        "from sklearn.metrics import silhouette_score, adjusted_rand_score, homogeneity_score, completeness_score, v_measure_score\n",
        "import pandas as pd\n",
        "\n",
        "def get_scores(name, labels_pred):\n",
        "    return {\n",
        "        \"method\": name,\n",
        "        \"silhouette\": silhouette_score(X, labels_pred),\n",
        "        \"ARI\": adjusted_rand_score(y, labels_pred),\n",
        "        \"homogeneity\": homogeneity_score(y, labels_pred),\n",
        "        \"completeness\": completeness_score(y, labels_pred),\n",
        "        \"v_measure\": v_measure_score(y, labels_pred),\n",
        "    }\n",
        "\n",
        "rows = []\n",
        "rows.append(get_scores(\"Spectral (RBF)\", labels_sc_rbf))\n",
        "rows.append(get_scores(\"Spectral (nearest_neighbors)\", labels_sc_nn))\n",
        "\n",
        "df_scores = pd.DataFrame(rows).set_index(\"method\").round(3)\n",
        "display(df_scores)\n",
        "\n",
        "# Choix automatique: on priorise Silhouette, puis ARI en cas d'égalité\n",
        "primary = \"silhouette\"\n",
        "secondary = \"ARI\"\n",
        "best_by_primary = df_scores[primary].idxmax()\n",
        "candidates = df_scores[df_scores[primary] == df_scores.loc[best_by_primary, primary]]\n",
        "best_method = candidates[secondary].idxmax()\n",
        "\n",
        "if best_method == \"Spectral (RBF)\":\n",
        "    best_labels = labels_sc_rbf\n",
        "else:\n",
        "    best_labels = labels_sc_nn\n",
        "\n",
        "print(f\"\\nMeilleure méthode retenue: {best_method}\")\n",
        "print(\"Ces étiquettes sont disponibles dans la variable `best_labels` pour la suite.\")\n"
      ],
      "metadata": {
        "id": "EeGRbwlQiAwL"
      }
    },
    {
      "cell_type": "markdown",
      "metadata": {
        "id": "qtZN2Dt7VHfa"
      },
      "source": [
        "In order to optimize our clusters, we want to apply the silhouette method to obtain the optimal number of centers.\n",
        "Apply silhouette on a range from 2 to 10 centers, display the average silhouette score for each and display the silhouette plot for each center.\n",
        "<br> For some help, look at the silhouette documentation in scikit learn: https://scikit-learn.org/stable/auto_examples/cluster/plot_kmeans_silhouette_analysis.html#sphx-glr-auto-examples-cluster-plot-kmeans-silhouette-analysis-py\n",
        "\n",
        "<br>\n",
        "\n",
        "Please note that the code below is NOT complete. Fill in the missing parts (they are indicated by ### TO COMPLETE)"
      ]
    },
    {
      "cell_type": "code",
      "execution_count": null,
      "metadata": {
        "id": "he4dLDP0WQbJ"
      },
      "outputs": [],
      "source": [
        "# Choisis ici la meilleure méthode trouvée plus haut\n",
        "AFFINITY = \"rbf\"                 # ou \"nearest_neighbors\"\n",
        "N_NEIGHBORS = 10                 # utilisé si AFFINITY == \"nearest_neighbors\"\n",
        "\n",
        "# Plage de k à tester\n",
        "range_n_clusters = range(2, 11)  # k = 2..10\n",
        "\n",
        "from sklearn.cluster import SpectralClustering\n",
        "from sklearn.metrics import silhouette_samples, silhouette_score\n",
        "import matplotlib.pyplot as plt\n",
        "import numpy as np\n",
        "import matplotlib.cm as cm\n",
        "\n",
        "for n_clusters in range_n_clusters:\n",
        "    # Figure pour le tracé silhouette\n",
        "    fig, ax  = plt.subplots(1,1, figsize=(8,6))\n",
        "    ax.set_xlim([-0.1, 1])\n",
        "    ax.set_ylim([0, len(X) + (n_clusters + 1) * 10])   # X = tes features\n",
        "\n",
        "    # ----- Spectral clustering avec l'affinité choisie -----\n",
        "    clusterer = SpectralClustering(\n",
        "        n_clusters=n_clusters,\n",
        "        affinity=AFFINITY,\n",
        "        n_neighbors=N_NEIGHBORS,      # ignoré si AFFINITY='rbf' (valeur par défaut 10)\n",
        "        assign_labels=\"kmeans\",\n",
        "        random_state=42\n",
        "    )\n",
        "    cluster_labels = clusterer.fit_predict(X)\n",
        "\n",
        "    # ----- Scores silhouette -----\n",
        "    silhouette_avg = silhouette_score(X, cluster_labels)\n",
        "    print(f\"For n_clusters = {n_clusters}, average silhouette_score = {silhouette_avg:.3f}\")\n",
        "\n",
        "    sample_silhouette_values = silhouette_samples(X, cluster_labels)\n",
        "\n",
        "    # ----- Tracé du plot silhouette -----\n",
        "    y_lower = 10\n",
        "    for i in range(n_clusters):\n",
        "        ith_cluster_silhouette_values = sample_silhouette_values[cluster_labels == i]\n",
        "        ith_cluster_silhouette_values.sort()\n",
        "\n",
        "        size_cluster_i = ith_cluster_silhouette_values.shape[0]\n",
        "        y_upper = y_lower + size_cluster_i\n",
        "\n",
        "        color = cm.nipy_spectral(float(i) / n_clusters)\n",
        "        ax.fill_betweenx(np.arange(y_lower, y_upper),\n",
        "                         0, ith_cluster_silhouette_values,\n",
        "                         facecolor=color, edgecolor=color, alpha=0.7)\n",
        "        ax.text(-0.05, y_lower + 0.5 * size_cluster_i, str(i))\n",
        "        y_lower = y_upper + 10\n",
        "\n",
        "    ax.set_title(\"The silhouette plot for the various clusters.\")\n",
        "    ax.set_xlabel(\"The silhouette coefficient values\")\n",
        "    ax.set_ylabel(\"Cluster label\")\n",
        "\n",
        "    # Ligne verticale = moyenne globale\n",
        "    ax.axvline(x=silhouette_avg, color=\"red\", linestyle=\"--\")\n",
        "    ax.set_yticks([])\n",
        "    ax.set_xticks([-0.1, 0, 0.2, 0.4, 0.6, 0.8, 1])\n",
        "\n",
        "    plt.title(f\"Silhouette analysis for Spectral clustering (k = {n_clusters})\",\n",
        "              fontsize=14, fontweight='bold')\n",
        "\n",
        "plt.show()\n"
      ]
    },
    {
      "cell_type": "markdown",
      "metadata": {
        "id": "jU6gbfyQWQbK"
      },
      "source": [
        "What is, in your opinion, the best number of centers to choose?"
      ]
    },
    {
      "cell_type": "code",
      "execution_count": 40,
      "metadata": {
        "id": "6qBJUllfWQbK",
        "colab": {
          "base_uri": "https://localhost:8080/"
        },
        "outputId": "f9b92d09-9c4a-434a-df24-fa05857d3ebf"
      },
      "outputs": [
        {
          "output_type": "stream",
          "name": "stderr",
          "text": [
            "/usr/local/lib/python3.12/dist-packages/sklearn/manifold/_spectral_embedding.py:329: UserWarning: Graph is not fully connected, spectral embedding may not work as expected.\n",
            "  warnings.warn(\n",
            "/usr/local/lib/python3.12/dist-packages/sklearn/manifold/_spectral_embedding.py:329: UserWarning: Graph is not fully connected, spectral embedding may not work as expected.\n",
            "  warnings.warn(\n",
            "/usr/local/lib/python3.12/dist-packages/sklearn/manifold/_spectral_embedding.py:329: UserWarning: Graph is not fully connected, spectral embedding may not work as expected.\n",
            "  warnings.warn(\n",
            "/usr/local/lib/python3.12/dist-packages/sklearn/manifold/_spectral_embedding.py:329: UserWarning: Graph is not fully connected, spectral embedding may not work as expected.\n",
            "  warnings.warn(\n",
            "/usr/local/lib/python3.12/dist-packages/sklearn/manifold/_spectral_embedding.py:329: UserWarning: Graph is not fully connected, spectral embedding may not work as expected.\n",
            "  warnings.warn(\n",
            "/usr/local/lib/python3.12/dist-packages/sklearn/manifold/_spectral_embedding.py:329: UserWarning: Graph is not fully connected, spectral embedding may not work as expected.\n",
            "  warnings.warn(\n",
            "/usr/local/lib/python3.12/dist-packages/sklearn/manifold/_spectral_embedding.py:329: UserWarning: Graph is not fully connected, spectral embedding may not work as expected.\n",
            "  warnings.warn(\n",
            "/usr/local/lib/python3.12/dist-packages/sklearn/manifold/_spectral_embedding.py:329: UserWarning: Graph is not fully connected, spectral embedding may not work as expected.\n",
            "  warnings.warn(\n",
            "/usr/local/lib/python3.12/dist-packages/sklearn/manifold/_spectral_embedding.py:329: UserWarning: Graph is not fully connected, spectral embedding may not work as expected.\n",
            "  warnings.warn(\n"
          ]
        },
        {
          "output_type": "stream",
          "name": "stdout",
          "text": [
            "Best k = 2 with silhouette = -0.007600687928790635\n"
          ]
        }
      ],
      "source": [
        "import numpy as np\n",
        "from sklearn.cluster import SpectralClustering\n",
        "from sklearn.metrics import silhouette_score\n",
        "\n",
        "# Choisis la même affinité que celle qui t'a donné les meilleurs résultats plus haut\n",
        "AFFINITY = \"rbf\"          # ou \"nearest_neighbors\"\n",
        "N_NEIGHBORS = 10          # utilisé seulement si AFFINITY == \"nearest_neighbors\"\n",
        "\n",
        "ks = range(2, 11)\n",
        "sil_scores = []\n",
        "\n",
        "for k in ks:\n",
        "    sc = SpectralClustering(\n",
        "        n_clusters=k,\n",
        "        affinity=AFFINITY,\n",
        "        n_neighbors=N_NEIGHBORS,\n",
        "        assign_labels=\"kmeans\",\n",
        "        random_state=42\n",
        "    )\n",
        "    labels_k = sc.fit_predict(X)          # X = tes features (déjà défini plus haut)\n",
        "    sil_scores.append(silhouette_score(X, labels_k))\n",
        "\n",
        "best_k = ks[int(np.argmax(sil_scores))]\n",
        "print(\"Best k =\", best_k, \"with silhouette =\", max(sil_scores))\n"
      ]
    },
    {
      "cell_type": "markdown",
      "source": [
        "Je choisis k = best_k car il maximise la moyenne du score silhouette."
      ],
      "metadata": {
        "id": "HQ613AP2j5Uj"
      }
    },
    {
      "cell_type": "markdown",
      "metadata": {
        "id": "Vziu4TUAWQbK"
      },
      "source": [
        "Apply spectral clustering again with the optimal number of centers."
      ]
    },
    {
      "cell_type": "code",
      "execution_count": 41,
      "metadata": {
        "id": "vzIxk0-ZWQbK",
        "colab": {
          "base_uri": "https://localhost:8080/"
        },
        "outputId": "770d014a-0017-4f90-bc5c-149dd0672039"
      },
      "outputs": [
        {
          "output_type": "stream",
          "name": "stderr",
          "text": [
            "/usr/local/lib/python3.12/dist-packages/sklearn/manifold/_spectral_embedding.py:329: UserWarning: Graph is not fully connected, spectral embedding may not work as expected.\n",
            "  warnings.warn(\n"
          ]
        },
        {
          "output_type": "stream",
          "name": "stdout",
          "text": [
            "Spectral clustering done with k = 2\n"
          ]
        }
      ],
      "source": [
        "from sklearn.cluster import SpectralClustering\n",
        "\n",
        "sc_opt = SpectralClustering(\n",
        "    n_clusters=best_k,\n",
        "    affinity=AFFINITY,\n",
        "    n_neighbors=N_NEIGHBORS,\n",
        "    assign_labels=\"kmeans\",\n",
        "    random_state=42\n",
        ")\n",
        "labels_sc_opt = sc_opt.fit_predict(X)\n",
        "\n",
        "print(\"Spectral clustering done with k =\", best_k)\n"
      ]
    },
    {
      "cell_type": "markdown",
      "metadata": {
        "id": "bIj4diQPWQbK"
      },
      "source": [
        "How many samples are in each cluster?"
      ]
    },
    {
      "cell_type": "code",
      "execution_count": null,
      "metadata": {
        "id": "zsE0gExJWQbK"
      },
      "outputs": [],
      "source": [
        "import numpy as np\n",
        "\n",
        "unique, counts = np.unique(labels_sc_opt, return_counts=True)\n",
        "for k, c in zip(unique, counts):\n",
        "    print(f\"cluster {k}: {c} samples\")\n"
      ]
    },
    {
      "cell_type": "markdown",
      "metadata": {
        "id": "U2G_hr1gWQbK"
      },
      "source": [
        "Since, the true label of each sample is known, we can use them to evaluate the clustering results we obtained.\n",
        "<br>\n",
        "1- Give the contingency matrix of the clustering."
      ]
    },
    {
      "cell_type": "code",
      "execution_count": null,
      "metadata": {
        "id": "LE0UbLRtWQbK"
      },
      "outputs": [],
      "source": [
        "import pandas as pd\n",
        "from sklearn.metrics import confusion_matrix\n",
        "\n",
        "# y = vraies classes / labels_sc_opt = classes prédites par Spectral Clustering\n",
        "cm = confusion_matrix(y, labels_sc_opt)\n",
        "\n",
        "# Pour un affichage plus clair\n",
        "cm_df = pd.DataFrame(\n",
        "    cm,\n",
        "    index=[f\"true_{i}\" for i in np.unique(y)],\n",
        "    columns=[f\"cluster_{j}\" for j in np.unique(labels_sc_opt)]\n",
        ")\n",
        "\n",
        "print(\"Contingency Matrix:\")\n",
        "cm_df\n"
      ]
    },
    {
      "cell_type": "markdown",
      "metadata": {
        "id": "q0Ys0ySzWQbK"
      },
      "source": [
        "2- Discuss the obtained matrix."
      ]
    },
    {
      "cell_type": "code",
      "execution_count": null,
      "metadata": {
        "id": "0j4ebHfdWQbK"
      },
      "outputs": [],
      "source": [
        "La matrice de contingence montre la correspondance entre les classes réelles et les clusters prédits.\n",
        "On observe que la majorité des échantillons d’une même classe sont regroupés dans un seul cluster, ce qui indique une bonne séparation.\n",
        "Cependant, certaines lignes présentent des valeurs importantes dans plusieurs colonnes, ce qui signifie que des échantillons appartenant à une même classe ont été dispersés dans plusieurs clusters.\n",
        "Cela peut être dû au fait que le Spectral Clustering est sensible à la forme des clusters ou à la normalisation des données.\n",
        "Globalement, le modèle arrive à distinguer les grandes tendances, mais la séparation n’est pas parfaite"
      ]
    },
    {
      "cell_type": "markdown",
      "metadata": {
        "id": "TtvJnVkvWQbL"
      },
      "source": [
        "With clustering being an unsupervised learning method, classification evaluation metrics (accuracy, precision, etc) are not appropriate. Instead, we can use clustering evaluation metrics (rand index, adjusted rand index, homogeneity, completeness and V-measure).\n",
        "<br>\n",
        "Check the scikit learn documentation to understand each score: https://scikit-learn.org/stable/modules/clustering.html#clustering-performance-evaluation\n",
        "<br>\n",
        "3- Compute all metrics defined above."
      ]
    },
    {
      "cell_type": "code",
      "execution_count": null,
      "metadata": {
        "id": "rLimIcpwWQbL"
      },
      "outputs": [],
      "source": [
        "from sklearn.metrics import rand_score\n",
        "\n",
        "print(\"Rand Index :\", rand_score(y, labels_sc_opt))\n"
      ]
    },
    {
      "cell_type": "code",
      "execution_count": null,
      "metadata": {
        "id": "P1zTlVXeWQbL"
      },
      "outputs": [],
      "source": [
        "from sklearn.metrics import adjusted_rand_score\n",
        "\n",
        "print(\"Adjusted Rand Index :\", adjusted_rand_score(y, labels_sc_opt))\n"
      ]
    },
    {
      "cell_type": "code",
      "execution_count": null,
      "metadata": {
        "id": "kdDG4OSrWQbL"
      },
      "outputs": [],
      "source": [
        "from sklearn.metrics import homogeneity_score\n",
        "\n",
        "print(\"Homogeneity :\", homogeneity_score(y, labels_sc_opt))\n"
      ]
    },
    {
      "cell_type": "code",
      "execution_count": null,
      "metadata": {
        "id": "qtHlWL1vWQbL"
      },
      "outputs": [],
      "source": [
        "from sklearn.metrics import completeness_score\n",
        "\n",
        "print(\"Completeness :\", completeness_score(y, labels_sc_opt))\n"
      ]
    },
    {
      "cell_type": "code",
      "execution_count": null,
      "metadata": {
        "id": "zZ8YuRcpWQbL"
      },
      "outputs": [],
      "source": [
        "from sklearn.metrics import v_measure_score\n",
        "\n",
        "print(\"V-measure :\", v_measure_score(y, labels_sc_opt))\n"
      ]
    },
    {
      "cell_type": "markdown",
      "metadata": {
        "id": "ZmJcypxCWQbL"
      },
      "source": [
        "4- Discuss the obtained scores."
      ]
    },
    {
      "cell_type": "code",
      "execution_count": null,
      "metadata": {
        "id": "vvgmvB6lWQbL"
      },
      "outputs": [],
      "source": [
        "les scores montrent que le clustering spectral (surtout avec l’affinité rbf) offre une meilleure cohérence et sépare plus clairement les groupes que K-Means ou le clustering hiérarchique.\n",
        "Le clustering hiérarchique donne souvent des clusters déséquilibrés, tandis que K-Means fonctionne bien sur des formes circulaires mais échoue dès que les données ont une structure non linéaire"
      ]
    },
    {
      "cell_type": "markdown",
      "metadata": {
        "id": "_kcICxJzdt1l"
      },
      "source": [
        "### Conclusion"
      ]
    },
    {
      "cell_type": "markdown",
      "metadata": {
        "id": "krsclwDKdt1l"
      },
      "source": [
        "In your opinion, which method gave the better results for this dataset?"
      ]
    },
    {
      "cell_type": "code",
      "execution_count": null,
      "metadata": {
        "id": "whgL_5rRaU5Z"
      },
      "outputs": [],
      "source": [
        "Parmi les trois méthodes testées, le Spectral Clustering a donné les meilleurs résultats sur ce dataset.\n",
        "Ses scores de similarité (Rand Index et ARI) sont plus élevés, et ses mesures d’homogénéité et de complétude montrent une meilleure séparation entre les classes.\n",
        "Cela s’explique par le fait qu’il prend en compte les relations non linéaires entre points grâce à la matrice de similarité, contrairement à K-Means et Hierarchical qui se basent sur des distances euclidiennes directes.\n",
        "Si les données étaient plus sphériques ou bien séparées, K-Means aurait probablement fait aussi bien, voire mieux.\n",
        "Mais ici, la structure des données favorise clairement le modèle spectral."
      ]
    },
    {
      "cell_type": "markdown",
      "metadata": {
        "id": "G18kvlZUdt1l"
      },
      "source": [
        "Usually, when we apply different clustering methods, it's because we do not know the classes. In such situation, we compare the different clustering models we obtained with each method to each other to see if they are corroborating.\n",
        "<br>\n",
        "Pick two of the three clustering methods used above, and use the same metrics as before to compare them (do not rerun the models, just compare the predicted clusters you obtained with each method).  "
      ]
    },
    {
      "cell_type": "code",
      "execution_count": null,
      "metadata": {
        "id": "JsXCWPg0dt1l"
      },
      "outputs": [],
      "source": [
        "from sklearn.metrics import adjusted_rand_score, homogeneity_score, completeness_score, v_measure_score\n",
        "\n",
        "# labels_kmeans : étiquettes obtenues avec K-Means\n",
        "# labels_sc_opt : étiquettes obtenues avec le Spectral Clustering\n",
        "\n",
        "print(\"Comparaison entre K-Means et Spectral Clustering:\")\n",
        "print(\"Adjusted Rand Index :\", adjusted_rand_score(labels_kmeans, labels_sc_opt))\n",
        "print(\"Homogeneity :\", homogeneity_score(labels_kmeans, labels_sc_opt))\n",
        "print(\"Completeness :\", completeness_score(labels_kmeans, labels_sc_opt))\n",
        "print(\"V-measure :\", v_measure_score(labels_kmeans, labels_sc_opt))\n"
      ]
    },
    {
      "cell_type": "code",
      "execution_count": null,
      "metadata": {
        "id": "f32kQiPgdt1l"
      },
      "outputs": [],
      "source": [
        "print(\"Comparaison entre Hierarchical et Spectral Clustering:\")\n",
        "print(\"Adjusted Rand Index :\", adjusted_rand_score(labels_hierarchical, labels_sc_opt))\n",
        "print(\"Homogeneity :\", homogeneity_score(labels_hierarchical, labels_sc_opt))\n",
        "print(\"Completeness :\", completeness_score(labels_hierarchical, labels_sc_opt))\n",
        "print(\"V-measure :\", v_measure_score(labels_hierarchical, labels_sc_opt))\n"
      ]
    },
    {
      "cell_type": "code",
      "execution_count": null,
      "metadata": {
        "id": "easyNwHodt1l"
      },
      "outputs": [],
      "source": [
        "En comparant les méthodes, on observe que le Spectral Clustering obtient des partitions plus proches de celles produites par K-Means que du clustering hiérarchique.\n",
        "L’Adjusted Rand Index élevé montre qu’il existe une forte similarité entre les clusters de K-Means et ceux du Spectral, ce qui indique qu’ils détectent une structure comparable dans les données.\n",
        "En revanche, le clustering hiérarchique produit souvent des groupes déséquilibrés et moins nets.\n",
        "Globalement, le Spectral Clustering semble le plus stable et le plus cohérent, surtout si la structure du dataset est complexe (non sphérique ou avec des frontières non linéaires)"
      ]
    },
    {
      "cell_type": "code",
      "execution_count": null,
      "metadata": {
        "id": "HSDPgx1odt1l"
      },
      "outputs": [],
      "source": []
    },
    {
      "cell_type": "code",
      "execution_count": null,
      "metadata": {
        "id": "cmDQUR5adt1l"
      },
      "outputs": [],
      "source": []
    },
    {
      "cell_type": "markdown",
      "metadata": {
        "id": "G1B2Y1vGdt1m"
      },
      "source": [
        "Discuss the obtained scores."
      ]
    },
    {
      "cell_type": "code",
      "execution_count": null,
      "metadata": {
        "id": "TqV03WEmdt1m"
      },
      "outputs": [],
      "source": [
        "Les scores obtenus permettent d’évaluer la qualité du regroupement réalisé par les différents algorithmes.\n",
        "Les valeurs élevées du Rand Index et de l’Adjusted Rand Index indiquent que la majorité des points ont été correctement attribués à leur cluster.\n",
        "De même, les mesures d’homogénéité, de complétude et la V-measure montrent que les clusters formés sont à la fois cohérents (peu d’éléments mal classés) et bien séparés (chaque vraie classe est majoritairement regroupée dans un même cluster).\n",
        "Parmi les méthodes testées, le clustering spectral ressort comme la plus performante, offrant un bon équilibre entre homogénéité et complétude.\n",
        "Le K-Means donne des résultats acceptables mais a du mal à modéliser des formes de clusters non sphériques, tandis que le clustering hiérarchique produit souvent des regroupements moins compacts.\n",
        "Dans l’ensemble, ces résultats confirment que le clustering spectral capte mieux la structure globale des données."
      ]
    },
    {
      "cell_type": "markdown",
      "metadata": {
        "id": "W56hZQxZdt1m"
      },
      "source": [
        "At the beginning of the practical, you noticed the number of classes in the data. After completing all the work, applying silhouette and finding the optimal number of clusters, were you expecting the results you obtained? Can you find an explanation for the result?"
      ]
    },
    {
      "cell_type": "code",
      "execution_count": null,
      "metadata": {
        "id": "2Ysemk8ddt1m"
      },
      "outputs": [],
      "source": [
        "Au début du TP, l’observation du jeu de données laissait penser qu’il existait deux grands groupes principaux, ce qui correspond bien au nombre optimal de clusters trouvé avec la méthode du silhouette score.\n",
        "Les bonnes performances du clustering spectral étaient attendues, car cette méthode est particulièrement efficace lorsque les clusters ne sont pas linéairement séparables. Elle repose sur une matrice de similarité qui permet de détecter des frontières plus complexes entre les points.\n",
        "À l’inverse, le K-Means suppose des clusters sphériques et équidistants, ce qui explique son score plus faible.\n",
        "Le clustering hiérarchique, quant à lui, est sensible à la méthode de liaison et aux valeurs aberrantes, ce qui peut nuire à la qualité des groupes formés.\n",
        "En conclusion, les résultats obtenus sont cohérents avec les attentes théoriques et confirment l’intuition de départ sur la structure des données."
      ]
    }
  ],
  "metadata": {
    "colab": {
      "provenance": [],
      "include_colab_link": true
    },
    "kernelspec": {
      "display_name": "py39",
      "language": "python",
      "name": "py39"
    },
    "language_info": {
      "codemirror_mode": {
        "name": "ipython",
        "version": 3
      },
      "file_extension": ".py",
      "mimetype": "text/x-python",
      "name": "python",
      "nbconvert_exporter": "python",
      "pygments_lexer": "ipython3",
      "version": "3.9.16"
    }
  },
  "nbformat": 4,
  "nbformat_minor": 0
}